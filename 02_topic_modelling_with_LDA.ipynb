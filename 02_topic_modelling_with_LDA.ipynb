{
 "cells": [
  {
   "cell_type": "markdown",
   "metadata": {},
   "source": [
    "|<i> Note: This notebook is inspired by the Topic-Modeling-Latent-Dirichlet-Allocation series at: https://github.com/rhasanbd/Topic-Modeling-Latent-Dirichlet-Allocation </i>"
   ]
  },
  {
   "cell_type": "markdown",
   "metadata": {},
   "source": [
    "## Latent Dirichlet Allocation - Implementation on Yelp dataset\n",
    "\n",
    "In this notebook, we implement Latent Dirichlet Allocation(LDA) on the Yelp reviews data to carry out Topic Modelling. We use the Gensim topic modelling API https://radimrehurek.com/gensim/models/ldamodel.html. Scikit-Learn implementation is also available (we use Gensim since it provides more functionality and application like Topic Coherence Pipeline or Dynamic Topic Modeling.)\n",
    "\n",
    "We build an **end-to-end Natural Language Processing (NLP) pipeline**, starting with raw data and running through preparing, modeling, visualization.\n",
    "The steps that we will carry out involves the following:\n",
    "1. Exploratory Data Analysis\n",
    "2. Data Cleaning and Pre-processing\n",
    "3. Topic modeling with LDA\n",
    "4. Determine optimal number of Topics\n",
    "5. Visualize topic model using pyLDAvis"
   ]
  },
  {
   "cell_type": "code",
   "execution_count": 1,
   "metadata": {},
   "outputs": [
    {
     "name": "stdout",
     "output_type": "stream",
     "text": [
      "Populating the interactive namespace from numpy and matplotlib\n"
     ]
    },
    {
     "name": "stderr",
     "output_type": "stream",
     "text": [
      "[nltk_data] Downloading package wordnet to\n",
      "[nltk_data]     C:\\Users\\rojin\\AppData\\Roaming\\nltk_data...\n",
      "[nltk_data]   Package wordnet is already up-to-date!\n"
     ]
    }
   ],
   "source": [
    "%pylab inline\n",
    "import pandas as pd\n",
    "import pickle as pk\n",
    "from scipy import sparse as sp\n",
    "\n",
    "import nltk\n",
    "nltk.download('wordnet')\n",
    "\n",
    "from pymongo import MongoClient"
   ]
  },
  {
   "cell_type": "markdown",
   "metadata": {},
   "source": [
    "## Load & Explore the Data"
   ]
  },
  {
   "cell_type": "code",
   "execution_count": 2,
   "metadata": {},
   "outputs": [
    {
     "data": {
      "text/html": [
       "<div>\n",
       "<style scoped>\n",
       "    .dataframe tbody tr th:only-of-type {\n",
       "        vertical-align: middle;\n",
       "    }\n",
       "\n",
       "    .dataframe tbody tr th {\n",
       "        vertical-align: top;\n",
       "    }\n",
       "\n",
       "    .dataframe thead th {\n",
       "        text-align: right;\n",
       "    }\n",
       "</style>\n",
       "<table border=\"1\" class=\"dataframe\">\n",
       "  <thead>\n",
       "    <tr style=\"text-align: right;\">\n",
       "      <th></th>\n",
       "      <th>reviews</th>\n",
       "    </tr>\n",
       "  </thead>\n",
       "  <tbody>\n",
       "    <tr>\n",
       "      <th>0</th>\n",
       "      <td>During the recent Yelp scavenger hunt event my...</td>\n",
       "    </tr>\n",
       "    <tr>\n",
       "      <th>1</th>\n",
       "      <td>Bolt is within walking distance of The Drake H...</td>\n",
       "    </tr>\n",
       "    <tr>\n",
       "      <th>2</th>\n",
       "      <td>Apteka was one the highest rated places I have...</td>\n",
       "    </tr>\n",
       "    <tr>\n",
       "      <th>3</th>\n",
       "      <td>When people say Korean food, what do you think...</td>\n",
       "    </tr>\n",
       "    <tr>\n",
       "      <th>4</th>\n",
       "      <td>NOM NOM NOM! \\n\\nHow did it take me so long to...</td>\n",
       "    </tr>\n",
       "  </tbody>\n",
       "</table>\n",
       "</div>"
      ],
      "text/plain": [
       "                                             reviews\n",
       "0  During the recent Yelp scavenger hunt event my...\n",
       "1  Bolt is within walking distance of The Drake H...\n",
       "2  Apteka was one the highest rated places I have...\n",
       "3  When people say Korean food, what do you think...\n",
       "4  NOM NOM NOM! \\n\\nHow did it take me so long to..."
      ]
     },
     "execution_count": 2,
     "metadata": {},
     "output_type": "execute_result"
    }
   ],
   "source": [
    "client = MongoClient(\"mongodb://localhost:27017/\")\n",
    "db = client.yelp_database\n",
    "df = pd.DataFrame(db.business_restaurant.find({},{\"reviews.text\":1, \"_id\":0}))\n",
    "df = df.applymap(lambda x : x[0]['text'])\n",
    "df.head() #Quick Check of the data"
   ]
  },
  {
   "cell_type": "code",
   "execution_count": 3,
   "metadata": {},
   "outputs": [
    {
     "name": "stdout",
     "output_type": "stream",
     "text": [
      "The total number of reviews is: 8688\n"
     ]
    }
   ],
   "source": [
    "print(\"The total number of reviews is:\", df.shape[0])"
   ]
  },
  {
   "cell_type": "code",
   "execution_count": 4,
   "metadata": {},
   "outputs": [
    {
     "name": "stdout",
     "output_type": "stream",
     "text": [
      "<class 'pandas.core.frame.DataFrame'>\n",
      "RangeIndex: 8688 entries, 0 to 8687\n",
      "Data columns (total 1 columns):\n",
      "reviews    8688 non-null object\n",
      "dtypes: object(1)\n",
      "memory usage: 68.0+ KB\n"
     ]
    }
   ],
   "source": [
    "df.info() # View data description (Total rows, Column names, type and number of non-null values)"
   ]
  },
  {
   "cell_type": "code",
   "execution_count": 5,
   "metadata": {},
   "outputs": [
    {
     "name": "stdout",
     "output_type": "stream",
     "text": [
      "Dimension of the data:  (8688, 1)\n",
      "No. of Rows: 8688\n",
      "No. of Columns: 1\n"
     ]
    }
   ],
   "source": [
    "print(\"Dimension of the data: \", df.shape) # View data dimension\n",
    "\n",
    "no_of_rows = df.shape[0]\n",
    "no_of_columns = df.shape[1]\n",
    "\n",
    "print(\"No. of Rows: %d\" % no_of_rows)\n",
    "print(\"No. of Columns: %d\" % no_of_columns)"
   ]
  },
  {
   "cell_type": "markdown",
   "metadata": {},
   "source": [
    "## Convert the Text column into a 2D Array of Documents\n",
    "\n",
    "- We convert the documents from the text column to an array of documents.\n",
    "\n",
    "- It's a 2D array in which each row reprents a document."
   ]
  },
  {
   "cell_type": "code",
   "execution_count": 6,
   "metadata": {},
   "outputs": [
    {
     "name": "stdout",
     "output_type": "stream",
     "text": [
      "Dimension of the documents array:  (8688,)\n",
      "\n",
      "Have been to the Salt Cellar countless times over the years. Cannot believe I've never left a review here. Interesting underground restaurant that is very easy to miss if you do not know where it is. It's a small little door on the top but a huge restaurant Underground. Has very good seafood for Arizona. Flown in fresh and cooked to order properly. They also do a great happy hour so you can try some of their Specialties at a discounted price on food and drink. Fun place to come and check out with some friends.\n"
     ]
    }
   ],
   "source": [
    "from array import array\n",
    "\n",
    "docs_array = np.array(df['reviews']) # Convert the 'reviews' column into array\n",
    "\n",
    "print(\"Dimension of the documents array: \", docs_array.shape) # View dimensions of new array\n",
    "print()\n",
    "print(docs_array[6]) # View a document"
   ]
  },
  {
   "cell_type": "markdown",
   "metadata": {},
   "source": [
    "## Pre-process the Data\n",
    "\n",
    "Pre-processing of the text data is done using the following steps:\n",
    "\n",
    "- Convert to lowercase \n",
    "- Tokenize (split the documents into tokens or words)\n",
    "- Remove numbers, but not words that contain numbers\n",
    "- Remove words that are only a single character\n",
    "- Lemmatize the tokens/words\n",
    "\n",
    "\n",
    "### Tokenization and Lemmatization\n",
    "\n",
    "- We convert all the words into lowercase then tokenize each word using NLTK Regular-Expression Tokenizer class \"RegexpTokenizer\". \n",
    "- It splits a given string to substrings using a regular expression. \n",
    "- Then we remove numbers and single character words since they usually don't impart much useful information and are very high in number.\n",
    "- Finally, we lemmatize the tokens using WordNetLemmatizer from NLTK, where we extract the root words of the tokens using the dictionary."
   ]
  },
  {
   "cell_type": "code",
   "execution_count": 7,
   "metadata": {},
   "outputs": [],
   "source": [
    "from nltk.stem.wordnet import WordNetLemmatizer\n",
    "from nltk.tokenize import RegexpTokenizer\n",
    "\n",
    "def docs_preprocessor(docs):\n",
    "    '''Function to Convert the 2D Document Array into a 2D Array of Processed Words'''\n",
    "    tokenizer = RegexpTokenizer(r'\\w+') # Tokenize the words\n",
    "    \n",
    "    for idx in range(len(docs)):\n",
    "        docs[idx] = docs[idx].lower()  # Convert doc to lowercase\n",
    "        docs[idx] = tokenizer.tokenize(docs[idx])  # Split doc into words\n",
    "\n",
    "    # Remove numbers, but not words that contain numbers\n",
    "    docs = [[token for token in doc if not token.isdigit()] for doc in docs]\n",
    "    \n",
    "    # Remove words with only one character\n",
    "    docs = [[token for token in doc if len(token) > 3] for doc in docs]\n",
    "    \n",
    "    # Lemmatize all words\n",
    "    lemmatizer = WordNetLemmatizer()\n",
    "    docs = [[lemmatizer.lemmatize(token) for token in doc] for doc in docs]\n",
    "  \n",
    "    return docs"
   ]
  },
  {
   "cell_type": "markdown",
   "metadata": {},
   "source": [
    "- Now we convert the 2D Document Array into a 2D Array of Tokenized Words using the above function"
   ]
  },
  {
   "cell_type": "code",
   "execution_count": 8,
   "metadata": {},
   "outputs": [
    {
     "name": "stdout",
     "output_type": "stream",
     "text": [
      "Wall time: 0 ns\n",
      "Length of the 2D Array of Tokenized Documents:  8688\n"
     ]
    }
   ],
   "source": [
    "%time \n",
    "docs = docs_preprocessor(docs_array)\n",
    "print(\"Length of the 2D Array of Tokenized Documents: \", len(docs))"
   ]
  },
  {
   "cell_type": "code",
   "execution_count": 9,
   "metadata": {},
   "outputs": [
    {
     "name": "stdout",
     "output_type": "stream",
     "text": [
      "[['during', 'recent', 'yelp', 'scavenger', 'hunt', 'event', 'husband', 'this', 'place', 'last', 'venue', 'were', 'pretty', 'full', 'from', 'eating', 'elsewhere', 'told', 'them', 'they', 'would', 'sample', 'would', 'home', 'they', 'were', 'more', 'than', 'happy', 'this', 'asked', 'them', 'other', 'location', 'were', 'concerned', 'this', 'only', 'city', 'greek', 'themed', 'when', 'finally', 'were', 'able', 'have', 'doggie', 'pleased', 'that', 'they', 'gave', 'small', 'gyro', 'which', 'their', 'specialty', 'along', 'with', 'lemon', 'chicken', 'soup', 'oyster', 'cracker', 'believe', 'disappoint', 'just', 'enough', 'light', 'meal', 'later', 'they', 'have', 'reward', 'program', 'that', 'sandwich', 'salad', 'then', 'free', 'when', 'home', 'chance', 'review', 'menu', 'detail', 'serve', 'vegetarian', 'gyro', 'specialty', 'burger', 'specialty', 'sandwich', 'along', 'with', 'side', 'everything', 'carte', 'however', 'side', 'fry', 'coleslaw', 'reduced', 'price', 'order', 'sandwich', 'breakfast', 'item', 'available', 'well', 'which', 'doe', 'includes', 'omelette', 'breakfast', 'sandwich', 'pancake', 'french', 'toast', 'egg', 'your', 'expect', 'little', 'more', 'since', 'airport', 'they', 'with', 'some', 'neighborhood', 'diner', 'have', 'visited', 'since', 'part', 'fast', 'casual', 'approach', 'expect', 'table', 'service', 'however', 'there', 'food', 'court', 'eating', 'area', 'behind', 'fast', 'food', 'eatery', 'left', 'side', 'center', 'core', 'they', 'offer', 'white', 'substitute', 'have', 'health', 'issue', 'only', 'thing', 'found', 'lacking', 'their', 'menu', 'dessert', 'they', 'offer', 'rice', 'pudding', 'expect', 'those', 'gigantic', 'pie', 'cake', 'would', 'normally', 'find', 'still', 'they', 'have', 'good', 'variety', 'greek', 'fare', 'selection', 'which', 'novel', 'approach', 'casual', 'dining', 'whether', 'plan', 'there', 'take', 'with', 'flight', 'that', 'passenger', 'visit', 'airside', 'terminal', 'during', 'weekday', 'only', 'this', 'place', 'must', 'return', 'next', 'time', 'find', 'myself', 'that'], ['bolt', 'within', 'walking', 'distance', 'drake', 'hotel', 'which', 'adored', 'great', 'need', 'your', 'green', 'smoothy', 'drink', 'staff', 'here', 'super', 'friendly', 'didn', 'chance', 'check', 'their', 'solid', 'food', 'what', 'appreciated', 'most', 'about', 'their', 'willingness', 'accommodate', 'dietary', 'need', 'including', 'allergen', 'coconut', 'almond', 'might', 'seem', 'like', 'deal', 'note', 'however', 'many', 'site', 'coconut', 'almond', 'milk', 'offer', 'alternative', 'very', 'open', 'about', 'being', 'first', 'time', 'they', 'were', 'kind', 'walk', 'through', 'their', 'ordering', 'process', 'give', 'some', 'insight', 'they', 'also', 'sell', 'particular', 'brand', 'cold', 'pressed', 'juice', 'which', 'craving', 'more', 'left', 'city', 'best', 'activated', 'charcoal', 'cold', 'pressed', 'juice', 'those', 'crazy', 'night', 'need', 'recover', 'from', 'when', 'back', 'neighbourhood', 'will', 'definitely', 'swinging', 'back']]\n"
     ]
    }
   ],
   "source": [
    "print(docs[0:2]) #Display the first two documents with tokenized words"
   ]
  },
  {
   "cell_type": "markdown",
   "metadata": {},
   "source": [
    "## Remove all stop words"
   ]
  },
  {
   "cell_type": "markdown",
   "metadata": {},
   "source": [
    "- Stop words are words like “and”, “the”, “him”, which are presumed to be uninformative in representing the content of a text. \n",
    "- The stop words may be removed to avoid them being construed as signal for prediction.\n",
    "- To remove the stop words, we use the \"stopwords\" module from the nltk library."
   ]
  },
  {
   "cell_type": "code",
   "execution_count": 10,
   "metadata": {},
   "outputs": [
    {
     "name": "stderr",
     "output_type": "stream",
     "text": [
      "[nltk_data] Downloading package stopwords to\n",
      "[nltk_data]     C:\\Users\\rojin\\AppData\\Roaming\\nltk_data...\n",
      "[nltk_data]   Package stopwords is already up-to-date!\n"
     ]
    },
    {
     "data": {
      "text/plain": [
       "['i', 'me', 'my', 'myself', 'we']"
      ]
     },
     "execution_count": 10,
     "metadata": {},
     "output_type": "execute_result"
    }
   ],
   "source": [
    "# Load library\n",
    "from nltk.corpus import stopwords\n",
    "\n",
    "# You will have to download the set of stop words the first time\n",
    "import nltk\n",
    "nltk.download('stopwords')\n",
    "\n",
    "# Load stop words\n",
    "stop_words = stopwords.words('english')\n",
    "\n",
    "# Show stop words\n",
    "stop_words[:5]"
   ]
  },
  {
   "cell_type": "code",
   "execution_count": 11,
   "metadata": {},
   "outputs": [],
   "source": [
    "# Remove all stop words from the doc\n",
    "for i in range(len(docs)):\n",
    "    docs[i] = [word for word in docs[i] if word not in stop_words]"
   ]
  },
  {
   "cell_type": "markdown",
   "metadata": {},
   "source": [
    "## Compute Bigrams/Trigrams:\n",
    "\n",
    "- N-grams are combinations of adjacent words or letters of length 'n' that you can find in your source text. These combinations of words carry a special meaning. For example: car-pool is an n-gram formed using the two words car and pool that carries a distinct meaning different from the individual words. \n",
    "\n",
    "- If n=2, it is called a Bigram and if n=3, it is called a Trigram.\n",
    "\n",
    "- We find all the combinations of Bigrams and Trigrams. Then, we keep only the frequent phrases. \n",
    "- We finally add the frequent phrases to the original data, since we would like to keep the words “car” and “pool” as well as the bigram “car_pool”."
   ]
  },
  {
   "cell_type": "code",
   "execution_count": 12,
   "metadata": {},
   "outputs": [],
   "source": [
    "from gensim.models import Phrases\n",
    "\n",
    "bigram = Phrases(docs, min_count=10, threshold=100) # Add bigrams (if appears 10 times or more)\n",
    "trigram = Phrases(bigram[docs], min_count=10, threshold=100) # Add trigrams (if appears 10 times or more)\n",
    "\n",
    "for idx in range(len(docs)):\n",
    "    for token in bigram[docs[idx]]:\n",
    "        if '_' in token:\n",
    "            docs[idx].append(token)  # Token is a bigram, add to document\n",
    "    for token in trigram[docs[idx]]:\n",
    "        if '_' in token:\n",
    "            docs[idx].append(token)  # Token is a trigram, add to document"
   ]
  },
  {
   "cell_type": "code",
   "execution_count": 13,
   "metadata": {},
   "outputs": [
    {
     "name": "stdout",
     "output_type": "stream",
     "text": [
      "Number of unique words in initital documents: 26831\n"
     ]
    }
   ],
   "source": [
    "from gensim.corpora import Dictionary\n",
    "\n",
    "dictionary = Dictionary(docs) # Create a dictionary representation of the documents\n",
    "print('Number of unique words in initital documents:', len(dictionary))"
   ]
  },
  {
   "cell_type": "markdown",
   "metadata": {},
   "source": [
    "## Remove Rare and Common Tokens/Words\n",
    "\n",
    "- We remove in-frequent words from our dictionary. \n",
    "- We also remove words that appear frequently in most documents."
   ]
  },
  {
   "cell_type": "code",
   "execution_count": 14,
   "metadata": {},
   "outputs": [
    {
     "name": "stdout",
     "output_type": "stream",
     "text": [
      "Number of unique words after removing rare and common words: 5368\n"
     ]
    }
   ],
   "source": [
    "# Filter out words that occur less than 10 documents, or more than 10% of the documents\n",
    "dictionary.filter_extremes(no_below=10, no_above=0.10) \n",
    "\n",
    "print('Number of unique words after removing rare and common words:', len(dictionary))"
   ]
  },
  {
   "cell_type": "markdown",
   "metadata": {},
   "source": [
    "## Bag-of-Words Representation of Data\n",
    "\n",
    "\n",
    "- We transform the documents to a **vectorized form**. \n",
    "\n",
    "- We simply compute the frequency of each word, including the bigrams/trigrams."
   ]
  },
  {
   "cell_type": "code",
   "execution_count": 15,
   "metadata": {},
   "outputs": [
    {
     "name": "stdout",
     "output_type": "stream",
     "text": [
      "Number of unique tokens: 5368\n",
      "Number of documents: 8688\n"
     ]
    }
   ],
   "source": [
    "corpus = [dictionary.doc2bow(doc) for doc in docs] # Bag-of-words representation of the docs\n",
    "\n",
    "print('Number of unique tokens: %d' % len(dictionary))\n",
    "print('Number of documents: %d' % len(corpus))"
   ]
  },
  {
   "cell_type": "markdown",
   "metadata": {},
   "source": [
    "## Training the LDA Model\n",
    "\n",
    "- We use the gensim.models.LdaModel class for performing LDA. [https://radimrehurek.com/gensim/models/ldamodel.html]\n",
    "- This module allows both LDA model estimation from a training corpus and inference of topic distribution on new, unseen documents. \n",
    "\n",
    "#### The key parameters in this model are chosen as shown beloew:\n",
    "\n",
    "- **num_topics (int, optional) – The number of requested latent topics to be extracted from the training corpus.**\n",
    "\n",
    "Since this is an supervised learning problem, we do not know how many topics are present in the given dataset. Inroder to determine the number of topics we use the following techniques:\n",
    "\n",
    "Technique 1: Topic Coherence \n",
    "The main technique to determine the number of topics is **Topic coherence** [http://svn.aksw.org/papers/2015/WSDM_Topic_Evaluation/public.pdf]\n",
    "\n",
    "Technique 2: Visualizing Inter-Topic Distance \n",
    "Use the LDA visualization tool pyLDAvis to observe Intertopic Distance Map (discussed later). By varying the number of topics we could determine the optimal value from the visualization.\n",
    "\n",
    "- **chunksize (int, optional) – Number of documents to be used in each training chunk.**\n",
    "\n",
    "It controls how many documents are processed at a time in the training algorithm. Increasing chunksize will speed up training, at least as long as the chunk of documents easily fit into memory. \n",
    "\n",
    "We set chunksize = 10000, which is equal to the amount of documents. Thus, it processes all the data in one go. Chunksize can however influence the quality of the model.\n",
    "\n",
    "- **passes (int, optional) – Number of passes through the corpus during training.**\n",
    "\n",
    "It controls how often we train the model on the entire corpus. Another word for passes might be “epochs”. \n",
    "\n",
    "- **iterations (int, optional) – Maximum number of iterations through the corpus when inferring the topic distribution of a corpus.**\n",
    "\n",
    "It controls how often we repeat a particular loop over each document.\n",
    "\n",
    "- **eval_every (int, optional) – Log perplexity is estimated every that many updates.**\n",
    "\n",
    "Setting this to 1 slows down training by ~2x.\n",
    "\n",
    "\n",
    "- **alpha ({numpy.ndarray, str}, optional): Can be set to an 1D array of length equal to the number of expected topics that expresses our a-priori belief for the each topics’ probability.**         \n",
    "        \n",
    "- **eta ({float, np.array, str}, optional) – A-priori belief on word probability.**\n",
    "\n",
    "We set alpha = 'auto' and eta = 'auto'. Essentially we are automatically learning two parameters in the model that we usually would have to specify explicitly."
   ]
  },
  {
   "cell_type": "code",
   "execution_count": 16,
   "metadata": {},
   "outputs": [
    {
     "name": "stdout",
     "output_type": "stream",
     "text": [
      "Wall time: 3min 21s\n"
     ]
    }
   ],
   "source": [
    "from gensim.models import LdaModel\n",
    "\n",
    "#------Set training parameters\n",
    "num_topics = 9 # Number of topics to discover\n",
    "chunksize = 8688 # Size of the doc looked at every pass\n",
    "passes = 35 # Number of passes through the corpus\n",
    "iterations = 400 # Maximum number of iterations through the corpus when inferring the topic distribution of a corpus\n",
    "eval_every = None  # Don't evaluate model perplexity, takes too much time.\n",
    "\n",
    "#-------Make an index to word dictionary\n",
    "temp = dictionary[0]  # This is only to \"load\" the dictionary\n",
    "id2word = dictionary.id2token\n",
    "\n",
    "%time model = LdaModel(corpus=corpus, id2word=id2word, chunksize=chunksize, \\\n",
    "                       alpha='auto', eta='auto', \\\n",
    "                       iterations=iterations, num_topics=num_topics, \\\n",
    "                       passes=passes, eval_every=eval_every, random_state=0)"
   ]
  },
  {
   "cell_type": "markdown",
   "metadata": {},
   "source": [
    "## Technique 1 for Determining Optimal Number of Topics: Topic Coherence\n",
    "\n",
    "- Topic Coherence is a measure used to evaluate topic models. \n",
    "- A set of statements or facts is said to be coherent, if they support each other. \n",
    "- An example of a coherent fact set is “the game is a team sport”, “the game is played with a ball”, “the game demands great physical efforts”. Each such generated topic consists of words, and the topic coherence is applied to the top N words from the topic. \n",
    "\n",
    "Below we display \n",
    "- the average topic coherence and\n",
    "- print the topics in order of topic coherence\n",
    "\n",
    "- We use LdaModel's \"top_topics\" method to get the topics with highest coherence score for each topic.\n",
    "- Note that we use the “Umass” topic coherence measure here (see gensim.models.ldamodel.LdaModel.top_topics())."
   ]
  },
  {
   "cell_type": "code",
   "execution_count": 17,
   "metadata": {},
   "outputs": [
    {
     "name": "stdout",
     "output_type": "stream",
     "text": [
      "Average topic coherence: -3.2542.\n",
      "[([(0.007950498, 'told'),\n",
      "   (0.0053800517, 'manager'),\n",
      "   (0.0050074374, 'waitress'),\n",
      "   (0.004569946, 'left'),\n",
      "   (0.0041263755, 'business'),\n",
      "   (0.0040160106, 'away'),\n",
      "   (0.0039047233, 'walked'),\n",
      "   (0.003816554, 'waiting'),\n",
      "   (0.003791713, 'owner'),\n",
      "   (0.0036249827, 'looked'),\n",
      "   (0.003618072, 'gave'),\n",
      "   (0.003615429, 'year'),\n",
      "   (0.0034398541, 'someone'),\n",
      "   (0.003400193, 'water'),\n",
      "   (0.0033694864, 'line'),\n",
      "   (0.0033534097, 'later'),\n",
      "   (0.0033080312, 'anything'),\n",
      "   (0.0032832872, 'employee'),\n",
      "   (0.0031821125, 'waited'),\n",
      "   (0.0031360579, 'finally')],\n",
      "  -2.2501967315398983),\n",
      " ([(0.013167798, 'noodle'),\n",
      "   (0.013112263, 'sushi'),\n",
      "   (0.012789463, 'soup'),\n",
      "   (0.011534428, 'roll'),\n",
      "   (0.009455893, 'bowl'),\n",
      "   (0.008074639, 'spicy'),\n",
      "   (0.0058222134, 'fish'),\n",
      "   (0.005401786, 'pork'),\n",
      "   (0.005258772, 'curry'),\n",
      "   (0.005045314, 'broth'),\n",
      "   (0.004900553, 'flavour'),\n",
      "   (0.0048907343, 'ramen'),\n",
      "   (0.004621502, 'chinese'),\n",
      "   (0.004372038, 'shrimp'),\n",
      "   (0.003944107, 'piece'),\n",
      "   (0.003897987, 'korean'),\n",
      "   (0.0034635295, 'vegetable'),\n",
      "   (0.003259005, 'dumpling'),\n",
      "   (0.0030320596, 'buffet'),\n",
      "   (0.0030283765, 'however')],\n",
      "  -2.504197441968827),\n",
      " ([(0.010466064, 'steak'),\n",
      "   (0.008790981, 'bread'),\n",
      "   (0.0071669337, 'dessert'),\n",
      "   (0.007165352, 'potato'),\n",
      "   (0.006414858, 'shrimp'),\n",
      "   (0.006173682, 'cooked'),\n",
      "   (0.006087776, 'plate'),\n",
      "   (0.006071188, 'lobster'),\n",
      "   (0.0059905737, 'mashed_potato'),\n",
      "   (0.0053926203, 'appetizer'),\n",
      "   (0.005023722, 'pasta'),\n",
      "   (0.0049287695, 'medium_rare'),\n",
      "   (0.004548956, 'entree'),\n",
      "   (0.0044587855, 'enjoyed'),\n",
      "   (0.0044256723, 'course'),\n",
      "   (0.0043605682, 'main_course'),\n",
      "   (0.0040920964, 'soup'),\n",
      "   (0.0039751683, 'wine'),\n",
      "   (0.0038269975, 'caesar_salad'),\n",
      "   (0.003770908, 'reservation')],\n",
      "  -2.513770860773827),\n",
      " ([(0.010474324, 'room'),\n",
      "   (0.008305953, 'dining_room'),\n",
      "   (0.007311812, 'gluten_free'),\n",
      "   (0.0065196725, 'dining'),\n",
      "   (0.006396329, 'highly_recommend'),\n",
      "   (0.0053707478, 'hotel'),\n",
      "   (0.0052161715, 'free'),\n",
      "   (0.0049116737, 'chef'),\n",
      "   (0.0044308687, 'game'),\n",
      "   (0.0043817954, 'vega'),\n",
      "   (0.0036832164, 'group'),\n",
      "   (0.003376403, 'patio'),\n",
      "   (0.0033613925, 'city'),\n",
      "   (0.0033586738, 'year'),\n",
      "   (0.003313851, 'wine'),\n",
      "   (0.0032892511, 'cocktail'),\n",
      "   (0.0032347867, 'beautiful'),\n",
      "   (0.0031899256, 'view'),\n",
      "   (0.00315786, 'across_street'),\n",
      "   (0.003144493, 'located')],\n",
      "  -2.9347302196296607),\n",
      " ([(0.013722501, 'coffee'),\n",
      "   (0.008660489, 'cream'),\n",
      "   (0.0063338554, 'chocolate'),\n",
      "   (0.0060459715, 'cake'),\n",
      "   (0.005992758, 'beer'),\n",
      "   (0.005914296, 'shop'),\n",
      "   (0.0055662044, 'cafe'),\n",
      "   (0.005416704, 'milk'),\n",
      "   (0.00495198, 'store'),\n",
      "   (0.004286536, 'parking'),\n",
      "   (0.0042417906, 'dessert'),\n",
      "   (0.004208297, 'strip_mall'),\n",
      "   (0.0040300507, 'shopping_center'),\n",
      "   (0.0036457842, 'sugar'),\n",
      "   (0.0036377157, 'bagel'),\n",
      "   (0.0036013878, 'latte'),\n",
      "   (0.003531036, 'donut'),\n",
      "   (0.0032898216, 'grocery_store'),\n",
      "   (0.0032184378, 'seating'),\n",
      "   (0.003071958, 'located')],\n",
      "  -3.1480318321006986),\n",
      " ([(0.050583236, 'pizza'),\n",
      "   (0.016529614, 'wing'),\n",
      "   (0.011052772, 'burger'),\n",
      "   (0.009037558, 'crust'),\n",
      "   (0.007950821, 'onion_ring'),\n",
      "   (0.006918641, 'topping'),\n",
      "   (0.006455704, 'onion'),\n",
      "   (0.005982813, 'slice'),\n",
      "   (0.0054190443, 'garlic'),\n",
      "   (0.0047241505, 'thin_crust'),\n",
      "   (0.004524712, 'crispy'),\n",
      "   (0.004452031, 'daily_special'),\n",
      "   (0.0043744426, 'italian'),\n",
      "   (0.0040918128, 'tomato'),\n",
      "   (0.0040802006, 'deep_fried'),\n",
      "   (0.003724583, 'style'),\n",
      "   (0.0035964025, 'pepperoni'),\n",
      "   (0.0035962411, 'thin'),\n",
      "   (0.0035899545, 'pita'),\n",
      "   (0.0034797876, 'size')],\n",
      "  -3.4739081056862724),\n",
      " ([(0.035126552, 'taco'),\n",
      "   (0.01299227, 'salsa'),\n",
      "   (0.011614606, 'burrito'),\n",
      "   (0.011575657, 'bean'),\n",
      "   (0.010356188, 'thai'),\n",
      "   (0.010148305, 'chip'),\n",
      "   (0.009874683, 'mexican'),\n",
      "   (0.009679033, 'carne_asada'),\n",
      "   (0.009413763, 'spring_roll'),\n",
      "   (0.009179325, 'chip_salsa'),\n",
      "   (0.008719898, 'pork'),\n",
      "   (0.008458727, 'pork_belly'),\n",
      "   (0.0072172247, 'black_bean'),\n",
      "   (0.0067811706, 'tortilla'),\n",
      "   (0.006617686, 'sour_cream'),\n",
      "   (0.006535439, 'spicy'),\n",
      "   (0.005825953, 'green'),\n",
      "   (0.0049959943, 'shrimp'),\n",
      "   (0.004317741, 'guacamole'),\n",
      "   (0.0039353017, 'chili')],\n",
      "  -3.9260810581322985),\n",
      " ([(0.02531707, 'burger'),\n",
      "   (0.02006293, 'breakfast'),\n",
      "   (0.01224762, 'egg'),\n",
      "   (0.012133834, 'bacon'),\n",
      "   (0.011218423, 'drive_thru'),\n",
      "   (0.0091128135, 'toast'),\n",
      "   (0.009036157, 'brunch'),\n",
      "   (0.007890014, 'french_toast'),\n",
      "   (0.006762108, 'potato'),\n",
      "   (0.0067256778, 'pancake'),\n",
      "   (0.006275235, 'fast'),\n",
      "   (0.005572557, 'waffle'),\n",
      "   (0.0054023135, 'drive'),\n",
      "   (0.0051859007, 'sandwich'),\n",
      "   (0.0042467313, 'reasonably_priced'),\n",
      "   (0.004233014, 'hash_brown'),\n",
      "   (0.0042121857, 'thru'),\n",
      "   (0.0038924643, 'bloody_mary'),\n",
      "   (0.0038840375, 'sausage'),\n",
      "   (0.0037695114, 'french')],\n",
      "  -4.0798421798801705),\n",
      " ([(0.040195663, 'happy_hour'),\n",
      "   (0.033068493, 'sandwich'),\n",
      "   (0.01041412, 'beer'),\n",
      "   (0.009639731, 'five_star'),\n",
      "   (0.007542843, 'pulled_pork'),\n",
      "   (0.007058502, 'bread'),\n",
      "   (0.0055951695, 'wine'),\n",
      "   (0.004255171, 'turkey'),\n",
      "   (0.004185829, 'five'),\n",
      "   (0.0041008634, 'corned_beef'),\n",
      "   (0.0040854304, 'pork'),\n",
      "   (0.0038845115, 'brisket'),\n",
      "   (0.0037829292, 'chip'),\n",
      "   (0.0036168792, 'deli'),\n",
      "   (0.0035464242, 'lettuce_tomato'),\n",
      "   (0.0034126036, 'pour'),\n",
      "   (0.0031485034, 'cocktail'),\n",
      "   (0.003122046, 'bartender'),\n",
      "   (0.003045411, 'pulled'),\n",
      "   (0.0029849662, 'local')],\n",
      "  -4.456982057419593)]\n"
     ]
    }
   ],
   "source": [
    "top_topics = model.top_topics(corpus)\n",
    "\n",
    "# Average topic coherence is the sum of topic coherences of all topics, divided by the number of topics.\n",
    "avg_topic_coherence = sum([t[1] for t in top_topics]) / num_topics\n",
    "print('Average topic coherence: %.4f.' % avg_topic_coherence)\n",
    "\n",
    "from pprint import pprint\n",
    "pprint(top_topics)"
   ]
  },
  {
   "cell_type": "markdown",
   "metadata": {},
   "source": [
    "## Technique 2 for Determining Optimal Number of Topics: Visualization\n",
    "\n",
    "- We use **pyLDAvis** to interpret the topics in a topic model that has been fit to a corpus of text data. \n",
    "\n",
    "- It extracts information from a fitted LDA topic model to inform an interactive web-based visualization."
   ]
  },
  {
   "cell_type": "code",
   "execution_count": 18,
   "metadata": {},
   "outputs": [
    {
     "name": "stderr",
     "output_type": "stream",
     "text": [
      "c:\\users\\rojin\\appdata\\local\\programs\\python\\python37\\lib\\site-packages\\pyLDAvis\\_prepare.py:257: FutureWarning: Sorting because non-concatenation axis is not aligned. A future version\n",
      "of pandas will change to not sort by default.\n",
      "\n",
      "To accept the future behavior, pass 'sort=False'.\n",
      "\n",
      "To retain the current behavior and silence the warning, pass 'sort=True'.\n",
      "\n",
      "  return pd.concat([default_term_info] + list(topic_dfs))\n"
     ]
    },
    {
     "data": {
      "text/html": [
       "\n",
       "<link rel=\"stylesheet\" type=\"text/css\" href=\"https://cdn.rawgit.com/bmabey/pyLDAvis/files/ldavis.v1.0.0.css\">\n",
       "\n",
       "\n",
       "<div id=\"ldavis_el953221850498048725753599889\"></div>\n",
       "<script type=\"text/javascript\">\n",
       "\n",
       "var ldavis_el953221850498048725753599889_data = {\"mdsDat\": {\"x\": [0.13263342206046017, -0.07503535099794849, -0.0847512574863995, 0.11742492814849581, 0.07564526658432656, -0.03307975701553218, -0.13629899202538154, -0.026779696106161193, 0.03024143683814099], \"y\": [0.11615866377181595, -0.0024468690541700395, -0.12874933692310023, -0.09340888786739882, -0.016655756603696417, 0.011946775173895391, 0.07661422544424916, 0.07963275156769721, -0.04309156550929214], \"topics\": [1, 2, 3, 4, 5, 6, 7, 8, 9], \"cluster\": [1, 1, 1, 1, 1, 1, 1, 1, 1], \"Freq\": [18.5898380279541, 16.272350311279297, 11.986104965209961, 11.887701988220215, 11.271734237670898, 8.27293872833252, 7.749578952789307, 7.748004913330078, 6.221747875213623]}, \"tinfo\": {\"Category\": [\"Default\", \"Default\", \"Default\", \"Default\", \"Default\", \"Default\", \"Default\", \"Default\", \"Default\", \"Default\", \"Default\", \"Default\", \"Default\", \"Default\", \"Default\", \"Default\", \"Default\", \"Default\", \"Default\", \"Default\", \"Default\", \"Default\", \"Default\", \"Default\", \"Default\", \"Default\", \"Default\", \"Default\", \"Default\", \"Default\", \"Topic1\", \"Topic1\", \"Topic1\", \"Topic1\", \"Topic1\", \"Topic1\", \"Topic1\", \"Topic1\", \"Topic1\", \"Topic1\", \"Topic1\", \"Topic1\", \"Topic1\", \"Topic1\", \"Topic1\", \"Topic1\", \"Topic1\", \"Topic1\", \"Topic1\", \"Topic1\", \"Topic1\", \"Topic1\", \"Topic1\", \"Topic1\", \"Topic1\", \"Topic1\", \"Topic1\", \"Topic1\", \"Topic1\", \"Topic1\", \"Topic1\", \"Topic1\", \"Topic1\", \"Topic1\", \"Topic1\", \"Topic1\", \"Topic1\", \"Topic1\", \"Topic1\", \"Topic1\", \"Topic1\", \"Topic1\", \"Topic1\", \"Topic1\", \"Topic1\", \"Topic1\", \"Topic1\", \"Topic1\", \"Topic1\", \"Topic1\", \"Topic1\", \"Topic1\", \"Topic1\", \"Topic1\", \"Topic1\", \"Topic1\", \"Topic1\", \"Topic1\", \"Topic1\", \"Topic1\", \"Topic1\", \"Topic1\", \"Topic1\", \"Topic1\", \"Topic1\", \"Topic1\", \"Topic1\", \"Topic1\", \"Topic1\", \"Topic1\", \"Topic1\", \"Topic1\", \"Topic1\", \"Topic1\", \"Topic1\", \"Topic1\", \"Topic1\", \"Topic1\", \"Topic1\", \"Topic1\", \"Topic1\", \"Topic2\", \"Topic2\", \"Topic2\", \"Topic2\", \"Topic2\", \"Topic2\", \"Topic2\", \"Topic2\", \"Topic2\", \"Topic2\", \"Topic2\", \"Topic2\", \"Topic2\", \"Topic2\", \"Topic2\", \"Topic2\", \"Topic2\", \"Topic2\", \"Topic2\", \"Topic2\", \"Topic2\", \"Topic2\", \"Topic2\", \"Topic2\", \"Topic2\", \"Topic2\", \"Topic2\", \"Topic2\", \"Topic2\", \"Topic2\", \"Topic2\", \"Topic2\", \"Topic2\", \"Topic2\", \"Topic2\", \"Topic2\", \"Topic2\", \"Topic2\", \"Topic2\", \"Topic2\", \"Topic2\", \"Topic2\", \"Topic2\", \"Topic2\", \"Topic2\", \"Topic2\", \"Topic2\", \"Topic2\", \"Topic2\", \"Topic2\", \"Topic2\", \"Topic2\", \"Topic2\", \"Topic2\", \"Topic2\", \"Topic2\", \"Topic2\", \"Topic2\", \"Topic2\", \"Topic2\", \"Topic2\", \"Topic3\", \"Topic3\", \"Topic3\", \"Topic3\", \"Topic3\", \"Topic3\", \"Topic3\", \"Topic3\", \"Topic3\", \"Topic3\", \"Topic3\", \"Topic3\", \"Topic3\", \"Topic3\", \"Topic3\", \"Topic3\", \"Topic3\", \"Topic3\", \"Topic3\", \"Topic3\", \"Topic3\", \"Topic3\", \"Topic3\", \"Topic3\", \"Topic3\", \"Topic3\", \"Topic3\", \"Topic3\", \"Topic3\", \"Topic3\", \"Topic3\", \"Topic3\", \"Topic3\", \"Topic3\", \"Topic3\", \"Topic3\", \"Topic3\", \"Topic3\", \"Topic3\", \"Topic3\", \"Topic3\", \"Topic3\", \"Topic3\", \"Topic3\", \"Topic3\", \"Topic3\", \"Topic3\", \"Topic3\", \"Topic3\", \"Topic3\", \"Topic3\", \"Topic3\", \"Topic3\", \"Topic3\", \"Topic3\", \"Topic3\", \"Topic3\", \"Topic3\", \"Topic3\", \"Topic3\", \"Topic3\", \"Topic3\", \"Topic3\", \"Topic3\", \"Topic3\", \"Topic3\", \"Topic3\", \"Topic3\", \"Topic4\", \"Topic4\", \"Topic4\", \"Topic4\", \"Topic4\", \"Topic4\", \"Topic4\", \"Topic4\", \"Topic4\", \"Topic4\", \"Topic4\", \"Topic4\", \"Topic4\", \"Topic4\", \"Topic4\", \"Topic4\", \"Topic4\", \"Topic4\", \"Topic4\", \"Topic4\", \"Topic4\", \"Topic4\", \"Topic4\", \"Topic4\", \"Topic4\", \"Topic4\", \"Topic4\", \"Topic4\", \"Topic4\", \"Topic4\", \"Topic4\", \"Topic4\", \"Topic4\", \"Topic4\", \"Topic4\", \"Topic4\", \"Topic4\", \"Topic4\", \"Topic4\", \"Topic4\", \"Topic4\", \"Topic4\", \"Topic4\", \"Topic4\", \"Topic4\", \"Topic4\", \"Topic4\", \"Topic4\", \"Topic4\", \"Topic4\", \"Topic4\", \"Topic4\", \"Topic4\", \"Topic4\", \"Topic4\", \"Topic4\", \"Topic4\", \"Topic4\", \"Topic4\", \"Topic4\", \"Topic4\", \"Topic4\", \"Topic4\", \"Topic4\", \"Topic4\", \"Topic4\", \"Topic4\", \"Topic4\", \"Topic4\", \"Topic4\", \"Topic4\", \"Topic5\", \"Topic5\", \"Topic5\", \"Topic5\", \"Topic5\", \"Topic5\", \"Topic5\", \"Topic5\", \"Topic5\", \"Topic5\", \"Topic5\", \"Topic5\", \"Topic5\", \"Topic5\", \"Topic5\", \"Topic5\", \"Topic5\", \"Topic5\", \"Topic5\", \"Topic5\", \"Topic5\", \"Topic5\", \"Topic5\", \"Topic5\", \"Topic5\", \"Topic5\", \"Topic5\", \"Topic5\", \"Topic5\", \"Topic5\", \"Topic5\", \"Topic5\", \"Topic5\", \"Topic5\", \"Topic5\", \"Topic5\", \"Topic5\", \"Topic5\", \"Topic5\", \"Topic5\", \"Topic5\", \"Topic5\", \"Topic5\", \"Topic5\", \"Topic5\", \"Topic5\", \"Topic5\", \"Topic5\", \"Topic5\", \"Topic5\", \"Topic5\", \"Topic5\", \"Topic5\", \"Topic5\", \"Topic5\", \"Topic5\", \"Topic5\", \"Topic5\", \"Topic5\", \"Topic5\", \"Topic5\", \"Topic5\", \"Topic5\", \"Topic5\", \"Topic5\", \"Topic5\", \"Topic5\", \"Topic5\", \"Topic5\", \"Topic5\", \"Topic5\", \"Topic5\", \"Topic6\", \"Topic6\", \"Topic6\", \"Topic6\", \"Topic6\", \"Topic6\", \"Topic6\", \"Topic6\", \"Topic6\", \"Topic6\", \"Topic6\", \"Topic6\", \"Topic6\", \"Topic6\", \"Topic6\", \"Topic6\", \"Topic6\", \"Topic6\", \"Topic6\", \"Topic6\", \"Topic6\", \"Topic6\", \"Topic6\", \"Topic6\", \"Topic6\", \"Topic6\", \"Topic6\", \"Topic6\", \"Topic6\", \"Topic6\", \"Topic6\", \"Topic6\", \"Topic6\", \"Topic6\", \"Topic6\", \"Topic6\", \"Topic6\", \"Topic6\", \"Topic6\", \"Topic6\", \"Topic6\", \"Topic6\", \"Topic6\", \"Topic6\", \"Topic6\", \"Topic6\", \"Topic6\", \"Topic6\", \"Topic6\", \"Topic6\", \"Topic6\", \"Topic6\", \"Topic6\", \"Topic6\", \"Topic6\", \"Topic6\", \"Topic6\", \"Topic6\", \"Topic6\", \"Topic6\", \"Topic6\", \"Topic6\", \"Topic7\", \"Topic7\", \"Topic7\", \"Topic7\", \"Topic7\", \"Topic7\", \"Topic7\", \"Topic7\", \"Topic7\", \"Topic7\", \"Topic7\", \"Topic7\", \"Topic7\", \"Topic7\", \"Topic7\", \"Topic7\", \"Topic7\", \"Topic7\", \"Topic7\", \"Topic7\", \"Topic7\", \"Topic7\", \"Topic7\", \"Topic7\", \"Topic7\", \"Topic7\", \"Topic7\", \"Topic7\", \"Topic7\", \"Topic7\", \"Topic7\", \"Topic7\", \"Topic7\", \"Topic7\", \"Topic7\", \"Topic7\", \"Topic7\", \"Topic7\", \"Topic7\", \"Topic7\", \"Topic7\", \"Topic7\", \"Topic7\", \"Topic7\", \"Topic7\", \"Topic7\", \"Topic7\", \"Topic7\", \"Topic7\", \"Topic7\", \"Topic7\", \"Topic7\", \"Topic7\", \"Topic7\", \"Topic8\", \"Topic8\", \"Topic8\", \"Topic8\", \"Topic8\", \"Topic8\", \"Topic8\", \"Topic8\", \"Topic8\", \"Topic8\", \"Topic8\", \"Topic8\", \"Topic8\", \"Topic8\", \"Topic8\", \"Topic8\", \"Topic8\", \"Topic8\", \"Topic8\", \"Topic8\", \"Topic8\", \"Topic8\", \"Topic8\", \"Topic8\", \"Topic8\", \"Topic8\", \"Topic8\", \"Topic8\", \"Topic8\", \"Topic8\", \"Topic8\", \"Topic8\", \"Topic8\", \"Topic8\", \"Topic8\", \"Topic8\", \"Topic8\", \"Topic8\", \"Topic8\", \"Topic8\", \"Topic8\", \"Topic8\", \"Topic8\", \"Topic8\", \"Topic8\", \"Topic8\", \"Topic8\", \"Topic8\", \"Topic8\", \"Topic8\", \"Topic8\", \"Topic8\", \"Topic8\", \"Topic8\", \"Topic8\", \"Topic8\", \"Topic8\", \"Topic8\", \"Topic8\", \"Topic8\", \"Topic8\", \"Topic8\", \"Topic9\", \"Topic9\", \"Topic9\", \"Topic9\", \"Topic9\", \"Topic9\", \"Topic9\", \"Topic9\", \"Topic9\", \"Topic9\", \"Topic9\", \"Topic9\", \"Topic9\", \"Topic9\", \"Topic9\", \"Topic9\", \"Topic9\", \"Topic9\", \"Topic9\", \"Topic9\", \"Topic9\", \"Topic9\", \"Topic9\", \"Topic9\", \"Topic9\", \"Topic9\", \"Topic9\", \"Topic9\", \"Topic9\", \"Topic9\", \"Topic9\", \"Topic9\", \"Topic9\", \"Topic9\", \"Topic9\", \"Topic9\", \"Topic9\", \"Topic9\", \"Topic9\", \"Topic9\", \"Topic9\", \"Topic9\", \"Topic9\", \"Topic9\", \"Topic9\", \"Topic9\", \"Topic9\", \"Topic9\", \"Topic9\", \"Topic9\", \"Topic9\", \"Topic9\", \"Topic9\", \"Topic9\", \"Topic9\", \"Topic9\", \"Topic9\", \"Topic9\", \"Topic9\", \"Topic9\"], \"Freq\": [2195.0, 1307.0, 1427.0, 1567.0, 1740.0, 953.0, 1114.0, 1172.0, 825.0, 983.0, 527.0, 525.0, 1505.0, 496.0, 454.0, 619.0, 735.0, 749.0, 520.0, 1250.0, 1069.0, 1155.0, 412.0, 392.0, 448.0, 884.0, 454.0, 371.0, 1155.0, 396.0, 186.26107788085938, 84.8675537109375, 87.76979064941406, 75.77266693115234, 66.62342071533203, 63.59966278076172, 57.51073455810547, 67.43978881835938, 45.47080993652344, 43.467506408691406, 98.64048767089844, 37.4081916809082, 35.410274505615234, 34.3876953125, 27.32309913635254, 27.321889877319336, 24.296205520629883, 53.39007568359375, 21.274532318115234, 26.095722198486328, 165.3695526123047, 48.20325469970703, 19.254520416259766, 19.252365112304688, 21.151216506958008, 17.212526321411133, 17.194454193115234, 16.24420738220215, 15.235485076904297, 15.220331192016602, 521.5050659179688, 100.0742416381836, 67.33391571044922, 85.02424621582031, 49.33988952636719, 45.12080764770508, 145.1831512451172, 145.55532836914062, 64.9000473022461, 770.6663208007812, 256.33135986328125, 148.0311279296875, 179.9087677001953, 53.05427932739258, 220.5454864501953, 299.2344055175781, 308.4519958496094, 117.38089752197266, 285.5702209472656, 369.9504089355469, 485.38641357421875, 277.06005859375, 318.2591857910156, 174.23138427734375, 378.4969177246094, 107.01543426513672, 333.4356994628906, 286.2996520996094, 325.0563659667969, 223.2287139892578, 442.97900390625, 241.07125854492188, 399.98236083984375, 367.5424499511719, 216.9423370361328, 350.7109069824219, 303.98779296875, 296.8919982910156, 389.2843322753906, 351.38079833984375, 329.59124755859375, 320.65771484375, 326.61474609375, 256.2294921875, 350.4547119140625, 295.9546813964844, 287.32769775390625, 276.71673583984375, 303.74468994140625, 297.9507751464844, 287.1302795410156, 1112.5623779296875, 414.9739074707031, 206.22816467285156, 226.91798400878906, 175.3358917236328, 124.5486831665039, 122.5699234008789, 116.6061782836914, 125.48296356201172, 80.7513427734375, 88.5902328491211, 74.7786865234375, 127.7846908569336, 88.43775939941406, 62.81924057006836, 59.847721099853516, 58.845008850097656, 55.849727630615234, 55.84244155883789, 55.835426330566406, 59.644630432128906, 44.905948638916016, 44.90827178955078, 87.84874725341797, 43.90745544433594, 233.18695068359375, 42.88871383666992, 231.64646911621094, 53.4456901550293, 35.91582107543945, 330.74029541015625, 173.56080627441406, 204.7506866455078, 1117.2744140625, 135.29396057128906, 428.08984375, 276.5233154296875, 134.0109100341797, 446.2015380859375, 134.32546997070312, 978.6846923828125, 1085.173095703125, 802.3230590820312, 230.46359252929688, 392.12982177734375, 231.91529846191406, 685.1250610351562, 415.8070068359375, 494.00897216796875, 293.87701416015625, 257.2672424316406, 458.3361511230469, 196.2157440185547, 334.6535339355469, 370.9630432128906, 226.41339111328125, 223.4266815185547, 256.2690734863281, 256.9547119140625, 237.74534606933594, 225.79808044433594, 374.4061279296875, 272.5320739746094, 221.7168426513672, 308.0442199707031, 239.184326171875, 146.7761993408203, 144.79632568359375, 176.43858337402344, 92.79844665527344, 77.95135498046875, 68.98131561279297, 59.96124267578125, 59.948707580566406, 61.88102722167969, 77.48087310791016, 48.01791000366211, 47.9975471496582, 127.29588317871094, 47.9468879699707, 43.0236930847168, 39.02973556518555, 47.80402755737305, 37.01509475708008, 70.00369262695312, 33.03106689453125, 43.5416259765625, 41.60441589355469, 159.61019897460938, 21.06243896484375, 15.048598289489746, 379.4444580078125, 115.25375366210938, 114.00279998779297, 215.1219024658203, 89.9727554321289, 163.44015502929688, 61.462738037109375, 132.42071533203125, 126.91058349609375, 654.1207885742188, 162.71408081054688, 156.28587341308594, 81.86671447753906, 313.9786682128906, 549.4293823242188, 163.96446228027344, 166.8908233642578, 447.8288269042969, 337.0345153808594, 284.3061828613281, 447.9277038574219, 400.923583984375, 385.8502502441406, 380.4811706542969, 276.6010437011719, 229.08448791503906, 217.14334106445312, 235.6787872314453, 248.44488525390625, 233.3457794189453, 278.6705627441406, 226.9949188232422, 210.35256958007812, 230.42166137695312, 255.75279235839844, 205.12452697753906, 203.49916076660156, 205.98045349121094, 453.2307434082031, 177.16949462890625, 93.80765533447266, 75.6705093383789, 514.8536987304688, 93.39151000976562, 90.16128540039062, 60.408512115478516, 51.483943939208984, 54.41466522216797, 45.42839050292969, 128.3218994140625, 42.423667907714844, 48.308170318603516, 48.13871765136719, 33.34280776977539, 39.178504943847656, 86.2128677368164, 29.127750396728516, 19.237037658691406, 23.03603744506836, 17.156707763671875, 19.059616088867188, 40.036354064941406, 17.098369598388672, 15.212052345275879, 15.124642372131348, 13.18986988067627, 37.592811584472656, 39.35213851928711, 332.9117431640625, 33.33668899536133, 165.8792724609375, 37.5125846862793, 649.2625732421875, 103.87317657470703, 197.73106384277344, 99.21351623535156, 97.60045623779297, 72.4991683959961, 88.23462677001953, 122.00138854980469, 195.74343872070312, 396.4835205078125, 274.65228271484375, 208.35963439941406, 404.1291198730469, 304.4555358886719, 169.850341796875, 101.83448791503906, 200.51182556152344, 203.8878631591797, 323.3301696777344, 209.29006958007812, 271.6104431152344, 155.8355712890625, 228.30824279785156, 163.06202697753906, 205.4127197265625, 191.81434631347656, 188.37777709960938, 194.91488647460938, 208.19110107421875, 150.61021423339844, 167.3964080810547, 160.73326110839844, 180.95692443847656, 182.84060668945312, 173.45848083496094, 171.322509765625, 166.77784729003906, 109.41471099853516, 103.47614288330078, 94.61772918701172, 106.28997039794922, 85.71466827392578, 71.00628662109375, 70.95051574707031, 65.08429718017578, 64.93696594238281, 73.63017272949219, 47.37618637084961, 47.355186462402344, 207.53402709960938, 113.83656311035156, 41.456485748291016, 36.48644256591797, 33.57484436035156, 236.86325073242188, 211.66891479492188, 193.35682678222656, 69.8136978149414, 27.61334800720215, 40.87184143066406, 46.48139190673828, 49.230430603027344, 156.98825073242188, 44.351993560791016, 19.750656127929688, 62.081016540527344, 34.62710189819336, 88.04618072509766, 154.20364379882812, 94.40284729003906, 806.5298461914062, 213.80406188964844, 96.00728607177734, 318.3627624511719, 99.5685806274414, 116.74951934814453, 102.04861450195312, 214.2782745361328, 92.73920440673828, 327.1495666503906, 154.1862335205078, 171.32861328125, 372.2676696777344, 347.6083679199219, 509.0138244628906, 120.89801788330078, 106.44429016113281, 355.3475036621094, 247.3395538330078, 291.0489807128906, 120.71672821044922, 352.2199401855469, 112.68482971191406, 152.38839721679688, 251.93798828125, 161.48609924316406, 249.30810546875, 179.99642944335938, 150.2917938232422, 189.1613006591797, 180.55206298828125, 152.56951904296875, 159.79832458496094, 163.87069702148438, 168.892578125, 165.79457092285156, 166.21908569335938, 158.5294647216797, 157.4124755859375, 203.78863525390625, 2182.040771484375, 115.32440185546875, 155.1402587890625, 342.9795227050781, 70.99040985107422, 76.810302734375, 85.50051879882812, 68.00482177734375, 59.1666145324707, 59.16535949707031, 50.3253173828125, 58.87620544433594, 192.050048828125, 37.50387191772461, 35.54054641723633, 35.53916931152344, 131.43321228027344, 32.514991760253906, 31.599393844604492, 31.598182678222656, 49.72138595581055, 31.489036560058594, 20.716440200805664, 51.6215705871582, 17.822906494140625, 15.855062484741211, 22.176076889038086, 44.2533073425293, 15.482844352722168, 389.8587951660156, 713.0482788085938, 95.6856689453125, 143.2236328125, 116.15975952148438, 154.8621063232422, 132.2211456298828, 46.46726608276367, 112.47813415527344, 298.4537353515625, 99.47642517089844, 258.0843505859375, 111.70245361328125, 188.70306396484375, 476.79034423828125, 176.01016235351562, 233.7646942138672, 278.4837341308594, 155.13330078125, 138.42640686035156, 121.3388671875, 176.51107788085938, 195.18533325195312, 160.66966247558594, 150.10977172851562, 114.19670867919922, 140.0589141845703, 128.00582885742188, 135.59063720703125, 131.91688537597656, 129.50131225585938, 128.729736328125, 391.11688232421875, 370.92431640625, 267.4118957519531, 525.0003662109375, 174.47418212890625, 1419.4173583984375, 155.3557586669922, 143.8525390625, 129.44467163085938, 123.71029663085938, 128.45907592773438, 139.74005126953125, 86.34485626220703, 82.50296783447266, 77.72493743896484, 274.0180969238281, 59.50546646118164, 51.84823989868164, 291.6384582519531, 46.08349609375, 74.31011199951172, 46.04372787475586, 43.161380767822266, 41.22617721557617, 34.599178314208984, 31.710411071777344, 30.753387451171875, 49.35877227783203, 341.8059387207031, 73.51898956298828, 399.0228271484375, 469.3307800292969, 59.16312026977539, 87.53656005859375, 380.39764404296875, 82.1341323852539, 141.1795654296875, 418.47979736328125, 119.51390838623047, 467.7569274902344, 140.91676330566406, 410.0795593261719, 352.3594970703125, 131.68594360351562, 125.25492858886719, 235.4190216064453, 264.0884094238281, 144.5348663330078, 159.0203094482422, 201.88150024414062, 147.473388671875, 152.31719970703125, 150.1324920654297, 146.75511169433594, 453.2294616699219, 318.76019287109375, 131.63841247558594, 119.95482635498047, 111.20045471191406, 87.80472564697266, 73.18179321289062, 99.08512115478516, 67.32830810546875, 61.482547760009766, 75.8192138671875, 52.69423294067383, 146.63084411621094, 67.01993560791016, 47.848602294921875, 42.97198486328125, 43.895938873291016, 41.024497985839844, 36.11069869995117, 30.29791831970215, 80.41532897949219, 171.01571655273438, 26.39133644104004, 54.583770751953125, 24.45500373840332, 22.479257583618164, 21.523693084716797, 19.552793502807617, 112.77674865722656, 51.1525993347168, 494.80950927734375, 368.161865234375, 59.3800163269043, 157.25735473632812, 170.1742401123047, 810.5516357421875, 93.39855194091797, 271.7204895019531, 365.0649108886719, 61.8520393371582, 136.37008666992188, 490.2124938964844, 1022.8212890625, 171.5699005126953, 133.7291717529297, 88.67052459716797, 142.6075897216797, 135.96926879882812, 225.1338653564453, 218.25595092773438, 128.47450256347656, 253.52239990234375, 273.1922607421875, 156.91690063476562, 152.2899932861328, 209.51278686523438, 127.68330383300781, 130.43959045410156, 146.3428955078125, 133.4415740966797, 131.95753479003906, 130.59417724609375, 1304.0313720703125, 83.01594543457031, 74.43834686279297, 88.5335922241211, 61.09673309326172, 59.189796447753906, 57.28765869140625, 54.40878677368164, 48.67666244506836, 43.944026947021484, 40.05707931518555, 37.26095962524414, 51.21484375, 34.40937423706055, 76.18255615234375, 32.48807907104492, 32.48613357543945, 30.599435806274414, 30.5982666015625, 30.596309661865234, 28.6807804107666, 28.688793182373047, 25.834157943725586, 24.879323959350586, 23.889095306396484, 22.974390029907227, 22.02123260498047, 21.069843292236328, 21.067922592163086, 21.067251205444336, 244.7056121826172, 312.7330322265625, 117.33912658691406, 1072.81103515625, 34.04296875, 133.04058837890625, 47.06496810913086, 110.71199798583984, 138.04664611816406, 78.46261596679688, 115.05342102050781, 126.02168273925781, 337.8558349609375, 98.79950714111328, 135.7970428466797, 181.5189971923828, 228.99256896972656, 89.34390258789062, 101.28569793701172, 102.14403533935547, 122.72613525390625, 132.53990173339844, 96.83854675292969, 85.7584457397461, 90.5854721069336, 92.24369812011719, 86.13703918457031, 91.36331939697266, 85.49954223632812, 78.83316040039062], \"Term\": [\"pizza\", \"happy_hour\", \"taco\", \"sandwich\", \"burger\", \"breakfast\", \"sushi\", \"noodle\", \"wing\", \"coffee\", \"salsa\", \"egg\", \"soup\", \"burrito\", \"drive_thru\", \"thai\", \"bacon\", \"bean\", \"dining_room\", \"roll\", \"beer\", \"pork\", \"mexican\", \"carne_asada\", \"spring_roll\", \"room\", \"gluten_free\", \"chip_salsa\", \"bread\", \"toast\", \"rude\", \"speak_manager\", \"spend_money\", \"shake_shack\", \"gift_card\", \"waste_money\", \"olive_garden\", \"apologized\", \"bottomless_mimosa\", \"refund\", \"phone_number\", \"replied\", \"refused\", \"unprofessional\", \"unacceptable\", \"rotten\", \"rudely\", \"soda_machine\", \"yelled\", \"yelling\", \"horrible\", \"annoyed\", \"smashburger\", \"reply\", \"behavior\", \"cancel\", \"incident\", \"racist\", \"disrespectful\", \"apologizing\", \"manager\", \"charged\", \"response\", \"awful\", \"shack\", \"acknowledged\", \"management\", \"attitude\", \"upset\", \"told\", \"credit_card\", \"somewhere_else\", \"dirty\", \"apology\", \"phone\", \"money\", \"waited\", \"poor\", \"bill\", \"waiting\", \"waitress\", \"issue\", \"employee\", \"worst\", \"walked\", \"situation\", \"someone\", \"leave\", \"later\", \"card\", \"left\", \"empty\", \"business\", \"owner\", \"problem\", \"gave\", \"finally\", \"tell\", \"away\", \"looked\", \"water\", \"anything\", \"line\", \"called\", \"year\", \"seated\", \"brought\", \"arrived\", \"maybe\", \"point\", \"nothing\", \"sushi\", \"ramen\", \"miso_soup\", \"poke_bowl\", \"sashimi\", \"naan\", \"miso\", \"tikka_masala\", \"shrimp_tempura\", \"masala\", \"udon\", \"maki_roll\", \"short_rib\", \"nigiri\", \"lamb_shank\", \"mango_lassi\", \"omakase\", \"bento\", \"maki\", \"biryani\", \"acai_bowl\", \"conveyor_belt\", \"tonkotsu_ramen\", \"seaweed\", \"california_roll\", \"indian\", \"japan\", \"poke\", \"gyoza\", \"gone_downhill\", \"korean\", \"ayce\", \"japanese\", \"noodle\", \"tempura\", \"broth\", \"dumpling\", \"kimchi\", \"curry\", \"teriyaki\", \"roll\", \"soup\", \"bowl\", \"tofu\", \"chinese\", \"asian\", \"spicy\", \"flavour\", \"fish\", \"vegetable\", \"buffet\", \"pork\", \"tuna\", \"piece\", \"shrimp\", \"salmon\", \"spice\", \"tasted\", \"however\", \"amount\", \"veggie\", \"mashed_potato\", \"main_course\", \"pork_chop\", \"medium_rare\", \"caesar_salad\", \"middle_eastern\", \"mashed\", \"foie_gras\", \"shrimp_grit\", \"panna_cotta\", \"creme_brulee\", \"lamb_chop\", \"risotto\", \"foie\", \"lobster_bisque\", \"grape_leaf\", \"mahi_mahi\", \"brussel_sprout\", \"bisque\", \"crawfish\", \"balsamic_vinegar\", \"exceeded_expectation\", \"mahi\", \"gras\", \"liquor_license\", \"brussel\", \"amuse_bouche\", \"highly_recommended\", \"escargot\", \"fig\", \"lobster\", \"filet_mignon\", \"filet\", \"goat_cheese\", \"crab_leg\", \"oyster\", \"catfish\", \"cooked_perfection\", \"chop\", \"steak\", \"scallop\", \"melt_mouth\", \"tapa\", \"pasta\", \"bread\", \"rare\", \"look_forward\", \"potato\", \"appetizer\", \"entree\", \"dessert\", \"shrimp\", \"cooked\", \"plate\", \"course\", \"butter\", \"crab\", \"reservation\", \"wine\", \"perfectly\", \"enjoyed\", \"grilled\", \"main\", \"highly_recommend\", \"soup\", \"garlic\", \"cake\", \"loved\", \"gluten_free\", \"gluten\", \"hotel_casino\", \"dietary_restriction\", \"dining_room\", \"front_desk\", \"board_game\", \"theater\", \"fremont_street\", \"award_winning\", \"movie_theater\", \"outdoor_patio\", \"cheesecake_factory\", \"prix_fixe\", \"surf_turf\", \"restriction\", \"pinto_bean\", \"lobster_tail\", \"shower\", \"suite\", \"beauty\", \"mascarpone\", \"turf\", \"elevator\", \"pinto\", \"sommelier\", \"michelin\", \"progressive\", \"award\", \"fremont\", \"hotel\", \"bellagio\", \"casino\", \"golf\", \"room\", \"movie\", \"view\", \"pool\", \"venue\", \"upstairs\", \"lounge\", \"outdoor\", \"across_street\", \"highly_recommend\", \"game\", \"city\", \"dining\", \"chef\", \"event\", \"blown_away\", \"beautiful\", \"cocktail\", \"free\", \"patio\", \"vega\", \"floor\", \"group\", \"highly\", \"wine\", \"party\", \"street\", \"located\", \"year\", \"music\", \"space\", \"vegan\", \"parking\", \"dessert\", \"open\", \"family\", \"every\", \"almond_milk\", \"free_wifi\", \"brown_sugar\", \"family_owned\", \"cold_brew\", \"matcha_latte\", \"spring_mountain\", \"chai_latte\", \"powdered_sugar\", \"condensed_milk\", \"almond_croissant\", \"dance_floor\", \"donut\", \"flat_white\", \"farmer_market\", \"mocha\", \"tapioca\", \"shopping_center\", \"latte\", \"grocery_store\", \"black_sesame\", \"condensed\", \"calorie_count\", \"planet_hollywood\", \"barista\", \"tucked_away\", \"cappuccino\", \"dulce\", \"doughnut\", \"miracle_mile\", \"sweet_tooth\", \"bakery\", \"bubble\", \"coffee\", \"bagel\", \"starbucks\", \"milk\", \"grocery\", \"matcha\", \"croissant\", \"sugar\", \"espresso\", \"cafe\", \"shopping\", \"pastry\", \"chocolate\", \"shop\", \"cream\", \"almond\", \"boba\", \"cake\", \"strip_mall\", \"store\", \"cookie\", \"beer\", \"cooky\", \"strawberry\", \"parking\", \"cute\", \"dessert\", \"vegan\", \"mall\", \"seating\", \"located\", \"waffle\", \"space\", \"light\", \"found\", \"free\", \"clean\", \"flavour\", \"offer\", \"thin_crust\", \"pizza\", \"garlic_knot\", \"pepperoni\", \"onion_ring\", \"hong_kong\", \"ranch_dressing\", \"mozzarella_stick\", \"east_coast\", \"salted_caramel\", \"blue_moon\", \"knot\", \"reward_program\", \"daily_special\", \"hong\", \"kong\", \"cast_iron\", \"gyro\", \"premi\\u00e8re_fois\", \"halo\", \"halo_halo\", \"panda_express\", \"souvlaki\", \"calzone\", \"cafeteria_style\", \"neapolitan\", \"domino\", \"baba\", \"tzatziki\", \"cast\", \"crust\", \"wing\", \"shawarma\", \"ring\", \"greek\", \"pita\", \"mozzarella\", \"west_coast\", \"buffalo\", \"topping\", \"oven\", \"slice\", \"ranch\", \"italian\", \"burger\", \"deep_fried\", \"garlic\", \"onion\", \"thin\", \"friday_night\", \"delivery\", \"tomato\", \"crispy\", \"style\", \"size\", \"deep\", \"half\", \"mushroom\", \"offer\", \"beer\", \"quick\", \"bite\", \"carne_asada\", \"chip_salsa\", \"sour_cream\", \"salsa\", \"guacamole\", \"taco\", \"asada\", \"pico_gallo\", \"corn_tortilla\", \"flour_tortilla\", \"enchilada\", \"carne\", \"refried_bean\", \"pastor\", \"pico\", \"tortilla\", \"carnitas\", \"gallo\", \"black_bean\", \"ghost_pepper\", \"papaya_salad\", \"cilantro_lime\", \"language_barrier\", \"jamaican\", \"chile_relleno\", \"taco_bell\", \"refried\", \"guac\", \"pork_belly\", \"richmond_hill\", \"mexican\", \"burrito\", \"tamale\", \"quesadilla\", \"spring_roll\", \"chile\", \"hole_wall\", \"thai\", \"cilantro\", \"bean\", \"margarita\", \"chip\", \"pork\", \"spring\", \"spice_level\", \"green\", \"spicy\", \"sour\", \"chili\", \"shrimp\", \"corn\", \"chinese\", \"onion\", \"fish\", \"drive_thru\", \"french_toast\", \"cheese_curd\", \"scrambled_egg\", \"egg_benedict\", \"english_muffin\", \"biscuit_gravy\", \"chow_mein\", \"poached_egg\", \"peking_duck\", \"benedict\", \"crab_rangoon\", \"hash\", \"deviled_egg\", \"scrambled\", \"benny\", \"pollo_loco\", \"spam_musubi\", \"avocado_toast\", \"hollandaise\", \"tater_tot\", \"hash_brown\", \"spam\", \"stumbled_upon\", \"hashbrowns\", \"sonoran\", \"peking\", \"rangoon\", \"maple_syrup\", \"crinkle_fry\", \"egg\", \"toast\", \"cracker_barrel\", \"bloody_mary\", \"thru\", \"breakfast\", \"omelette\", \"pancake\", \"brunch\", \"omelet\", \"poutine\", \"bacon\", \"burger\", \"reasonably_priced\", \"biscuit\", \"mimosa\", \"fast_casual\", \"smoked_salmon\", \"waffle\", \"drive\", \"gravy\", \"fast\", \"potato\", \"sausage\", \"french\", \"sandwich\", \"morning\", \"avocado\", \"choice\", \"home\", \"huge\", \"coffee\", \"happy_hour\", \"\\u00e9tait\", \"avec\", \"walking_distance\", \"tr\\u00e8s\", \"nous\", \"nous_avon\", \"charcuterie_board\", \"pastrami\", \"mais\", \"knife_fork\", \"\\u00e9tait_d\\u00e9licieux\", \"yelp_elite\", \"d\\u00e9licieux\", \"thinly_sliced\", \"vous\", \"reuben\", \"dans\", \"bien\", \"pris\", \"fois\", \"plat\", \"bonne\", \"vraiment\", \"belle\", \"salade\", \"comme\", \"avon\", \"aussi\", \"go\\u00fbt\", \"pulled_pork\", \"five_star\", \"deli\", \"sandwich\", \"tout\", \"corned_beef\", \"sub\", \"pour\", \"turkey\", \"sunday_afternoon\", \"lettuce_tomato\", \"brisket\", \"beer\", \"pulled\", \"five\", \"wine\", \"bread\", \"pickle\", \"bartender\", \"cocktail\", \"chip\", \"pork\", \"local\", \"list\", \"plus\", \"yelp\", \"selection\", \"offer\", \"three\", \"tomato\"], \"Total\": [2195.0, 1307.0, 1427.0, 1567.0, 1740.0, 953.0, 1114.0, 1172.0, 825.0, 983.0, 527.0, 525.0, 1505.0, 496.0, 454.0, 619.0, 735.0, 749.0, 520.0, 1250.0, 1069.0, 1155.0, 412.0, 392.0, 448.0, 884.0, 454.0, 371.0, 1155.0, 396.0, 187.64166259765625, 85.7435073852539, 88.76058959960938, 76.64740753173828, 67.55152130126953, 64.54014587402344, 58.471187591552734, 68.56702423095703, 46.34877395629883, 44.361000061035156, 100.84538269042969, 38.302303314208984, 36.288639068603516, 35.27545928955078, 28.211362838745117, 28.212535858154297, 25.183801651000977, 55.389163970947266, 22.15593147277832, 27.190908432006836, 172.36129760742188, 50.376991271972656, 20.12856674194336, 20.136642456054688, 22.152530670166016, 18.09210777282715, 18.112157821655273, 17.117868423461914, 16.110036849975586, 16.099292755126953, 560.525390625, 106.7076644897461, 71.56080627441406, 90.60921478271484, 52.371341705322266, 48.298194885253906, 161.2261199951172, 162.0183868408203, 70.42765045166016, 950.7611694335938, 302.3287658691406, 169.89234924316406, 211.9423828125, 57.309940338134766, 269.09844970703125, 387.466064453125, 407.1280822753906, 137.8501739501953, 375.6031188964844, 505.6298522949219, 702.224609375, 369.17779541015625, 438.49652099609375, 220.95492553710938, 569.272705078125, 124.68769836425781, 511.37030029296875, 425.6578063964844, 501.1197509765625, 321.24737548828125, 805.6064453125, 360.8265686035156, 723.1784057617188, 671.7818603515625, 322.1119689941406, 663.42529296875, 546.6649780273438, 562.9312744140625, 917.314697265625, 802.759765625, 721.5613403320312, 701.1363525390625, 746.251708984375, 456.1237487792969, 1043.0303955078125, 673.0447998046875, 657.6920776367188, 607.9944458007812, 896.0215454101562, 856.5584106445312, 899.3377685546875, 1114.264892578125, 416.232177734375, 207.10763549804688, 228.0208282470703, 176.22853088378906, 125.44286346435547, 123.4541015625, 117.48287200927734, 126.44278717041016, 81.6287612915039, 89.59329223632812, 75.6585922241211, 129.42050170898438, 89.58140563964844, 63.702781677246094, 60.72269821166992, 59.72101974487305, 56.7308464050293, 56.730648040771484, 56.73249816894531, 60.7065315246582, 45.78205108642578, 45.78499221801758, 89.59908294677734, 44.78746032714844, 237.91685485839844, 43.77690887451172, 236.88247680664062, 54.731956481933594, 36.792755126953125, 340.3651123046875, 178.1176300048828, 211.01278686523438, 1172.8145751953125, 139.35487365722656, 457.7336120605469, 297.09954833984375, 143.1494598388672, 526.7943725585938, 145.1111297607422, 1250.0908203125, 1505.3226318359375, 1096.5517578125, 285.8257141113281, 554.5406494140625, 299.6562194824219, 1204.262939453125, 650.3361206054688, 938.666748046875, 474.1600341796875, 416.79449462890625, 1155.4012451171875, 274.79150390625, 837.5576782226562, 1028.8890380859375, 485.6690673828125, 470.5899963378906, 942.1234741210938, 1012.6304931640625, 708.1603393554688, 663.5465087890625, 375.3910827636719, 273.54376220703125, 222.62167358398438, 309.4909362792969, 240.5773162841797, 147.72877502441406, 145.74073791503906, 177.69273376464844, 93.82312774658203, 78.84745788574219, 69.86470794677734, 60.8769416809082, 60.87357711791992, 62.870513916015625, 78.85092163085938, 48.897708892822266, 48.882564544677734, 129.77642822265625, 48.896331787109375, 43.90175247192383, 39.909507751464844, 48.885353088378906, 37.895511627197266, 71.83763122558594, 33.90720748901367, 44.90241241455078, 42.90582275390625, 165.4777069091797, 21.938081741333008, 15.937163352966309, 410.25262451171875, 123.43070983886719, 125.52081298828125, 248.7790069580078, 99.68612670898438, 194.5957489013672, 65.88484954833984, 156.2820281982422, 149.58595275878906, 1031.031005859375, 206.53536987304688, 200.3848876953125, 92.76288604736328, 516.1010131835938, 1155.2974853515625, 231.7268524169922, 238.92807006835938, 1000.8409423828125, 670.6619262695312, 545.325439453125, 1167.330078125, 1028.8890380859375, 999.6823120117188, 1153.3681640625, 676.0033569335938, 469.20001220703125, 425.60638427734375, 547.3572387695312, 657.0501098632812, 575.7589721679688, 944.370849609375, 626.2518920898438, 524.52880859375, 728.4744262695312, 1505.3226318359375, 612.5006713867188, 673.9627685546875, 789.7299194335938, 454.4677734375, 178.3272247314453, 94.69219970703125, 76.54710388183594, 520.8861083984375, 94.68791961669922, 91.65086364746094, 61.4251823425293, 52.369686126708984, 55.37779235839844, 46.31838607788086, 130.92384338378906, 43.2981071472168, 49.33945083618164, 49.32033920288086, 34.21994400024414, 40.246429443359375, 88.61722564697266, 30.17901039123535, 20.111408233642578, 24.10354995727539, 18.037811279296875, 20.10634994506836, 42.244022369384766, 18.05130958557129, 16.087800979614258, 16.059093475341797, 14.071481704711914, 40.2105827331543, 42.22374725341797, 364.2216796875, 36.2105712890625, 194.1274871826172, 41.24858093261719, 884.9002075195312, 127.33194732666016, 259.1724548339844, 124.52826690673828, 122.44535827636719, 87.42778015136719, 109.9777603149414, 162.15689086914062, 291.3349304199219, 728.4744262695312, 471.0279846191406, 367.78082275390625, 890.1756591796875, 615.0482788085938, 288.58526611328125, 148.84805297851562, 419.85504150390625, 437.93389892578125, 901.2553100585938, 468.4122009277344, 713.7971801757812, 306.2638244628906, 619.4022827148438, 387.7320251464844, 657.0501098632812, 585.76904296875, 627.828125, 713.9004516601562, 1043.0303955078125, 402.3150939941406, 570.2752075195312, 510.2296142578125, 958.6237182617188, 1167.330078125, 881.2037963867188, 825.6810302734375, 990.8189697265625, 110.30509948730469, 104.38734436035156, 95.51648712158203, 107.3328628540039, 86.66006469726562, 71.89007568359375, 71.8712387084961, 65.98092651367188, 65.97254943847656, 74.84263610839844, 48.25400924682617, 48.23443603515625, 211.703369140625, 116.22899627685547, 42.3332405090332, 37.411808013916016, 34.45634078979492, 243.08567810058594, 217.61399841308594, 198.9974365234375, 71.89277648925781, 28.546493530273438, 42.34001159667969, 48.25386047363281, 51.16401290893555, 163.53453063964844, 46.26380157470703, 20.65172576904297, 65.02253723144531, 36.415985107421875, 92.64016723632812, 163.46128845214844, 100.2886962890625, 983.5623779296875, 243.66702270507812, 104.4646224975586, 385.8740539550781, 111.21903228759766, 133.11099243164062, 115.05062866210938, 265.77484130859375, 104.38978576660156, 451.9696350097656, 188.94737243652344, 214.30267333984375, 563.2083740234375, 545.5299072265625, 938.438720703125, 144.06065368652344, 123.26127624511719, 673.9627685546875, 407.4771728515625, 528.3506469726562, 153.2781524658203, 1069.3570556640625, 139.1353759765625, 268.32757568359375, 958.6237182617188, 348.3467712402344, 1167.330078125, 510.2296142578125, 320.24371337890625, 745.917236328125, 713.9004516601562, 411.7274475097656, 570.2752075195312, 672.80859375, 904.1749877929688, 901.2553100585938, 982.4578247070312, 650.3361206054688, 965.856689453125, 204.832763671875, 2195.8037109375, 116.20364379882812, 156.5585479736328, 346.68408203125, 71.87249755859375, 77.78396606445312, 86.64683532714844, 68.92308044433594, 60.049476623535156, 60.05302810668945, 51.20368957519531, 60.05538558959961, 196.00547790527344, 38.38269805908203, 36.418426513671875, 36.41828155517578, 134.87425231933594, 33.39320755004883, 32.47923278808594, 32.47923278808594, 51.17973709106445, 32.491455078125, 21.64659881591797, 54.138668060302734, 18.701583862304688, 16.73224639892578, 23.61968994140625, 47.282352447509766, 16.698810577392578, 439.65850830078125, 825.3070068359375, 106.36685943603516, 165.76544189453125, 134.03138732910156, 203.54017639160156, 170.69688415527344, 51.18473815917969, 152.6332550048828, 572.6375732421875, 139.03343200683594, 521.8284912109375, 169.97557067871094, 418.6089782714844, 1740.93408203125, 381.3859558105469, 612.5006713867188, 877.794677734375, 322.87274169921875, 299.00286865234375, 236.22067260742188, 603.658935546875, 804.30078125, 713.8158569335938, 699.8941650390625, 249.74136352539062, 859.511962890625, 490.0876770019531, 965.856689453125, 1069.3570556640625, 824.7407836914062, 840.34765625, 392.0020751953125, 371.87506103515625, 268.3642272949219, 527.1519165039062, 175.4001007080078, 1427.1693115234375, 156.23741149902344, 144.7350616455078, 130.3580780029297, 124.60964965820312, 129.39877319335938, 140.90536499023438, 87.23301696777344, 83.39351654052734, 78.60592651367188, 277.96826171875, 60.39382553100586, 52.72854995727539, 297.23272705078125, 46.970096588134766, 75.7408447265625, 46.97995376586914, 44.09101104736328, 42.177730560302734, 35.47861862182617, 32.596717834472656, 31.6431827545166, 50.81420135498047, 352.0992736816406, 75.76263427734375, 412.6717834472656, 496.8976135253906, 61.393463134765625, 93.93042755126953, 448.42578125, 88.27723693847656, 168.20358276367188, 619.7369995117188, 143.42262268066406, 749.979248046875, 178.2749786376953, 720.6229248046875, 1155.4012451171875, 240.3766326904297, 220.111572265625, 900.8853149414062, 1204.262939453125, 304.2813415527344, 387.553466796875, 1028.8890380859375, 355.9158630371094, 554.5406494140625, 877.794677734375, 938.666748046875, 454.15704345703125, 319.66754150390625, 132.54083251953125, 120.85023498535156, 112.08084869384766, 88.68980407714844, 74.0704574584961, 100.38626098632812, 68.22083282470703, 62.365234375, 76.9996566772461, 53.587623596191406, 149.15802001953125, 68.22110748291016, 48.73054885864258, 43.853515625, 44.8265380859375, 41.904022216796875, 37.03110885620117, 31.18499183654785, 82.8425521850586, 176.5619354248047, 27.28525733947754, 56.542415618896484, 25.333126068115234, 23.361976623535156, 22.402490615844727, 20.446277618408203, 118.0511245727539, 53.650238037109375, 525.9127807617188, 396.5351867675781, 62.446231842041016, 170.9856719970703, 185.5965576171875, 953.2822875976562, 100.44950103759766, 337.51910400390625, 468.9869689941406, 66.24925231933594, 163.4244842529297, 735.0288696289062, 1740.93408203125, 217.32733154296875, 164.0294189453125, 101.48473358154297, 191.8018035888672, 192.578125, 411.7274475097656, 434.65301513671875, 201.2916259765625, 800.7813720703125, 1000.8409423828125, 416.6799011230469, 401.5542907714844, 1567.4986572265625, 290.7676696777344, 345.370361328125, 944.9370727539062, 967.78955078125, 901.2861328125, 983.5623779296875, 1307.789306640625, 83.9022445678711, 75.32408905029297, 89.61197662353516, 61.980384826660156, 60.07415771484375, 58.16795349121094, 55.29069900512695, 49.583396911621094, 44.824275970458984, 41.00031661987305, 38.15272903442383, 52.45460891723633, 35.29310989379883, 78.20875549316406, 33.37004852294922, 33.377593994140625, 31.48066520690918, 31.47967529296875, 31.4807186126709, 29.565847396850586, 29.5743350982666, 26.71505355834961, 25.7618465423584, 24.79371452331543, 23.855363845825195, 22.902286529541016, 21.9494686126709, 21.949440002441406, 21.94917106628418, 258.5439453125, 366.369873046875, 139.87118530273438, 1567.4986572265625, 37.30109786987305, 185.09832763671875, 54.555538177490234, 149.4371337890625, 199.1164093017578, 101.83772277832031, 200.82167053222656, 228.3389892578125, 1069.3570556640625, 182.14401245117188, 344.50830078125, 657.0501098632812, 1155.2974853515625, 225.65054321289062, 360.3490295410156, 437.93389892578125, 720.6229248046875, 1155.4012451171875, 510.6680908203125, 392.845703125, 541.2099609375, 792.2109375, 632.8981323242188, 965.856689453125, 685.88134765625, 603.658935546875], \"loglift\": [30.0, 29.0, 28.0, 27.0, 26.0, 25.0, 24.0, 23.0, 22.0, 21.0, 20.0, 19.0, 18.0, 17.0, 16.0, 15.0, 14.0, 13.0, 12.0, 11.0, 10.0, 9.0, 8.0, 7.0, 6.0, 5.0, 4.0, 3.0, 2.0, 1.0, 1.6751999855041504, 1.6722999811172485, 1.6713000535964966, 1.6711000204086304, 1.6686999797821045, 1.6678999662399292, 1.6660000085830688, 1.6660000085830688, 1.6634000539779663, 1.6621999740600586, 1.6604000329971313, 1.6589000225067139, 1.6581000089645386, 1.657099962234497, 1.6505999565124512, 1.6505000591278076, 1.6467000246047974, 1.645799994468689, 1.6419999599456787, 1.6413999795913696, 1.6411000490188599, 1.6383999586105347, 1.638200044631958, 1.6375999450683594, 1.636299967765808, 1.632699966430664, 1.6305999755859375, 1.6302000284194946, 1.6267000436782837, 1.6263999938964844, 1.6103999614715576, 1.618399977684021, 1.6217000484466553, 1.618899941444397, 1.6229000091552734, 1.6145000457763672, 1.5777000188827515, 1.5753999948501587, 1.6008000373840332, 1.472499966621399, 1.5175000429153442, 1.544800043106079, 1.5187000036239624, 1.6053999662399292, 1.4836000204086304, 1.4242000579833984, 1.4049999713897705, 1.5218000411987305, 1.4084999561309814, 1.3701000213623047, 1.3131999969482422, 1.3954999446868896, 1.3621000051498413, 1.4450000524520874, 1.274399995803833, 1.5297000408172607, 1.2548999786376953, 1.2860000133514404, 1.2496999502182007, 1.31850004196167, 1.0844999551773071, 1.2792999744415283, 1.0902999639511108, 1.0794999599456787, 1.2872999906539917, 1.0450999736785889, 1.0957000255584717, 1.042799949645996, 0.8253999948501587, 0.8564000129699707, 0.8989999890327454, 0.9002000093460083, 0.8562999963760376, 1.1059000492095947, 0.5918999910354614, 0.8608999848365784, 0.8543999791145325, 0.8953999876976013, 0.6007999777793884, 0.6266000270843506, 0.5407999753952026, 1.8142000436782837, 1.8127000331878662, 1.811400055885315, 1.8108999729156494, 1.8106000423431396, 1.808500051498413, 1.808500051498413, 1.8082000017166138, 1.8080999851226807, 1.804900050163269, 1.8043999671936035, 1.8040000200271606, 1.8029999732971191, 1.802899956703186, 1.8016999959945679, 1.801200032234192, 1.8008999824523926, 1.7999999523162842, 1.7999000549316406, 1.7998000383377075, 1.7980999946594238, 1.7963999509811401, 1.7963999509811401, 1.7960000038146973, 1.7958999872207642, 1.7956000566482544, 1.795199990272522, 1.7934000492095947, 1.7919000387191772, 1.791599988937378, 1.7869999408721924, 1.7898000478744507, 1.785599946975708, 1.767199993133545, 1.7861000299453735, 1.7487000226974487, 1.743899941444397, 1.7496999502182007, 1.6497000455856323, 1.7384999990463257, 1.5708999633789062, 1.4883999824523926, 1.5032999515533447, 1.6003999710083008, 1.4692000150680542, 1.559399962425232, 1.2517000436782837, 1.368399977684021, 1.173799991607666, 1.3372999429702759, 1.3331999778747559, 0.8910999894142151, 1.4788999557495117, 0.8982999920845032, 0.7955999970436096, 1.0525000095367432, 1.0707999467849731, 0.5138000249862671, 0.44429999589920044, 0.7242000102996826, 0.7376999855041504, 2.118799924850464, 2.1177000999450684, 2.117300033569336, 2.1166999340057373, 2.115600109100342, 2.115000009536743, 2.1149001121520996, 2.114300012588501, 2.1103999614715576, 2.109999895095825, 2.1087000370025635, 2.106300115585327, 2.106100082397461, 2.105600118637085, 2.1038999557495117, 2.103300094604492, 2.1031999588012695, 2.102099895477295, 2.101799964904785, 2.1012001037597656, 2.099100112915039, 2.099100112915039, 2.097899913787842, 2.095599889755249, 2.0952000617980957, 2.09060001373291, 2.09060001373291, 2.0852999687194824, 2.080699920654297, 2.0641000270843506, 2.0434000492095947, 2.0529000759124756, 2.0251998901367188, 1.976099967956543, 2.018899917602539, 1.9469000101089478, 2.0518999099731445, 1.9557000398635864, 1.9570000171661377, 1.6663999557495117, 1.8828999996185303, 1.8729000091552734, 1.996500015258789, 1.624400019645691, 1.3782000541687012, 1.7755000591278076, 1.7625999450683594, 1.317199945449829, 1.4333000183105469, 1.4701000452041626, 1.163599967956543, 1.1790000200271606, 1.1693999767303467, 1.0124000310897827, 1.2278000116348267, 1.4045000076293945, 1.4485000371932983, 1.2788000106811523, 1.148900032043457, 1.2182999849319458, 0.9009000062942505, 1.106600046157837, 1.2077000141143799, 0.9703999757766724, 0.3488999903202057, 1.027500033378601, 0.9239000082015991, 0.7774999737739563, 2.1268999576568604, 2.123199939727783, 2.120300054550171, 2.1180999279022217, 2.118000030517578, 2.1159000396728516, 2.113300085067749, 2.11299991607666, 2.112600088119507, 2.1120998859405518, 2.110300064086914, 2.109600067138672, 2.109299898147583, 2.1085000038146973, 2.1054000854492188, 2.1036999225616455, 2.102799892425537, 2.1022000312805176, 2.0941998958587646, 2.085200071334839, 2.084399938583374, 2.0796000957489014, 2.076200008392334, 2.0759999752044678, 2.0754001140594482, 2.073699951171875, 2.069700002670288, 2.065000057220459, 2.062299966812134, 2.0592000484466553, 2.039799928665161, 2.046999931335449, 1.9723999500274658, 2.0346999168395996, 1.8200000524520874, 1.9259999990463257, 1.8590999841690063, 1.902400016784668, 1.902899980545044, 1.9423999786376953, 1.9093999862670898, 1.8451000452041626, 1.7319999933242798, 1.521299958229065, 1.5902999639511108, 1.561400055885315, 1.340000033378601, 1.4264999628067017, 1.5995999574661255, 1.750100016593933, 1.3905999660491943, 1.3652000427246094, 1.104599952697754, 1.3240000009536743, 1.1634000539779663, 1.4539999961853027, 1.131600022315979, 1.2634999752044678, 0.9668999910354614, 1.0132999420166016, 0.9258000254631042, 0.8314999938011169, 0.5181999802589417, 1.1470999717712402, 0.9039000272750854, 0.9746000170707703, 0.46239998936653137, 0.2757999897003174, 0.5042999982833862, 0.5569999814033508, 0.34779998660087585, 2.174799919128418, 2.174099922180176, 2.1733999252319336, 2.173099994659424, 2.1719000339508057, 2.1705000400543213, 2.1700000762939453, 2.1691999435424805, 2.167099952697754, 2.1665000915527344, 2.1644999980926514, 2.1644999980926514, 2.1630001068115234, 2.162100076675415, 2.161900043487549, 2.1577999591827393, 2.1570000648498535, 2.156899929046631, 2.1552000045776367, 2.154099941253662, 2.1535000801086426, 2.149600028991699, 2.147599935531616, 2.145400047302246, 2.1442999839782715, 2.1419999599456787, 2.140700101852417, 2.1382999420166016, 2.1366000175476074, 2.132499933242798, 2.131999969482422, 2.1245999336242676, 2.1224000453948975, 1.9844000339508057, 2.0520999431610107, 2.098400115966797, 1.9905999898910522, 2.072200059890747, 2.0517001152038574, 2.0629000663757324, 1.9674999713897705, 2.064500093460083, 1.8596999645233154, 1.979599952697754, 1.9591000080108643, 1.7688000202178955, 1.732200026512146, 1.5710999965667725, 2.0076000690460205, 2.0362000465393066, 1.542799949645996, 1.6835999488830566, 1.5865999460220337, 1.944100022315979, 1.0722999572753906, 1.972000002861023, 1.6171000003814697, 0.8465999960899353, 1.4141000509262085, 0.6391000151634216, 1.1409000158309937, 1.4263999462127686, 0.8108999729156494, 0.8080999851226807, 1.1900999546051025, 0.9107000231742859, 0.7705000042915344, 0.5051000118255615, 0.48980000615119934, 0.40610000491142273, 0.7713000178337097, 0.3686999976634979, 2.4870998859405518, 2.4858999252319336, 2.484600067138672, 2.483099937438965, 2.4814000129699707, 2.47979998588562, 2.479599952697754, 2.4788999557495117, 2.478800058364868, 2.477400064468384, 2.477299928665161, 2.474900007247925, 2.472399950027466, 2.4718000888824463, 2.4690001010894775, 2.4677999019622803, 2.4677000045776367, 2.4663000106811523, 2.4655001163482666, 2.4646999835968018, 2.4646999835968018, 2.4632999897003174, 2.4607999324798584, 2.4482998847961426, 2.4446001052856445, 2.4440999031066895, 2.4382998943328857, 2.4291000366210938, 2.4260001182556152, 2.416599988937378, 2.371999979019165, 2.3459999561309814, 2.386399984359741, 2.3459999561309814, 2.349100112915039, 2.218899965286255, 2.236799955368042, 2.3954999446868896, 2.1868999004364014, 1.840499997138977, 2.157399892807007, 1.788100004196167, 2.0724000930786133, 1.6953999996185303, 1.197100043296814, 1.7188999652862549, 1.5289000272750854, 1.344099998474121, 1.7591999769210815, 1.722100019454956, 1.8259999752044678, 1.2625999450683594, 1.076200008392334, 1.0009000301361084, 0.9526000022888184, 1.7096999883651733, 0.6779000163078308, 1.1497000455856323, 0.5288000106811523, 0.3995000123977661, 0.6407999992370605, 0.616100013256073, 2.555299997329712, 2.555000066757202, 2.553999900817871, 2.5534000396728516, 2.5522000789642334, 2.5520999431610107, 2.5518999099731445, 2.5513999462127686, 2.55049991607666, 2.550299882888794, 2.5501999855041504, 2.5492000579833984, 2.547300100326538, 2.546799898147583, 2.546299934387207, 2.5432000160217285, 2.5427000522613525, 2.5406999588012695, 2.5385000705718994, 2.5385000705718994, 2.5385000705718994, 2.537400007247925, 2.5362000465393066, 2.5346999168395996, 2.532399892807007, 2.5299999713897705, 2.5290000438690186, 2.5285000801086426, 2.527899980545044, 2.5274999141693115, 2.523900032043457, 2.500499963760376, 2.5204999446868896, 2.486999988555908, 2.3929998874664307, 2.4853999614715576, 2.3824000358581543, 2.164900064468384, 2.375200033187866, 2.085400104522705, 2.3224000930786133, 1.9938000440597534, 1.3700000047683716, 1.9557000398635864, 1.9937000274658203, 1.215499997138977, 1.0401999950408936, 1.813099980354309, 1.666700005531311, 0.9290000200271606, 1.6764999628067017, 1.2654000520706177, 0.7915999889373779, 0.7017999887466431, 2.5557000637054443, 2.5548999309539795, 2.5508999824523926, 2.550299882888794, 2.549799919128418, 2.5476999282836914, 2.5457000732421875, 2.5446999073028564, 2.544600009918213, 2.5434999465942383, 2.54229998588562, 2.5408999919891357, 2.540600061416626, 2.5399999618530273, 2.5394999980926514, 2.537400007247925, 2.536799907684326, 2.5364999771118164, 2.532599925994873, 2.528899908065796, 2.5280001163482666, 2.5257999897003174, 2.524399995803833, 2.5225000381469727, 2.5225000381469727, 2.519200086593628, 2.517699956893921, 2.5130999088287354, 2.51200008392334, 2.5100998878479004, 2.496799945831299, 2.4835000038146973, 2.5074000358581543, 2.4739999771118164, 2.4709999561309814, 2.3954999446868896, 2.484999895095825, 2.34089994430542, 2.3071999549865723, 2.4890999794006348, 2.376800060272217, 2.1526999473571777, 2.025899887084961, 2.3213000297546387, 2.3534998893737793, 2.422800064086914, 2.261399984359741, 2.209700107574463, 1.9541000127792358, 1.868899941444397, 2.1087000370025635, 1.4076000452041626, 1.2592999935150146, 1.5810999870300293, 1.5881999731063843, 0.5453000068664551, 1.7347999811172485, 1.5839999914169312, 0.6926000118255615, 0.5763999819755554, 0.6363999843597412, 0.5386000275611877, 2.774199962615967, 2.7664999961853027, 2.7653000354766846, 2.765000104904175, 2.7627999782562256, 2.7623000144958496, 2.761899948120117, 2.760999917984009, 2.758699893951416, 2.7572999000549316, 2.7537999153137207, 2.753499984741211, 2.753200054168701, 2.751800060272217, 2.7509000301361084, 2.7502999305725098, 2.75, 2.748699903488159, 2.748699903488159, 2.7486000061035156, 2.7467000484466553, 2.7467000484466553, 2.7435998916625977, 2.742300033569336, 2.740000009536743, 2.739500045776367, 2.7379000186920166, 2.7362000942230225, 2.7360999584198, 2.7360999584198, 2.722100019454956, 2.618799924850464, 2.6015000343322754, 2.397900104522705, 2.685699939727783, 2.446899890899658, 2.6294000148773193, 2.4772000312805176, 2.410799980163574, 2.516400098800659, 2.220099925994873, 2.1826999187469482, 1.624899983406067, 2.1654000282287598, 1.8461999893188477, 1.4907000064849854, 1.1586999893188477, 1.850600004196167, 1.5080000162124634, 1.3214000463485718, 1.0069999694824219, 0.6118000149726868, 1.114400029182434, 1.2552000284194946, 0.9896000027656555, 0.6266999840736389, 0.7827000021934509, 0.4189000129699707, 0.6948999762535095, 0.7414000034332275], \"logprob\": [30.0, 29.0, 28.0, 27.0, 26.0, 25.0, 24.0, 23.0, 22.0, 21.0, 20.0, 19.0, 18.0, 17.0, 16.0, 15.0, 14.0, 13.0, 12.0, 11.0, 10.0, 9.0, 8.0, 7.0, 6.0, 5.0, 4.0, 3.0, 2.0, 1.0, -6.2546000480651855, -7.0406999588012695, -7.0071001052856445, -7.1539998054504395, -7.282700061798096, -7.32919979095459, -7.429800033569336, -7.270500183105469, -7.664700031280518, -7.709799766540527, -6.8902997970581055, -7.859899997711182, -7.91480016708374, -7.9440999031066895, -8.173999786376953, -8.174099922180176, -8.291500091552734, -7.504199981689453, -8.424300193786621, -8.220000267028809, -6.373600006103516, -7.606400012969971, -8.52400016784668, -8.524100303649902, -8.430100440979004, -8.636099815368652, -8.637200355529785, -8.694000244140625, -8.758099555969238, -8.759099960327148, -5.225100040435791, -6.875899791717529, -7.27209997177124, -7.03879976272583, -7.583000183105469, -7.672399997711182, -6.503799915313721, -6.501200199127197, -7.308899879455566, -4.834499835968018, -5.935299873352051, -6.484399795532227, -6.289299964904785, -7.510499954223633, -6.085700035095215, -5.7804999351501465, -5.750199794769287, -6.716400146484375, -5.827300071716309, -5.568399906158447, -5.296800136566162, -5.857500076293945, -5.718900203704834, -6.321400165557861, -5.545599937438965, -6.808800220489502, -5.672299861907959, -5.824699878692627, -5.697800159454346, -6.073599815368652, -5.388299942016602, -5.996699810028076, -5.4903998374938965, -5.574900150299072, -6.102099895477295, -5.621799945831299, -5.764800071716309, -5.788400173187256, -5.517499923706055, -5.619900226593018, -5.683899879455566, -5.711400032043457, -5.692999839782715, -5.935699939727783, -5.622499942779541, -5.791600227355957, -5.821199893951416, -5.858799934387207, -5.765600204467773, -5.784800052642822, -5.821800231933594, -4.334199905395508, -5.320400238037109, -6.019599914550781, -5.923999786376953, -6.1819000244140625, -6.523900032043457, -6.539899826049805, -6.589799880981445, -6.516499996185303, -6.957300186157227, -6.86460018157959, -7.03410005569458, -6.498300075531006, -6.866300106048584, -7.208399772644043, -7.256800174713135, -7.27370023727417, -7.326000213623047, -7.326099872589111, -7.326200008392334, -7.260200023651123, -7.544099807739258, -7.544000148773193, -6.873000144958496, -7.566500186920166, -5.8968000411987305, -7.590000152587891, -5.90339994430542, -7.369999885559082, -7.767499923706055, -5.547299861907959, -6.1921000480651855, -6.026800155639648, -4.329999923706055, -6.441199779510498, -5.289299964904785, -5.72629976272583, -6.450699806213379, -5.247900009155273, -6.448400020599365, -4.462399959564209, -4.359099864959717, -4.661099910736084, -5.9085001945495605, -5.376999855041504, -5.902299880981445, -4.818999767303467, -5.318399906158447, -5.146100044250488, -5.665500164031982, -5.798500061035156, -5.2210001945495605, -6.069399833679199, -5.5355000495910645, -5.432499885559082, -5.926300048828125, -5.939499855041504, -5.8024001121521, -5.799699783325195, -5.877399921417236, -5.928999900817871, -5.117599964141846, -5.435200214385986, -5.641499996185303, -5.312699794769287, -5.565700054168701, -6.053999900817871, -6.067599773406982, -5.869900226593018, -6.512499809265137, -6.686800003051758, -6.809100151062012, -6.94920015335083, -6.949399948120117, -6.917699813842773, -6.69290018081665, -7.171299934387207, -7.171800136566162, -6.196400165557861, -7.172800064086914, -7.281199932098389, -7.378600120544434, -7.17579984664917, -7.431600093841553, -6.794400215148926, -7.545499801635742, -7.269199848175049, -7.314700126647949, -5.970200061798096, -7.9953999519348145, -8.331600189208984, -5.1041998863220215, -6.29580020904541, -6.306700229644775, -5.6717000007629395, -6.543399810791016, -5.946499824523926, -6.924499988555908, -6.156899929046631, -6.199399948120117, -4.559599876403809, -5.950900077819824, -5.991199970245361, -6.637800216674805, -5.293600082397461, -4.734000205993652, -5.943299770355225, -5.925600051879883, -4.938499927520752, -5.222700119018555, -5.392899990081787, -4.938300132751465, -5.049099922180176, -5.087500095367432, -5.101500034332275, -5.420300006866455, -5.608799934387207, -5.662399768829346, -5.580399990081787, -5.527699947357178, -5.590400218963623, -5.412899971008301, -5.618000030517578, -5.6940999031066895, -5.603000164031982, -5.498700141906738, -5.719299793243408, -5.727200031280518, -5.715099811553955, -4.918300151824951, -5.857600212097168, -6.4934000968933105, -6.7083001136779785, -4.790800094604492, -6.497900009155273, -6.533100128173828, -6.933499813079834, -7.093400001525879, -7.038000106811523, -7.218500137329102, -6.180099964141846, -7.2870001792907715, -7.157100200653076, -7.160600185394287, -7.5278000831604, -7.366499900817871, -6.5777997970581055, -7.663000106811523, -8.077799797058105, -7.897600173950195, -8.192299842834473, -8.0871000289917, -7.344900131225586, -8.195699691772461, -8.312600135803223, -8.318300247192383, -8.4552001953125, -7.407899856567383, -7.362100124359131, -5.226799964904785, -7.5279998779296875, -5.923399925231934, -7.409999847412109, -4.558800220489502, -6.391499996185303, -5.747799873352051, -6.437399864196777, -6.453800201416016, -6.751100063323975, -6.554699897766113, -6.230599880218506, -5.757900238037109, -5.052000045776367, -5.4191999435424805, -5.695400238037109, -5.032899856567383, -5.316100120544434, -5.899700164794922, -6.411300182342529, -5.733799934387207, -5.717100143432617, -5.25600004196167, -5.690899848937988, -5.430300235748291, -5.985899925231934, -5.604000091552734, -5.940499782562256, -5.70959997177124, -5.77810001373291, -5.796199798583984, -5.7621002197265625, -5.696199893951416, -6.019999980926514, -5.914299964904785, -5.954899787902832, -5.836400032043457, -5.826099872589111, -5.878699779510498, -5.89109992980957, -5.918000221252441, -6.286300182342529, -6.342100143432617, -6.431600093841553, -6.315299987792969, -6.530399799346924, -6.718699932098389, -6.7195000648498535, -6.805799961090088, -6.808000087738037, -6.682400226593018, -7.123300075531006, -7.123799800872803, -5.646200180053711, -6.246699810028076, -7.256800174713135, -7.384500026702881, -7.467700004577637, -5.513999938964844, -5.626399993896484, -5.716899871826172, -6.735599994659424, -7.6631999015808105, -7.270999908447266, -7.142399787902832, -7.08489990234375, -5.925300121307373, -7.189300060272217, -7.998300075531006, -6.853000164031982, -7.436800003051758, -6.503600120544434, -5.94320011138916, -6.433899879455566, -4.288700103759766, -5.616399765014648, -6.416999816894531, -5.218299865722656, -6.3805999755859375, -6.221399784088135, -6.355999946594238, -5.614200115203857, -6.451700210571289, -5.190999984741211, -5.943299770355225, -5.837900161743164, -5.061800003051758, -5.13040018081665, -4.749000072479248, -6.186500072479248, -6.313799858093262, -5.108399868011475, -5.470699787139893, -5.308000087738037, -6.188000202178955, -5.117199897766113, -6.256899833679199, -5.954999923706055, -5.452300071716309, -5.896999835968018, -5.462800025939941, -5.78849983215332, -5.968900203704834, -5.738900184631348, -5.785399913787842, -5.953800201416016, -5.90749979019165, -5.882400035858154, -5.852200031280518, -5.870699882507324, -5.868199825286865, -5.915500164031982, -5.922599792480469, -5.355100154876709, -2.984100103378296, -5.9243998527526855, -5.627799987792969, -4.834499835968018, -6.409599781036377, -6.3308000564575195, -6.223599910736084, -6.452600002288818, -6.591800212860107, -6.591800212860107, -6.753600120544434, -6.596700191497803, -5.414400100708008, -7.047699928283691, -7.101500034332275, -7.101500034332275, -5.793700218200684, -7.190400123596191, -7.218999862670898, -7.219099998474121, -6.765699863433838, -7.222499847412109, -7.641200065612793, -6.7281999588012695, -7.7916998863220215, -7.908699989318848, -7.5731000900268555, -6.882199764251709, -7.932400226593018, -4.706399917602539, -4.10260009765625, -6.111100196838379, -5.707699775695801, -5.917200088500977, -5.6296000480651855, -5.787700176239014, -6.833399772644043, -5.949399948120117, -4.973499774932861, -6.072199821472168, -5.118899822235107, -5.956299781799316, -5.432000160217285, -4.505099773406982, -5.5015997886657715, -5.217800140380859, -5.042799949645996, -5.627900123596191, -5.741799831390381, -5.873600006103516, -5.498799800872803, -5.398200035095215, -5.592800140380859, -5.660799980163574, -5.934199810028076, -5.730100154876709, -5.820099830627441, -5.762499809265137, -5.789999961853027, -5.808499813079834, -5.8144001960754395, -4.637800216674805, -4.690800189971924, -5.01800012588501, -4.343400001525879, -5.445000171661377, -3.34879994392395, -5.561100006103516, -5.638000011444092, -5.743500232696533, -5.788899898529053, -5.751200199127197, -5.666999816894531, -6.148499965667725, -6.193999767303467, -6.253600120544434, -4.993599891662598, -6.520699977874756, -6.6585001945495605, -4.931300163269043, -6.776299953460693, -6.298600196838379, -6.777200222015381, -6.841899871826172, -6.887700080871582, -7.063000202178955, -7.150199890136719, -7.180799961090088, -6.707699775695801, -4.772600173950195, -6.309299945831299, -4.617800235748291, -4.45550012588501, -6.526500225067139, -6.134699821472168, -4.665599822998047, -6.198400020599365, -5.656799793243408, -4.570199966430664, -5.823400020599365, -4.458899974822998, -5.658599853515625, -4.590400218963623, -4.742099761962891, -5.726399898529053, -5.776400089263916, -5.145400047302246, -5.0304999351501465, -5.633299827575684, -5.537799835205078, -5.299099922180176, -5.6132001876831055, -5.5808000564575195, -5.595300197601318, -5.618000030517578, -4.490200042724609, -4.842199802398682, -5.726500034332275, -5.819499969482422, -5.895299911499023, -6.131499767303467, -6.313600063323975, -6.0106000900268555, -6.396999835968018, -6.487800121307373, -6.278200149536133, -6.642099857330322, -5.61870002746582, -6.401599884033203, -6.73859977722168, -6.8460001945495605, -6.82480001449585, -6.892399787902832, -7.019999980926514, -7.195499897003174, -6.219399929046631, -5.464799880981445, -7.333600044250488, -6.606900215148926, -7.409800052642822, -7.49399995803833, -7.537399768829346, -7.633500099182129, -5.881199836730957, -6.671800136566162, -4.402400016784668, -4.6981000900268555, -6.522600173950195, -5.548699855804443, -5.469799995422363, -3.908900022506714, -6.069699764251709, -5.001800060272217, -4.706500053405762, -6.481900215148926, -5.691199779510498, -4.411799907684326, -3.676300048828125, -5.461599826812744, -5.7108001708984375, -6.121699810028076, -5.646500110626221, -5.694200038909912, -5.189899921417236, -5.220900058746338, -5.750899791717529, -5.071100234985352, -4.996399879455566, -5.550899982452393, -5.5808000564575195, -5.2617998123168945, -5.756999969482422, -5.7357001304626465, -5.62060022354126, -5.712900161743164, -5.724100112915039, -5.734499931335449, -3.2139999866485596, -5.968200206756592, -6.077199935913086, -5.903800010681152, -6.274799823760986, -6.30649995803833, -6.339099884033203, -6.390699863433838, -6.501999855041504, -6.604300022125244, -6.696899890899658, -6.7692999839782715, -6.451200008392334, -6.848899841308594, -6.054100036621094, -6.906300067901611, -6.906400203704834, -6.96619987487793, -6.966300010681152, -6.966300010681152, -7.031000137329102, -7.030700206756592, -7.135499954223633, -7.1732001304626465, -7.213799953460693, -7.252799987792969, -7.295199871063232, -7.339399814605713, -7.3394999504089355, -7.3394999504089355, -4.887199878692627, -4.641900062561035, -5.622099876403809, -3.4091999530792236, -6.859600067138672, -5.496600151062012, -6.535699844360352, -5.680300235748291, -5.45959997177124, -6.024600028991699, -5.6417999267578125, -5.55079984664917, -4.564599990844727, -5.794099807739258, -5.476099967956543, -5.1859002113342285, -4.953499794006348, -5.894700050354004, -5.7692999839782715, -5.760799884796143, -5.577300071716309, -5.50029993057251, -5.814199924468994, -5.935699939727783, -5.880899906158447, -5.862800121307373, -5.931300163269043, -5.872399806976318, -5.938700199127197, -6.019899845123291]}, \"token.table\": {\"Topic\": [2, 1, 8, 1, 2, 4, 5, 6, 7, 9, 2, 3, 4, 5, 6, 5, 5, 1, 2, 3, 4, 5, 6, 7, 8, 9, 3, 1, 3, 1, 2, 3, 4, 5, 6, 7, 8, 9, 1, 1, 1, 7, 8, 1, 2, 3, 4, 5, 6, 7, 8, 9, 1, 2, 3, 4, 5, 6, 7, 8, 9, 7, 1, 2, 3, 5, 6, 7, 8, 9, 1, 3, 5, 6, 7, 9, 9, 1, 2, 3, 4, 5, 6, 7, 8, 9, 8, 9, 4, 5, 4, 1, 2, 3, 4, 5, 6, 7, 8, 9, 1, 2, 5, 7, 8, 2, 4, 7, 9, 2, 6, 1, 2, 3, 4, 5, 6, 7, 8, 9, 1, 4, 5, 8, 3, 5, 8, 9, 3, 5, 9, 1, 3, 4, 5, 6, 7, 8, 9, 2, 3, 4, 5, 6, 7, 8, 9, 1, 2, 3, 4, 5, 6, 7, 8, 9, 4, 1, 2, 3, 4, 5, 6, 7, 8, 9, 1, 3, 4, 9, 8, 8, 2, 9, 1, 2, 3, 4, 5, 6, 7, 8, 2, 1, 3, 5, 8, 9, 8, 3, 1, 2, 3, 4, 5, 6, 7, 8, 9, 5, 6, 7, 8, 2, 5, 1, 8, 1, 2, 3, 4, 6, 4, 5, 2, 5, 9, 1, 1, 2, 3, 4, 5, 6, 7, 8, 9, 1, 2, 3, 4, 5, 6, 7, 8, 9, 1, 2, 4, 5, 7, 8, 9, 1, 2, 3, 4, 5, 6, 7, 8, 9, 2, 3, 7, 1, 2, 3, 4, 5, 6, 7, 8, 9, 5, 1, 2, 3, 4, 5, 8, 9, 3, 1, 3, 2, 5, 9, 1, 3, 4, 6, 9, 1, 2, 3, 4, 6, 8, 9, 1, 4, 5, 6, 7, 8, 9, 7, 8, 1, 2, 3, 4, 5, 6, 7, 8, 9, 1, 2, 3, 4, 5, 6, 8, 9, 3, 9, 1, 2, 3, 4, 5, 6, 7, 8, 3, 6, 7, 1, 2, 3, 4, 5, 6, 7, 8, 2, 1, 2, 3, 4, 5, 6, 7, 8, 9, 2, 5, 6, 1, 5, 6, 1, 2, 4, 5, 6, 7, 8, 7, 7, 7, 1, 3, 4, 5, 8, 9, 6, 6, 1, 3, 5, 9, 1, 3, 7, 8, 4, 1, 2, 3, 4, 5, 6, 7, 8, 9, 6, 7, 8, 7, 1, 2, 3, 4, 5, 6, 7, 8, 9, 2, 3, 5, 6, 7, 8, 1, 2, 3, 4, 5, 6, 7, 8, 9, 7, 2, 3, 4, 5, 6, 8, 1, 2, 3, 4, 5, 6, 7, 8, 9, 2, 3, 4, 6, 8, 9, 3, 8, 2, 3, 6, 7, 9, 7, 1, 2, 3, 4, 5, 6, 7, 8, 9, 1, 2, 3, 4, 5, 6, 7, 8, 9, 1, 2, 3, 4, 5, 7, 8, 9, 1, 2, 3, 4, 5, 8, 5, 9, 5, 5, 2, 1, 2, 3, 4, 5, 6, 7, 8, 9, 3, 4, 6, 8, 9, 1, 2, 3, 4, 5, 6, 7, 9, 2, 4, 5, 6, 8, 1, 2, 3, 4, 5, 6, 7, 8, 9, 7, 8, 9, 1, 2, 3, 4, 5, 6, 7, 8, 9, 1, 2, 3, 4, 8, 2, 3, 6, 8, 8, 1, 8, 3, 1, 2, 3, 4, 5, 6, 7, 8, 1, 2, 5, 7, 8, 3, 1, 8, 1, 2, 3, 4, 5, 6, 7, 8, 9, 5, 8, 9, 1, 3, 4, 5, 6, 9, 2, 3, 5, 7, 1, 2, 3, 4, 5, 6, 7, 8, 9, 3, 4, 6, 5, 9, 1, 2, 3, 4, 5, 6, 8, 9, 2, 3, 6, 1, 5, 9, 1, 2, 5, 6, 7, 8, 9, 1, 2, 3, 4, 5, 6, 7, 8, 9, 8, 4, 1, 2, 3, 4, 5, 6, 7, 8, 9, 2, 3, 4, 6, 1, 2, 3, 4, 5, 7, 8, 9, 1, 6, 5, 8, 4, 5, 1, 2, 3, 4, 5, 6, 7, 8, 9, 8, 5, 2, 3, 7, 9, 9, 6, 1, 2, 3, 4, 5, 7, 8, 8, 4, 5, 1, 2, 3, 4, 5, 6, 7, 8, 9, 1, 2, 3, 4, 5, 6, 7, 8, 9, 7, 8, 1, 2, 3, 4, 5, 6, 7, 8, 9, 1, 2, 3, 4, 5, 6, 7, 8, 9, 3, 4, 5, 8, 9, 1, 2, 3, 4, 5, 6, 7, 8, 9, 1, 2, 3, 4, 5, 6, 7, 8, 9, 3, 1, 2, 3, 4, 5, 6, 7, 8, 9, 5, 5, 1, 2, 3, 4, 5, 6, 7, 8, 9, 2, 6, 7, 8, 3, 3, 4, 9, 3, 9, 1, 2, 3, 4, 5, 6, 7, 8, 9, 1, 2, 3, 4, 5, 6, 7, 8, 9, 1, 2, 3, 4, 5, 6, 7, 8, 9, 2, 3, 4, 5, 7, 8, 9, 2, 5, 2, 3, 5, 6, 7, 1, 2, 3, 4, 5, 6, 7, 8, 9, 7, 3, 3, 9, 1, 2, 3, 4, 5, 6, 7, 8, 9, 1, 2, 3, 4, 5, 6, 7, 8, 9, 5, 1, 2, 4, 5, 4, 1, 2, 3, 4, 5, 6, 8, 9, 8, 1, 2, 3, 4, 6, 7, 4, 7, 1, 2, 3, 4, 5, 6, 8, 9, 1, 2, 3, 4, 5, 6, 7, 8, 9, 6, 1, 2, 3, 4, 5, 6, 7, 8, 9, 7, 1, 4, 4, 3, 8, 1, 4, 2, 9, 3, 3, 5, 2, 3, 4, 6, 7, 8, 1, 3, 4, 6, 8, 9, 1, 2, 3, 4, 5, 6, 7, 8, 9, 1, 2, 3, 4, 5, 6, 7, 8, 9, 1, 2, 3, 5, 6, 9, 1, 3, 5, 6, 1, 2, 3, 4, 5, 6, 7, 8, 9, 7, 8, 7, 2, 5, 1, 6, 9, 1, 2, 3, 4, 5, 6, 7, 8, 9, 6, 6, 6, 8, 9, 1, 4, 8, 1, 8, 8, 1, 2, 3, 4, 5, 6, 7, 8, 9, 1, 2, 3, 4, 6, 7, 8, 3, 7, 9, 2, 4, 5, 7, 8, 8, 1, 2, 3, 4, 5, 6, 7, 8, 9, 6, 6, 1, 4, 6, 7, 9, 1, 2, 3, 4, 5, 6, 8, 9, 4, 1, 2, 3, 4, 5, 6, 7, 8, 9, 1, 2, 3, 4, 5, 6, 7, 8, 9, 1, 2, 5, 1, 2, 3, 4, 5, 6, 7, 8, 9, 1, 2, 3, 4, 5, 6, 9, 7, 2, 2, 5, 2, 3, 7, 9, 9, 6, 6, 2, 5, 6, 7, 9, 3, 2, 7, 1, 2, 3, 4, 5, 6, 7, 8, 9, 5, 6, 8, 1, 2, 3, 4, 5, 6, 7, 8, 9, 1, 2, 3, 4, 5, 6, 7, 8, 9, 1, 6, 7, 9, 1, 2, 3, 4, 5, 6, 7, 8, 9, 1, 2, 3, 4, 5, 6, 7, 8, 9, 3, 1, 2, 3, 4, 5, 6, 7, 8, 9, 1, 2, 3, 4, 8, 9, 3, 2, 4, 1, 2, 3, 4, 5, 6, 7, 8, 9, 1, 2, 3, 4, 5, 6, 7, 8, 9, 3, 5, 6, 7, 9, 1, 2, 3, 4, 5, 6, 7, 8, 9, 3, 4, 5, 9, 1, 2, 3, 4, 5, 6, 7, 8, 9, 3, 3, 1, 2, 3, 4, 5, 6, 7, 8, 9, 3, 9, 2, 2, 1, 2, 3, 4, 5, 6, 7, 8, 9, 1, 2, 4, 9, 1, 2, 3, 4, 6, 7, 8, 9, 2, 4, 8, 3, 4, 6, 7, 9, 2, 4, 3, 3, 2, 5, 5, 1, 2, 3, 4, 5, 6, 7, 8, 9, 1, 3, 2, 3, 4, 8, 9, 1, 4, 5, 7, 4, 3, 2, 3, 4, 5, 1, 4, 8, 9, 5, 8, 2, 2, 5, 1, 2, 3, 4, 5, 7, 8, 9, 1, 2, 4, 5, 7, 8, 9, 2, 4, 6, 8, 9, 4, 3, 4, 6, 9, 6, 1, 2, 3, 4, 6, 7, 8, 9, 1, 2, 3, 4, 5, 6, 7, 8, 9, 2, 6, 2, 2, 3, 5, 7, 1, 2, 3, 4, 5, 6, 7, 8, 9, 9, 9, 1, 2, 3, 4, 5, 6, 7, 8, 9, 1, 2, 4, 5, 8, 9, 1, 2, 8, 9, 1, 2, 3, 4, 6, 7, 8, 9, 1, 6, 8, 1, 2, 3, 4, 5, 6, 7, 8, 9, 1, 3, 4, 5, 6, 8, 9, 4, 6, 1, 3, 4, 5, 6, 9, 1, 2, 3, 4, 5, 6, 7, 8, 9, 2, 3, 4, 1, 2, 4, 5, 8, 6, 8, 3, 5, 7, 1, 2, 3, 4, 5, 6, 7, 8, 9, 1, 2, 3, 4, 5, 6, 7, 8, 9, 1, 2, 3, 4, 6, 9, 7, 9, 2, 3, 4, 5, 8, 1, 2, 3, 4, 5, 6, 7, 8, 9, 8, 8, 6, 9, 1, 2, 3, 4, 5, 6, 7, 8, 9, 1, 2, 4, 5, 6, 7, 8, 1, 2, 6, 1, 2, 3, 4, 6, 8, 9, 7, 7, 1, 2, 3, 4, 5, 6, 7, 8, 9, 4, 4, 1, 2, 3, 4, 6, 9, 1, 4, 6, 9, 1, 5, 9, 1, 2, 3, 4, 5, 6, 7, 8, 9, 1, 2, 3, 4, 5, 6, 7, 8, 9, 8, 1, 2, 3, 4, 5, 6, 7, 8, 9, 2, 4, 8, 9, 2, 8, 1, 4, 5, 6, 7, 8, 9, 1, 2, 4, 5, 7, 8, 9, 1, 2, 3, 4, 5, 6, 7, 8, 9, 2, 3, 7, 3, 1, 2, 3, 4, 5, 6, 7, 8, 9, 1, 2, 4, 5, 6, 9, 3, 8, 9, 5, 6, 9, 4, 1, 2, 3, 4, 5, 6, 7, 8, 9, 4, 1, 2, 4, 6, 7, 8, 9, 6, 7, 8, 9, 6, 7, 8, 9, 1, 2, 3, 4, 5, 6, 7, 8, 9, 1, 2, 1, 3, 4, 5, 6, 7, 8, 9, 6, 8, 1, 2, 3, 4, 5, 6, 7, 8, 9, 2, 3, 4, 7, 8, 7, 7, 1, 1, 1, 1, 1, 2, 3, 4, 6, 8, 9, 1, 4, 5, 4, 9, 6, 2, 7, 1, 4, 5, 6, 8, 3, 1, 2, 3, 4, 5, 6, 7, 8, 9, 1, 2, 3, 4, 5, 6, 7, 8, 9, 1, 1, 1, 9, 1, 2, 3, 4, 6, 8, 9, 7, 8, 6, 1, 2, 3, 4, 5, 6, 8, 9, 2, 1, 2, 3, 4, 5, 6, 8, 9, 2, 3, 4, 8, 8, 1, 2, 3, 4, 5, 6, 7, 8, 9, 1, 2, 3, 4, 5, 6, 7, 8, 9, 2, 4, 1, 2, 3, 4, 5, 6, 7, 8, 9, 1, 2, 1, 2, 3, 6, 7, 1, 2, 3, 4, 5, 6, 7, 8, 9, 2, 3, 4, 5, 6, 7, 8, 9, 5, 9, 2, 4, 1, 2, 3, 4, 5, 6, 7, 8, 9, 3, 2, 1, 2, 3, 4, 8, 9, 1, 2, 3, 4, 5, 6, 7, 8, 9, 1, 2, 3, 4, 5, 6, 7, 8, 9, 1, 3, 4, 8, 1, 7, 1, 2, 3, 4, 5, 6, 7, 8, 9, 1, 2, 7, 8, 4, 8, 1, 2, 3, 4, 5, 6, 7, 8, 9, 1, 2, 3, 4, 5, 6, 7, 8, 9, 7, 6, 1, 2, 3, 4, 5, 6, 7, 8, 9, 8, 8, 1, 1, 2, 3, 5, 6, 7, 8, 9, 2, 3, 5, 7, 1, 2, 3, 4, 5, 6, 7, 8, 9, 1, 2, 3, 4, 5, 7, 5, 5, 7, 1, 4, 5, 6, 9, 1, 2, 3, 4, 6, 7, 8, 9, 1, 2, 3, 4, 5, 6, 7, 8, 9, 1, 2, 3, 4, 5, 6, 7, 8, 1, 2, 3, 4, 5, 6, 7, 8, 9, 2, 3, 4, 5, 6, 7, 9, 3, 8, 1, 2, 3, 4, 5, 6, 7, 8, 9, 6, 9, 2, 3, 4, 5, 6, 7, 8, 4, 2, 7, 8, 9, 4, 2, 9, 4, 5, 7, 8, 7, 3, 7, 2, 3, 4, 5, 9, 5, 1, 2, 3, 4, 5, 6, 7, 8, 9, 1, 8, 9, 1, 2, 3, 4, 5, 6, 7, 8, 9, 2, 3, 7, 2, 3, 7, 8, 9, 1, 2, 3, 4, 5, 6, 7, 9, 4, 1, 2, 3, 4, 5, 6, 7, 8, 9, 6, 3, 8, 9, 1, 2, 3, 4, 5, 6, 7, 8, 9, 1, 3, 6, 8, 2, 1, 2, 4, 8, 2, 3, 5, 7, 8, 9, 1, 2, 3, 4, 5, 6, 7, 8, 9, 1, 2, 3, 4, 5, 6, 7, 8, 9, 2, 1, 2, 3, 4, 5, 6, 7, 8, 9, 7, 8, 9, 4, 9, 9, 3, 5, 2, 3, 4, 8, 9, 4, 1, 3, 4, 5, 6, 8, 9, 3, 6, 2, 1, 1, 1, 2, 5, 7, 1, 3, 4, 5, 9, 1, 2, 3, 4, 5, 6, 7, 8, 9, 1, 2, 3, 4, 5, 6, 7, 8, 9, 1, 2, 3, 4, 5, 6, 7, 8, 9, 1, 2, 3, 4, 5, 6, 7, 8, 9, 1, 2, 3, 4, 5, 6, 7, 1, 2, 3, 4, 5, 6, 8, 9, 9, 9, 1, 4, 5, 8, 9, 1, 2, 3, 4, 5, 6, 7, 8, 9, 1, 2, 3, 4, 5, 6, 7, 8, 9, 1, 2, 3, 4, 5, 6, 7, 8, 9, 1, 2, 3, 4, 5, 6, 7, 8, 9, 9, 1, 1, 2, 3, 4, 5, 6, 7, 8, 9, 5, 6, 1, 2, 3, 4, 5, 6, 9, 1, 2, 3, 4, 6, 7, 9, 1, 2, 3, 5, 6, 7, 8, 9, 1, 2, 3, 4, 5, 6, 7, 8, 9, 1, 1, 1, 2, 3, 4, 5, 6, 7, 8, 9, 9, 9, 9], \"Freq\": [0.9883615374565125, 0.9317118525505066, 0.041409414261579514, 0.020594852045178413, 0.006864950992166996, 0.6727651953697205, 0.15446139872074127, 0.04805465787649155, 0.08237940818071365, 0.013729901984333992, 0.02776608243584633, 0.11106432974338531, 0.013883041217923164, 0.8399239778518677, 0.006941520608961582, 0.9740123152732849, 0.9881682991981506, 0.0931992307305336, 0.3360820710659027, 0.09602344781160355, 0.0621328204870224, 0.09743556380271912, 0.14403517544269562, 0.1087324395775795, 0.033890631049871445, 0.029654301702976227, 0.9788880944252014, 0.9528159499168396, 0.01985033228993416, 0.45782819390296936, 0.1340680718421936, 0.05847650021314621, 0.06418152153491974, 0.07273906469345093, 0.03850891441106796, 0.06560777872800827, 0.08272285014390945, 0.025672608986496925, 0.9771460890769958, 0.9317179322242737, 0.924795925617218, 0.01744898036122322, 0.03489796072244644, 0.10437449812889099, 0.12226726859807968, 0.5024886131286621, 0.0864817276597023, 0.0014910642057657242, 0.05964256823062897, 0.05367831140756607, 0.0029821284115314484, 0.06858895719051361, 0.45559626817703247, 0.14967241883277893, 0.14309340715408325, 0.057566314935684204, 0.02138177491724491, 0.06414531916379929, 0.0493425577878952, 0.0493425577878952, 0.01151326298713684, 0.9920799136161804, 0.02002294547855854, 0.7742205262184143, 0.02669725939631462, 0.10678903758525848, 0.0033371574245393276, 0.05339451879262924, 0.01334862969815731, 0.0033371574245393276, 0.9011322855949402, 0.006172139197587967, 0.04320497438311577, 0.0370328351855278, 0.006172139197587967, 0.9567442536354065, 0.9824214577674866, 0.00579088507220149, 0.24032172560691833, 0.10134048759937286, 0.014477211982011795, 0.002895442536100745, 0.008686327375471592, 0.24032172560691833, 0.3764075040817261, 0.01158177014440298, 0.9721556305885315, 0.9567430019378662, 0.945024847984314, 0.04973815008997917, 0.9751201272010803, 0.42406386137008667, 0.13081660866737366, 0.07303927093744278, 0.08830121159553528, 0.09811245650053024, 0.03488443046808243, 0.06431816518306732, 0.05450692027807236, 0.032704152166843414, 0.938094437122345, 0.02207281067967415, 0.011036405339837074, 0.011036405339837074, 0.011036405339837074, 0.9768825173377991, 0.005614267196506262, 0.005614267196506262, 0.011228534393012524, 0.042337559163570404, 0.9314262866973877, 0.051698651164770126, 0.005441963206976652, 0.09387386590242386, 0.002720981603488326, 0.008162944577634335, 0.07618748396635056, 0.002720981603488326, 0.6666404604911804, 0.09251337498426437, 0.08207922428846359, 0.0041039614006876945, 0.8782476782798767, 0.032831691205501556, 0.030588282272219658, 0.9421190619468689, 0.006117656361311674, 0.012235312722623348, 0.9772107601165771, 0.9577043652534485, 0.01954498700797558, 0.3857371211051941, 0.024975785985589027, 0.25530803203582764, 0.022200698032975197, 0.005550174508243799, 0.024975785985589027, 0.0027750872541218996, 0.2802838087081909, 0.10133613646030426, 0.10800299048423767, 0.004000110551714897, 0.12400343269109726, 0.005333480890840292, 0.6240172386169434, 0.02800077386200428, 0.005333480890840292, 0.014290646649897099, 0.08812565356492996, 0.2691405117511749, 0.47873666882514954, 0.08574388176202774, 0.019054194912314415, 0.023817744106054306, 0.016672421246767044, 0.002381774364039302, 0.9542163014411926, 0.08229243755340576, 0.001870282692834735, 0.008416271768510342, 0.08042215555906296, 0.32916975021362305, 0.12343865633010864, 0.02057310938835144, 0.038340795785188675, 0.3160777688026428, 0.9479729533195496, 0.055232491344213486, 0.9113360643386841, 0.9679872393608093, 0.9870173931121826, 0.9805371165275574, 0.9871172904968262, 0.9847623705863953, 0.7614420056343079, 0.07720915973186493, 0.07720915973186493, 0.007987153716385365, 0.007987153716385365, 0.01331192348152399, 0.018636692315340042, 0.03461100161075592, 0.9870885610580444, 0.00609646737575531, 0.09754347801208496, 0.03657880425453186, 0.8169265985488892, 0.04267527163028717, 0.9855481386184692, 0.9816687107086182, 0.061879150569438934, 0.1285182386636734, 0.20229722559452057, 0.08448883891105652, 0.15231791138648987, 0.15350788831710815, 0.06663908809423447, 0.08805879205465317, 0.06306913495063782, 0.010093101300299168, 0.006728734355419874, 0.9823951721191406, 0.003364367177709937, 0.013909603469073772, 0.9736722111701965, 0.07602976262569427, 0.9182056188583374, 0.15451999008655548, 0.12092868983745575, 0.03359130397439003, 0.6852625608444214, 0.9824650287628174, 0.981987476348877, 0.010910972021520138, 0.1298055648803711, 0.8599618673324585, 0.9732340574264526, 0.9708994626998901, 0.017327044159173965, 0.7313836216926575, 0.033742137253284454, 0.015503143891692162, 0.023710690438747406, 0.013679244555532932, 0.10122641175985336, 0.062012575566768646, 0.0009119496680796146, 0.036354273557662964, 0.011252513155341148, 0.4752022922039032, 0.06491834670305252, 0.05366583168506622, 0.10646608471870422, 0.0008655779529362917, 0.052800253033638, 0.19821734726428986, 0.024127166718244553, 0.0010490071726962924, 0.009441064670681953, 0.11014575511217117, 0.002098014345392585, 0.8507448434829712, 0.003147021634504199, 0.01751781441271305, 0.13576306402683258, 0.0700712576508522, 0.05693289637565613, 0.004379453603178263, 0.0350356288254261, 0.1226247027516365, 0.008758907206356525, 0.551811158657074, 0.9350416660308838, 0.04369353502988815, 0.01966209150850773, 0.4363744258880615, 0.06842107325792313, 0.20070181787014008, 0.060818735510110855, 0.05017545446753502, 0.03801170736551285, 0.0851462259888649, 0.028888899832963943, 0.028888899832963943, 0.9945926666259766, 0.012793532572686672, 0.0021322553511708975, 0.012793532572686672, 0.14286111295223236, 0.010661276988685131, 0.7782732248306274, 0.04051285237073898, 0.9799028038978577, 0.007705559488385916, 0.9786060452461243, 0.009971213527023792, 0.937294065952301, 0.04985606670379639, 0.09827478229999542, 0.03930991142988205, 0.019654955714941025, 0.7337850332260132, 0.09827478229999542, 0.04558601602911949, 0.6166108250617981, 0.004798527806997299, 0.17994479835033417, 0.004798527806997299, 0.12716098129749298, 0.019194111227989197, 0.08960706740617752, 0.007467255927622318, 0.0005744043155573308, 0.27399083971977234, 0.0005744043155573308, 0.5876156091690063, 0.04078270494937897, 0.943856418132782, 0.05232466384768486, 0.5531138777732849, 0.03871797025203705, 0.0013827846851199865, 0.12859897315502167, 0.15763744711875916, 0.026272907853126526, 0.04286632314324379, 0.013827846385538578, 0.03871797025203705, 0.012787723913788795, 0.07672633975744247, 0.4880647659301758, 0.11295822262763977, 0.18542198836803436, 0.031969308853149414, 0.08951406180858612, 0.0021312872413545847, 0.9934436082839966, 0.004156667739152908, 0.03540060669183731, 0.04867583513259888, 0.006637614220380783, 0.08186390995979309, 0.7234999537467957, 0.01548776589334011, 0.01991284266114235, 0.06858868151903152, 0.018471086397767067, 0.9604964852333069, 0.018471086397767067, 0.005935045890510082, 0.07863935828208923, 0.30120357871055603, 0.06231798231601715, 0.5267353057861328, 0.004451284650713205, 0.0014837614726275206, 0.016321375966072083, 0.9824178218841553, 0.5612512230873108, 0.06796400994062424, 0.04165536165237427, 0.13812041282653809, 0.03946297615766525, 0.05480968579649925, 0.050424911081790924, 0.024116262793540955, 0.024116262793540955, 0.023618321865797043, 0.9683511853218079, 0.9701293110847473, 0.93963623046875, 0.9510675668716431, 0.021615171805024147, 0.6941691040992737, 0.0311286598443985, 0.10583744198083878, 0.09961170703172684, 0.0311286598443985, 0.0031128658447414637, 0.0311286598443985, 0.9935746788978577, 0.997443675994873, 0.9934790134429932, 0.0463612861931324, 0.0618150494992733, 0.8551081418991089, 0.010302508249878883, 0.020605016499757767, 0.005151254124939442, 0.8982675671577454, 0.9885145425796509, 0.06071198359131813, 0.9258577823638916, 0.985133171081543, 0.9766561388969421, 0.9371398091316223, 0.018742796033620834, 0.02811419405043125, 0.9959195256233215, 0.9700192809104919, 0.006503554526716471, 0.28290462493896484, 0.1544594168663025, 0.4942701458930969, 0.004877666011452675, 0.0016258886316791177, 0.011381220072507858, 0.01788477413356304, 0.024388330057263374, 0.03398384526371956, 0.9288917779922485, 0.022655896842479706, 0.9865096807479858, 0.01806202344596386, 0.18836110830307007, 0.04902549460530281, 0.020642312243580818, 0.0025802890304476023, 0.10837214440107346, 0.4102659821510315, 0.13417503237724304, 0.06708751618862152, 0.7068913578987122, 0.0036065885797142982, 0.005409882869571447, 0.0036065885797142982, 0.27410072088241577, 0.005409882869571447, 0.056895218789577484, 0.005550753325223923, 0.027753766626119614, 0.02636607736349106, 0.05134446546435356, 0.04440602660179138, 0.568952202796936, 0.047181401401758194, 0.17068566381931305, 0.9976468682289124, 0.0017755418084561825, 0.26988235116004944, 0.06036842241883278, 0.6605015397071838, 0.003551083616912365, 0.003551083616912365, 0.0444474034011364, 0.20636294782161713, 0.14075011014938354, 0.10159406810998917, 0.11006023734807968, 0.1005357950925827, 0.06772937625646591, 0.15450763702392578, 0.0740790069103241, 0.06685119867324829, 0.8490102291107178, 0.046795837581157684, 0.013370239175856113, 0.013370239175856113, 0.013370239175856113, 0.009961522184312344, 0.9861907362937927, 0.041834402829408646, 0.0488068051636219, 0.041834402829408646, 0.8366881012916565, 0.02788960374891758, 0.9791409969329834, 0.04350417107343674, 0.07885131239891052, 0.024471096694469452, 0.5655542016029358, 0.12779350578784943, 0.04622318223118782, 0.057099226862192154, 0.013595053926110268, 0.040785159915685654, 0.18423183262348175, 0.19848179817199707, 0.030535662546753883, 0.09974982589483261, 0.16896399855613708, 0.07633915543556213, 0.12621407210826874, 0.06921416521072388, 0.04478563740849495, 0.0068503487855196, 0.009133798070251942, 0.25574636459350586, 0.4658237099647522, 0.009133798070251942, 0.015984147787094116, 0.004566899035125971, 0.2329118549823761, 0.009150411002337933, 0.0010167122818529606, 0.002033424563705921, 0.034568220376968384, 0.820486843585968, 0.13318932056427002, 0.9923833012580872, 0.9606027603149414, 0.9808560013771057, 0.9887412190437317, 0.9829179644584656, 0.05101620778441429, 0.2130676954984665, 0.3861226737499237, 0.012003813870251179, 0.011003496125340462, 0.11103527247905731, 0.08102574199438095, 0.11903781443834305, 0.018005719408392906, 0.8446268439292908, 0.0063986885361373425, 0.0639868825674057, 0.07678426057100296, 0.0063986885361373425, 0.006524086929857731, 0.013048173859715462, 0.03262043371796608, 0.03262043371796608, 0.7894145250320435, 0.026096347719430923, 0.019572261720895767, 0.08481313288211823, 0.028748979791998863, 0.08624693751335144, 0.8121586441993713, 0.057497959583997726, 0.007187244947999716, 0.008428958244621754, 0.07024131715297699, 0.2978231906890869, 0.039335139095783234, 0.039335139095783234, 0.03652548789978027, 0.41301897168159485, 0.06743166595697403, 0.025286875665187836, 0.9895819425582886, 0.27552923560142517, 0.7185370326042175, 0.08727767318487167, 0.08579839020967484, 0.4097612798213959, 0.2337266504764557, 0.084319107234478, 0.022189239040017128, 0.036982063204050064, 0.03254421800374985, 0.008875695988535881, 0.0023495887871831656, 0.44877147674560547, 0.5098607540130615, 0.01409753318876028, 0.023495888337492943, 0.010031485930085182, 0.9028337597846985, 0.07022040337324142, 0.010031485930085182, 0.9890343546867371, 0.032027553766965866, 0.9448128342628479, 0.9794597625732422, 0.011721596121788025, 0.1076255664229393, 0.12360956519842148, 0.05434558540582657, 0.5423902273178101, 0.004262398928403854, 0.10655996948480606, 0.050083186477422714, 0.8467603325843811, 0.0033076575491577387, 0.06946080923080444, 0.0033076575491577387, 0.07276846468448639, 0.9876230955123901, 0.037278492003679276, 0.9506015777587891, 0.008703211322426796, 0.19768723845481873, 0.16287438571453094, 0.0024866319727152586, 0.0273529514670372, 0.24244661629199982, 0.16909097135066986, 0.15292786061763763, 0.034812845289707184, 0.8865662217140198, 0.09561008214950562, 0.008691825903952122, 0.002274492522701621, 0.06368578970432281, 0.015921447426080704, 0.025019418448209763, 0.8870521187782288, 0.004548985045403242, 0.8466301560401917, 0.00569482147693634, 0.003796547884121537, 0.1423705369234085, 0.037319134920835495, 0.15214723348617554, 0.028707027435302734, 0.11769881099462509, 0.4621831178665161, 0.01722421683371067, 0.04880194365978241, 0.10047459602355957, 0.03444843366742134, 0.005101898219436407, 0.010203796438872814, 0.9795644879341125, 0.9744075536727905, 0.9847314357757568, 0.056057993322610855, 0.3603728115558624, 0.028028996661305428, 0.03603728115558624, 0.05205385386943817, 0.456472247838974, 0.0040041422471404076, 0.0040041422471404076, 0.5322691798210144, 0.005244031548500061, 0.46147477626800537, 0.007149435579776764, 0.15013813972473145, 0.8364839553833008, 0.3005664050579071, 0.13969987630844116, 0.008466659113764763, 0.5122328996658325, 0.025399979203939438, 0.0042333295568823814, 0.0042333295568823814, 0.013706491328775883, 0.15848131477832794, 0.383781760931015, 0.15676799416542053, 0.21330727636814117, 0.02912629395723343, 0.0017133114160969853, 0.006853245664387941, 0.03597953915596008, 0.9821007251739502, 0.9928526878356934, 0.1426684707403183, 0.10110364109277725, 0.17749305069446564, 0.45384299755096436, 0.016850607469677925, 0.023590849712491035, 0.034824587404727936, 0.02920771762728691, 0.019097354263067245, 0.0019198054214939475, 0.0019198054214939475, 0.9886997938156128, 0.005759416613727808, 0.8492874503135681, 0.023591317236423492, 0.03302784264087677, 0.009436527267098427, 0.009436527267098427, 0.02830957993865013, 0.03302784264087677, 0.014154789969325066, 0.9310965538024902, 0.9562374353408813, 0.9825068116188049, 0.014170771464705467, 0.030758565291762352, 0.9535155296325684, 0.17945349216461182, 0.023006858304142952, 0.006902057211846113, 0.055216457694768906, 0.09432811290025711, 0.07132125645875931, 0.0644192025065422, 0.501549482345581, 0.006902057211846113, 0.9974523186683655, 0.9684420824050903, 0.9323474168777466, 0.013463500887155533, 0.04375637695193291, 0.01009762566536665, 0.9633608460426331, 0.9866070747375488, 0.005704367998987436, 0.03232474997639656, 0.009507279843091965, 0.0019014559220522642, 0.007605823688209057, 0.0019014559220522642, 0.9412207007408142, 0.9903565049171448, 0.946879506111145, 0.023671988397836685, 0.7252053022384644, 0.02508571743965149, 0.0045610396191477776, 0.022805197164416313, 0.07069611549377441, 0.05929351598024368, 0.01824415847659111, 0.0433298759162426, 0.02964675799012184, 0.6679109334945679, 0.13302789628505707, 0.06374253332614899, 0.005542829167097807, 0.03325697407126427, 0.055428292602300644, 0.011085658334195614, 0.013857073150575161, 0.016628487035632133, 0.9891902208328247, 0.9922223091125488, 0.021178120747208595, 0.20225104689598083, 0.29543477296829224, 0.10165497660636902, 0.07200561463832855, 0.08365357667207718, 0.08259467035531998, 0.09000701457262039, 0.05188639461994171, 0.04767795279622078, 0.12286241352558136, 0.5207899212837219, 0.06968315690755844, 0.0018337673973292112, 0.05868055671453476, 0.12652994692325592, 0.03484157845377922, 0.01467013917863369, 0.95723956823349, 0.04789740592241287, 0.8908917307853699, 0.03831792622804642, 0.01915896311402321, 0.19751527905464172, 0.017325902357697487, 0.02772144228219986, 0.5890806913375854, 0.08316432684659958, 0.034651804715394974, 0.0034651802852749825, 0.010395540855824947, 0.03811698406934738, 0.2008439600467682, 0.11505633592605591, 0.11001000553369522, 0.16854743659496307, 0.12615826725959778, 0.0797320231795311, 0.06762082874774933, 0.08477835357189178, 0.04844477400183678, 0.9818891882896423, 0.23616868257522583, 0.14412344992160797, 0.08720074594020844, 0.2071017622947693, 0.09204523265361786, 0.10052307695150375, 0.07508952915668488, 0.03754476457834244, 0.020589064806699753, 0.9875819683074951, 0.9685060381889343, 0.15359997749328613, 0.15609753131866455, 0.01998048461973667, 0.022478045895695686, 0.07742437720298767, 0.11863412708044052, 0.10239998251199722, 0.3171902000904083, 0.0324682891368866, 0.21897603571414948, 0.005213715136051178, 0.03128229081630707, 0.7455613017082214, 0.9411963224411011, 0.9082159399986267, 0.03983402997255325, 0.04780083894729614, 0.9316968321800232, 0.05671197921037674, 0.5560992956161499, 0.09512224793434143, 0.10975643992424011, 0.03475620597600937, 0.06951241195201874, 0.03841475397348404, 0.027439109981060028, 0.040244027972221375, 0.027439109981060028, 0.015980111435055733, 0.5262783765792847, 0.16193179786205292, 0.02343749813735485, 0.0010653408244252205, 0.041548293083906174, 0.1566050946712494, 0.0031960224732756615, 0.06924715638160706, 0.17416125535964966, 0.07256719470024109, 0.043540313839912415, 0.12481556832790375, 0.05224837735295296, 0.066761814057827, 0.03773494064807892, 0.031929563730955124, 0.3947655260562897, 0.013647410087287426, 0.09280239045619965, 0.01637689210474491, 0.013647410087287426, 0.00545896403491497, 0.002729482017457485, 0.854327917098999, 0.01720741018652916, 0.9808223843574524, 0.6396692395210266, 0.10148598253726959, 0.24448895454406738, 0.003075332846492529, 0.010763664729893208, 0.1991746872663498, 0.05877285823225975, 0.04244706407189369, 0.5093647837638855, 0.13060635328292847, 0.009795475751161575, 0.006530317477881908, 0.009795475751161575, 0.03265158832073212, 0.9951075315475464, 0.9861538410186768, 0.9904738068580627, 0.9808614253997803, 0.190228670835495, 0.20128847658634186, 0.07078275829553604, 0.11059805750846863, 0.1869107186794281, 0.0884784460067749, 0.06304089725017548, 0.048663146793842316, 0.04092128202319145, 0.13980500400066376, 0.09764158725738525, 0.021081706508994102, 0.3583890199661255, 0.18418754637241364, 0.09209377318620682, 0.056587737053632736, 0.012205198407173157, 0.03661559522151947, 0.9867096543312073, 0.023683354258537292, 0.023683354258537292, 0.923650860786438, 0.023683354258537292, 0.9738458395004272, 0.03237420320510864, 0.002490323269739747, 0.25899362564086914, 0.11953552067279816, 0.12451616674661636, 0.049806464463472366, 0.3785291314125061, 0.034864526242017746, 0.9979117512702942, 0.2775893211364746, 0.16722247004508972, 0.05351119115948677, 0.010033348575234413, 0.4615340232849121, 0.026755595579743385, 0.9821738600730896, 0.9861829876899719, 0.1486111283302307, 0.029722224920988083, 0.0021230161655694246, 0.583829402923584, 0.03821428865194321, 0.12101192027330399, 0.03184524178504944, 0.04670635610818863, 0.011428559198975563, 0.21877527236938477, 0.3346935212612152, 0.006530605256557465, 0.0016326513141393661, 0.382040411233902, 0.014693861827254295, 0.019591815769672394, 0.011428559198975563, 0.9896419644355774, 0.5290724039077759, 0.13113759458065033, 0.08591773360967636, 0.03165390342473984, 0.022609930485486984, 0.0587858185172081, 0.066322460770607, 0.05275650694966316, 0.022609930485486984, 0.979346513748169, 0.9918355345726013, 0.9925573468208313, 0.9967703223228455, 0.8642208576202393, 0.13264784216880798, 0.07272977381944656, 0.9212437868118286, 0.978453516960144, 0.9567559361457825, 0.9816411137580872, 0.9744196534156799, 0.013920281082391739, 0.004967916756868362, 0.2931070625782013, 0.004967916756868362, 0.04471124708652496, 0.009935833513736725, 0.6358933448791504, 0.06714844703674316, 0.0074609387665987015, 0.0074609387665987015, 0.8654689192771912, 0.05222657322883606, 0.0074609387665987015, 0.00333005771972239, 0.22977396845817566, 0.16650287806987762, 0.029970519244670868, 0.13653236627578735, 0.05883101746439934, 0.2608545124530792, 0.08325143903493881, 0.029970519244670868, 0.014371214434504509, 0.11656651645898819, 0.3624739646911621, 0.015968015417456627, 0.017564816400408745, 0.06866246461868286, 0.20279379189014435, 0.09580809623003006, 0.10698570311069489, 0.026973800733685493, 0.00899126660078764, 0.01798253320157528, 0.8991267085075378, 0.01798253320157528, 0.03596506640315056, 0.0050251903012394905, 0.020100761204957962, 0.9698617458343506, 0.0050251903012394905, 0.21795205771923065, 0.17436164617538452, 0.08233743906021118, 0.36809679865837097, 0.019373515620827675, 0.04359041154384613, 0.05004825070500374, 0.017759056761860847, 0.025831354781985283, 0.964297354221344, 0.019679537042975426, 0.9920176863670349, 0.968355655670166, 0.018270861357450485, 0.0074143134988844395, 0.9712750911712646, 0.014828626997768879, 0.2990068793296814, 0.13496030867099762, 0.10587403178215027, 0.039557330310344696, 0.07911466062068939, 0.16288313269615173, 0.03839388117194176, 0.058172546327114105, 0.08144156634807587, 0.9852449297904968, 0.9852449297904968, 0.0015292983734980226, 0.0007646491867490113, 0.9971024990081787, 0.006704299245029688, 0.006704299245029688, 0.9855319857597351, 0.028318675234913826, 0.9684986472129822, 0.9473761916160583, 0.02579100802540779, 0.02579100802540779, 0.36623233556747437, 0.4203934371471405, 0.018053706735372543, 0.020632807165384293, 0.11348044127225876, 0.005158201791346073, 0.00773730268701911, 0.0013727317564189434, 0.00411819526925683, 0.3157283067703247, 0.5436018109321594, 0.0013727317564189434, 0.13040952384471893, 0.002745463512837887, 0.9668976068496704, 0.01208622008562088, 0.01812933012843132, 0.005945176351815462, 0.005945176351815462, 0.005945176351815462, 0.8382698893547058, 0.1426842361688614, 0.9620012044906616, 0.19425711035728455, 0.10436153411865234, 0.08059603720903397, 0.09712855517864227, 0.11159450560808182, 0.10849466174840927, 0.11779420077800751, 0.13742657005786896, 0.04959756135940552, 0.9900293946266174, 0.9878605008125305, 0.9572914838790894, 0.017405299469828606, 0.005801766645163298, 0.011603533290326595, 0.005801766645163298, 0.03843813017010689, 0.0027455806266516447, 0.0027455806266516447, 0.9142783880233765, 0.0027455806266516447, 0.0027455806266516447, 0.030201386660337448, 0.005491161253303289, 0.9926900267601013, 0.25774455070495605, 0.25379446148872375, 0.12344088405370712, 0.04345118999481201, 0.06813936680555344, 0.06813936680555344, 0.05530151352286339, 0.09776517748832703, 0.03258839249610901, 0.08210489153862, 0.1664288341999054, 0.11650018393993378, 0.09652872383594513, 0.08987157046794891, 0.14090974628925323, 0.11871923506259918, 0.14645737409591675, 0.0432714968919754, 0.9385960698127747, 0.9793336987495422, 0.01681259647011757, 0.7503159642219543, 0.06500932574272156, 0.010834887623786926, 0.027087219059467316, 0.029795940965414047, 0.05417443811893463, 0.01625233143568039, 0.03521338477730751, 0.010834887623786926, 0.009555457159876823, 0.00716659240424633, 0.27471938729286194, 0.15288731455802917, 0.026277506723999977, 0.45149531960487366, 0.07883252203464508, 0.972076952457428, 0.9822530150413513, 0.9715051054954529, 0.023695247247815132, 0.9360845685005188, 0.027942823246121407, 0.006985705811530352, 0.027942823246121407, 0.9756022095680237, 0.9764921069145203, 0.9885106086730957, 0.9724851250648499, 0.005876042880117893, 0.01469010766595602, 0.005876042880117893, 0.0029380214400589466, 0.9855948686599731, 0.988967776298523, 0.9752554893493652, 0.6485475897789001, 0.05986592918634415, 0.033924028277397156, 0.047892745584249496, 0.047892745584249496, 0.06585252285003662, 0.031928494572639465, 0.02793743461370468, 0.03591955825686455, 0.974202036857605, 0.00919058546423912, 0.01378587819635868, 0.6719012260437012, 0.06578054279088974, 0.021143745630979538, 0.07282845675945282, 0.03993818536400795, 0.03993818536400795, 0.03289027139544487, 0.028191659599542618, 0.02584235556423664, 0.5498962998390198, 0.06827154755592346, 0.10054536908864975, 0.053375937044620514, 0.0570998415350914, 0.053375937044620514, 0.05461724102497101, 0.021102115511894226, 0.040962930768728256, 0.0049795424565672874, 0.3834247589111328, 0.03485679626464844, 0.5726473331451416, 0.004458920564502478, 0.1932198852300644, 0.21848709881305695, 0.16052113473415375, 0.2437543123960495, 0.059452272951602936, 0.034185055643320084, 0.04756181687116623, 0.038643978536129, 0.43818995356559753, 0.1072024330496788, 0.01072024367749691, 0.03886088356375694, 0.17822404205799103, 0.061641398817300797, 0.029480669647455215, 0.127302885055542, 0.01072024367749691, 0.9732444286346436, 0.11709431558847427, 0.11709431558847427, 0.07127480208873749, 0.2545528709888458, 0.09163903445005417, 0.048365045338869095, 0.020364228636026382, 0.06363821774721146, 0.21891546249389648, 0.00487504480406642, 0.05606301873922348, 0.9238210320472717, 0.007312567438930273, 0.00243752240203321, 0.00243752240203321, 0.9765263199806213, 0.011284487321972847, 0.9704659581184387, 0.08028697967529297, 0.04699725657701492, 0.025456847622990608, 0.189947247505188, 0.27219244837760925, 0.09007807821035385, 0.03133150562644005, 0.07441232353448868, 0.189947247505188, 0.011206043884158134, 0.2241208851337433, 0.06583551317453384, 0.273147314786911, 0.25353676080703735, 0.060232486575841904, 0.04482417553663254, 0.018209822475910187, 0.04902644455432892, 0.6989551186561584, 0.20508264005184174, 0.004185359925031662, 0.050224319100379944, 0.04185359925031662, 0.43724164366722107, 0.1258159726858139, 0.09093629568815231, 0.032388269901275635, 0.08844488859176636, 0.07349646091461182, 0.03737108036875725, 0.09467340260744095, 0.019931243732571602, 0.05455648526549339, 0.8001617789268494, 0.027278242632746696, 0.10911297053098679, 0.04558520391583443, 0.15321694314479828, 0.26084867119789124, 0.11143050342798233, 0.13042433559894562, 0.10383296757936478, 0.07597534358501434, 0.08863789588212967, 0.029123879969120026, 0.9763689041137695, 0.9819452166557312, 0.07625892013311386, 0.1639566719532013, 0.4003593325614929, 0.20208613574504852, 0.06482008099555969, 0.03622298687696457, 0.02478414960205555, 0.017158256843686104, 0.011438838206231594, 0.9980121850967407, 0.9816109538078308, 0.9871207475662231, 0.9912952184677124, 0.0093678655102849, 0.21233828365802765, 0.0093678655102849, 0.09055603295564651, 0.4683932662010193, 0.06557505577802658, 0.040594082325696945, 0.01561310887336731, 0.08431078493595123, 0.8993579745292664, 0.006202469114214182, 0.07442962378263474, 0.012404938228428364, 0.9312691688537598, 0.0017840404761955142, 0.014272323809564114, 0.03568081185221672, 0.007136161904782057, 0.0017840404761955142, 0.0017840404761955142, 0.007136161904782057, 0.9880983829498291, 0.03388362377882004, 0.9572123885154724, 0.06731174886226654, 0.016827937215566635, 0.08413968235254288, 0.7909129858016968, 0.039265185594558716, 0.9922972917556763, 0.9424646496772766, 0.9949174523353577, 0.9962943196296692, 0.12020044028759003, 0.8789657354354858, 0.9876189231872559, 0.33927756547927856, 0.19530780613422394, 0.07700707763433456, 0.017856713384389877, 0.12499699741601944, 0.0502220056951046, 0.06138245388865471, 0.08258730173110962, 0.0502220056951046, 0.003231112379580736, 0.9951826333999634, 0.06986554712057114, 0.7785018086433411, 0.009980792179703712, 0.019961584359407425, 0.11976951360702515, 0.014539400115609169, 0.01211616676300764, 0.0072697000578045845, 0.9668700695037842, 0.9340502619743347, 0.9950668215751648, 0.12439291924238205, 0.036281269043684006, 0.010366076603531837, 0.8241031169891357, 0.05912219360470772, 0.019707398489117622, 0.8769791722297668, 0.04926849529147148, 0.961116373538971, 0.02746046893298626, 0.9963216781616211, 0.9946519136428833, 0.9622630476951599, 0.771680474281311, 0.07226439565420151, 0.005161742214113474, 0.06968352198600769, 0.002580871107056737, 0.04129393771290779, 0.012904356233775616, 0.023227840662002563, 0.17883694171905518, 0.01719585992395878, 0.08941847085952759, 0.24418120086193085, 0.02407420240342617, 0.44021400809288025, 0.006878343876451254, 0.04712093248963356, 0.8167628049850464, 0.09424186497926712, 0.007853488437831402, 0.03141395375132561, 0.9715364575386047, 0.19918347895145416, 0.005858337972313166, 0.7733005881309509, 0.023433351889252663, 0.9925348162651062, 0.006121353711932898, 0.15303383767604828, 0.32851263880729675, 0.042849477380514145, 0.26117774844169617, 0.07753714919090271, 0.11630571633577347, 0.01632360927760601, 0.15410806238651276, 0.014913683757185936, 0.20630595088005066, 0.3753277063369751, 0.16902174055576324, 0.027341753244400024, 0.017399298027157784, 0.004971228074282408, 0.03231298178434372, 0.9964696168899536, 0.9624853134155273, 0.9823467135429382, 0.9524097442626953, 0.017052993178367615, 0.0017052993644028902, 0.027284789830446243, 0.3191237151622772, 0.1734609752893448, 0.09229013323783875, 0.05226067453622818, 0.08895434439182281, 0.07338733226060867, 0.07783505320549011, 0.09340205788612366, 0.030022090300917625, 0.9821195006370544, 0.9799210429191589, 0.0890401229262352, 0.18118630349636078, 0.04244936257600784, 0.14598439633846283, 0.16255000233650208, 0.140807643532753, 0.09421687573194504, 0.04866146296262741, 0.09421687573194504, 0.9919415712356567, 0.9879268407821655, 0.015094510279595852, 0.030189020559191704, 0.9358596205711365, 0.030189020559191704, 0.009955250658094883, 0.04977625608444214, 0.9258383512496948, 0.009955250658094883, 0.012531404383480549, 0.1298709213733673, 0.14354154467582703, 0.00455687427893281, 0.3167027533054352, 0.17088279128074646, 0.13556700944900513, 0.08544139564037323, 0.005768940784037113, 0.9893733859062195, 0.0028844703920185566, 0.256467342376709, 0.11348112672567368, 0.023831035941839218, 0.19632235169410706, 0.09986339509487152, 0.09191971272230148, 0.07149311155080795, 0.09532414376735687, 0.04993169754743576, 0.006166866980493069, 0.006166866980493069, 0.7523577809333801, 0.08016927540302277, 0.11717047542333603, 0.024667467921972275, 0.01850060187280178, 0.9776676297187805, 0.007638028357177973, 0.05034760385751724, 0.10788772255182266, 0.0071925148367881775, 0.08631017804145813, 0.712058961391449, 0.03596257418394089, 0.5477968454360962, 0.12950631976127625, 0.00744289206340909, 0.10717764496803284, 0.09526902437210083, 0.02828299067914486, 0.03572588413953781, 0.019351519644260406, 0.03126014769077301, 0.14388804137706757, 0.8376339077949524, 0.01027771644294262, 0.0029627953190356493, 0.15999093651771545, 0.0029627953190356493, 0.026665156707167625, 0.8058803081512451, 0.976949155330658, 0.019538981840014458, 0.9892519116401672, 0.013202915899455547, 0.9770157933235168, 0.11057519167661667, 0.17733757197856903, 0.02920854091644287, 0.18881236016750336, 0.26287686824798584, 0.07093502581119537, 0.04485597461462021, 0.05841708183288574, 0.056330759078264236, 0.38240328431129456, 0.11096523702144623, 0.09389366209506989, 0.3277742266654968, 0.02048588916659355, 0.015364416874945164, 0.008535787463188171, 0.029021676629781723, 0.011950102634727955, 0.056190550327301025, 0.001937605207785964, 0.6084080338478088, 0.10656828433275223, 0.21119897067546844, 0.013563236221671104, 0.9952812194824219, 0.9882340431213379, 0.03733037784695625, 0.06999445706605911, 0.0793270543217659, 0.7979368567466736, 0.013998892158269882, 0.0768553838133812, 0.0021348719019442797, 0.11101333051919937, 0.44618821144104004, 0.08112512528896332, 0.05123692378401756, 0.04269743710756302, 0.06831590086221695, 0.11741794645786285, 0.9820336699485779, 0.9781090617179871, 0.9900449514389038, 0.006387386936694384, 0.005210513714700937, 0.1372101902961731, 0.4046832323074341, 0.0607893280684948, 0.0399472713470459, 0.1285260021686554, 0.0798945426940918, 0.1302628368139267, 0.0121578648686409, 0.8212607502937317, 0.007432224228978157, 0.0037161121144890785, 0.03344500809907913, 0.09661891311407089, 0.011148336343467236, 0.026012783870100975, 0.9817008972167969, 0.009916170500218868, 0.009916170500218868, 0.05761120468378067, 0.02215815708041191, 0.08420099318027496, 0.004431631416082382, 0.23930808901786804, 0.19499178230762482, 0.3944151699542999, 0.9922915697097778, 0.9949213266372681, 0.12655845284461975, 0.39997246861457825, 0.19341951608657837, 0.015521318651735783, 0.05850343406200409, 0.05850343406200409, 0.03343053162097931, 0.08357633650302887, 0.029848691076040268, 0.9417599439620972, 0.9690300822257996, 0.04913035035133362, 0.004913034848868847, 0.17195622622966766, 0.004913034848868847, 0.7615204453468323, 0.004913034848868847, 0.0004554141196422279, 0.0004554141196422279, 0.9937136173248291, 0.005464969202876091, 0.020723730325698853, 0.9532915949821472, 0.9805799722671509, 0.2202245593070984, 0.19334676861763, 0.32946982979774475, 0.02861185185611248, 0.004335129167884588, 0.03034590370953083, 0.09363879263401031, 0.08756960928440094, 0.012138362042605877, 0.12379668653011322, 0.11086270213127136, 0.018477117642760277, 0.24020253121852875, 0.10901499539613724, 0.07575618475675583, 0.09608101099729538, 0.0572790652513504, 0.16814176738262177, 0.9821047186851501, 0.34790387749671936, 0.1214161217212677, 0.10623910278081894, 0.1214161217212677, 0.06771283596754074, 0.07588507235050201, 0.04202865809202194, 0.05487074702978134, 0.06304298341274261, 0.9793885946273804, 0.008443005383014679, 0.0042215026915073395, 0.008443005383014679, 0.9955230951309204, 0.9815614223480225, 0.11242427676916122, 0.7950001955032349, 0.008030305616557598, 0.04818183183670044, 0.016060611233115196, 0.008030305616557598, 0.016060611233115196, 0.8487475514411926, 0.07979678362607956, 0.03627126291394234, 0.007254252675920725, 0.01450850535184145, 0.007254252675920725, 0.007254252675920725, 0.002596500562503934, 0.3963990807533264, 0.1445385366678238, 0.007789501920342445, 0.0017310003750026226, 0.018175503239035606, 0.304656058549881, 0.00952050182968378, 0.11511152237653732, 0.005680216010659933, 0.019880756735801697, 0.9713169932365417, 0.9972074627876282, 0.023979835212230682, 0.06394622474908829, 0.4476235806941986, 0.013988236896693707, 0.030973952263593674, 0.06194790452718735, 0.041964709758758545, 0.27277061343193054, 0.042963869869709015, 0.08030132949352264, 0.02007533237338066, 0.060225993394851685, 0.08030132949352264, 0.013383554294705391, 0.74278724193573, 0.03671420365571976, 0.8321886658668518, 0.12238068133592606, 0.9852582812309265, 0.9882249236106873, 0.9847297668457031, 0.972852349281311, 0.6736787557601929, 0.015522552654147148, 0.034149616956710815, 0.052776679396629333, 0.06209021061658859, 0.052776679396629333, 0.037254124879837036, 0.043463148176670074, 0.027940595522522926, 0.9238543510437012, 0.1537245213985443, 0.07686226069927216, 0.01647048443555832, 0.03843113034963608, 0.07137209922075272, 0.10431306064128876, 0.5435259938240051, 0.007735628634691238, 0.019339071586728096, 0.023206885904073715, 0.9476145505905151, 0.01064617745578289, 0.9368636012077332, 0.01064617745578289, 0.04258470982313156, 0.08730015903711319, 0.18551284074783325, 0.03516256436705589, 0.049712590873241425, 0.1552002727985382, 0.15762528777122498, 0.13095024228096008, 0.11518770456314087, 0.08245015144348145, 0.934695839881897, 0.9970396757125854, 0.0647151842713356, 0.035299189388751984, 0.023532792925834656, 0.017649594694375992, 0.6589182019233704, 0.02941599115729332, 0.07648158073425293, 0.09413117170333862, 0.9899212121963501, 0.9781731367111206, 0.06904681026935577, 0.08199308812618256, 0.7077298164367676, 0.008630851283669472, 0.021577127277851105, 0.021577127277851105, 0.06041595712304115, 0.012946276925504208, 0.017261702567338943, 0.07362166792154312, 0.004601354245096445, 0.013804062269628048, 0.1196352019906044, 0.7914329171180725, 0.9796738624572754, 0.9858652353286743, 0.9693198800086975, 0.9644891619682312, 0.9659993648529053, 0.9435535073280334, 0.17904211580753326, 0.09134802222251892, 0.43116265535354614, 0.2904866933822632, 0.0018269603606313467, 0.0036539207212626934, 0.0018269603606313467, 0.9362667202949524, 0.04192239046096802, 0.013974130153656006, 0.9643499255180359, 0.9587270021438599, 0.9824264645576477, 0.01319911889731884, 0.9767347574234009, 0.09048930555582047, 0.006032620556652546, 0.036195721477270126, 0.8626646995544434, 0.006032620556652546, 0.9856493473052979, 0.00799941923469305, 0.7831431031227112, 0.0319976769387722, 0.004799651447683573, 0.06479529291391373, 0.00559959327802062, 0.06799505650997162, 0.009599302895367146, 0.023998256772756577, 0.08701546490192413, 0.048593051731586456, 0.05763361603021622, 0.7334160208702087, 0.02147134765982628, 0.02599163167178631, 0.01582099311053753, 0.006780425552278757, 0.002260141773149371, 0.9570213556289673, 0.9912510514259338, 0.9529935121536255, 0.9641437530517578, 0.008236060850322247, 0.4653374254703522, 0.30885228514671326, 0.035003259778022766, 0.018531136214733124, 0.1564851552248001, 0.006177045870572329, 0.9959178566932678, 0.0018969863886013627, 0.9825231432914734, 0.04657101258635521, 0.0012759182136505842, 0.005103672854602337, 0.007017550058662891, 0.09696978330612183, 0.02551836334168911, 0.1339714080095291, 0.6845300793647766, 0.9930287599563599, 0.03359893336892128, 0.10799656808376312, 0.1151963397860527, 0.01679946668446064, 0.021599313244223595, 0.26879146695137024, 0.37678802013397217, 0.05999809503555298, 0.20335499942302704, 0.789211094379425, 0.004841785877943039, 0.9850084185600281, 0.9929645657539368, 0.4397924244403839, 0.10697653144598007, 0.22435356676578522, 0.10251917690038681, 0.00148578523658216, 0.022286778315901756, 0.0386304147541523, 0.05943140760064125, 0.00594314094632864, 0.07909724861383438, 0.16757892072200775, 0.05094398930668831, 0.21047911047935486, 0.25337931513786316, 0.08445977419614792, 0.04826272651553154, 0.061669040471315384, 0.042900200933218, 0.9821529388427734, 0.011160828173160553, 0.0031600662041455507, 0.21330447494983673, 0.10112211853265762, 0.20540429651737213, 0.1927640438079834, 0.07110148668289185, 0.03002062812447548, 0.04582095891237259, 0.13588283956050873, 0.935626208782196, 0.03818882629275322, 0.9915534257888794, 0.01880284957587719, 0.04700712114572525, 0.9025367498397827, 0.01880284957587719, 0.021996960043907166, 0.04766008257865906, 0.001833080081269145, 0.04766008257865906, 0.637911856174469, 0.03482852131128311, 0.06965704262256622, 0.02932928130030632, 0.10998480767011642, 0.021169915795326233, 0.005292478948831558, 0.03704735264182091, 0.8150417804718018, 0.021169915795326233, 0.010584957897663116, 0.05292478948831558, 0.02646239474415779, 0.9749648571014404, 0.020568879321217537, 0.9890241622924805, 0.9609327912330627, 0.020410364493727684, 0.36058309674263, 0.3897407650947571, 0.01943844184279442, 0.0009719221270643175, 0.001943844254128635, 0.196328267455101, 0.004859610460698605, 0.005831532645970583, 0.9912267923355103, 0.9885894060134888, 0.8581439852714539, 0.008020037785172462, 0.008020037785172462, 0.07218033820390701, 0.008020037785172462, 0.04010018706321716, 0.015716662630438805, 0.31861960887908936, 0.12144692987203598, 0.04429241269826889, 0.09572876244783401, 0.21431811153888702, 0.05858028680086136, 0.08429846167564392, 0.04857877269387245, 0.009581692516803741, 0.19355018436908722, 0.09198424220085144, 0.030661415308713913, 0.05557381361722946, 0.4944153130054474, 0.013414368964731693, 0.06707184761762619, 0.04407578334212303, 0.9439321160316467, 0.1505882292985916, 0.1402028352022171, 0.7062069177627563, 0.9568658471107483, 0.018054073676466942, 0.6511915326118469, 0.08995438367128372, 0.03911060094833374, 0.043021660298109055, 0.06844355165958405, 0.005866590421646833, 0.029332950711250305, 0.03715507313609123, 0.03128848224878311, 0.8711398839950562, 0.04120256006717682, 0.0058860802091658115, 0.07651904225349426, 0.9323834776878357, 0.9417011141777039, 0.02590806782245636, 0.7207757234573364, 0.17006321251392365, 0.004650165792554617, 0.013950497843325138, 0.008636021986603737, 0.027900995686650276, 0.011293260380625725, 0.017936354503035545, 0.02300502546131611, 0.2694874405860901, 0.05915578082203865, 0.013145728968083858, 0.10187939554452896, 0.00985929649323225, 0.4765326678752899, 0.016432160511612892, 0.029577890411019325, 0.9949164986610413, 0.9540970325469971, 0.05786679685115814, 0.17710746824741364, 0.06488095223903656, 0.2928410768508911, 0.2805663049221039, 0.026303090155124664, 0.01052123587578535, 0.04909910261631012, 0.0403314046561718, 0.9528955221176147, 0.9784263372421265, 0.9913287162780762, 0.9914309978485107, 0.47387322783470154, 0.095624640583992, 0.03612486645579338, 0.063749760389328, 0.2953738868236542, 0.01699993573129177, 0.01699993573129177, 0.4134266972541809, 0.004543150309473276, 0.009086300618946552, 0.5678938031196594, 0.003321533789858222, 0.5688126683235168, 0.04899262264370918, 0.005812684074044228, 0.005812684074044228, 0.09798524528741837, 0.21922123432159424, 0.017438052222132683, 0.03155457228422165, 0.01664055325090885, 0.10816359519958496, 0.041601382195949554, 0.05408179759979248, 0.22464746236801147, 0.5491382479667664, 0.9878777861595154, 0.14941157400608063, 0.8474088907241821, 0.04786309227347374, 0.009572618640959263, 0.9189714193344116, 0.009572618640959263, 0.009572618640959263, 0.060133982449769974, 0.012608738616108894, 0.6343165040016174, 0.06401359289884567, 0.02521747723221779, 0.08826116472482681, 0.09408058226108551, 0.02036796137690544, 0.2555121183395386, 0.04353169724345207, 0.009463412687182426, 0.011356094852089882, 0.5507705807685852, 0.030282918363809586, 0.026497554033994675, 0.03596096485853195, 0.037853650748729706, 0.007453576195985079, 0.0037267880979925394, 0.13416436314582825, 0.07826254516839981, 0.5664717555046082, 0.029814304783940315, 0.0037267880979925394, 0.1788858324289322, 0.04459819197654724, 0.13857296109199524, 0.02707747370004654, 0.2994450032711029, 0.17202159762382507, 0.03663422912359238, 0.17202159762382507, 0.04300539940595627, 0.06530449539422989, 0.13006862998008728, 0.00981650035828352, 0.00981650035828352, 0.6061689257621765, 0.09325675666332245, 0.01717887632548809, 0.13006862998008728, 0.017685838043689728, 0.9727210998535156, 0.002801842987537384, 0.27458062767982483, 0.08405528962612152, 0.09946542978286743, 0.09806450456380844, 0.2255483716726303, 0.09246081858873367, 0.06023962423205376, 0.06444238871335983, 0.12830960750579834, 0.8615074157714844, 0.037625834345817566, 0.026338083669543266, 0.026338083669543266, 0.8051928281784058, 0.0037625834811478853, 0.04138841852545738, 0.05643875151872635, 0.944737434387207, 0.1571127027273178, 0.009819543920457363, 0.05891726538538933, 0.7659244537353516, 0.9732292890548706, 0.9988648295402527, 0.0008974526426754892, 0.04317781329154968, 0.9499119520187378, 0.9942758679389954, 0.004204126074910164, 0.9816939234733582, 0.016288379207253456, 0.9610143899917603, 0.043120693415403366, 0.8839741945266724, 0.043120693415403366, 0.010780173353850842, 0.010780173353850842, 0.9867559671401978, 0.09977460652589798, 0.2717265784740448, 0.18362773954868317, 0.006368591915816069, 0.09765174239873886, 0.10826606303453445, 0.09977460652589798, 0.08173026144504547, 0.04988730326294899, 0.012071090750396252, 0.9656872749328613, 0.012071090750396252, 0.5275954604148865, 0.07105663418769836, 0.03552831709384918, 0.0781622976064682, 0.055068887770175934, 0.051516056060791016, 0.09059720486402512, 0.055068887770175934, 0.031975485384464264, 0.9687497615814209, 0.021527772769331932, 0.007175924256443977, 0.9234302043914795, 0.020673811435699463, 0.013782540336251259, 0.027565080672502518, 0.013782540336251259, 0.003227175446227193, 0.28076425194740295, 0.006454350892454386, 0.0016135877231135964, 0.030658166855573654, 0.0016135877231135964, 0.6744796633720398, 0.0016135877231135964, 0.9767980575561523, 0.02168036811053753, 0.325205534696579, 0.06504110246896744, 0.0030971954111009836, 0.009291586466133595, 0.48006531596183777, 0.04026354104280472, 0.027874760329723358, 0.027874760329723358, 0.9959344267845154, 0.012786292470991611, 0.012786292470991611, 0.9717581868171692, 0.185163214802742, 0.13559196889400482, 0.08747868984937668, 0.13267600536346436, 0.04957125708460808, 0.09914251416921616, 0.1137222945690155, 0.0714409276843071, 0.12392813712358475, 0.06465636938810349, 0.010776061564683914, 0.005388030782341957, 0.9159652590751648, 0.9958898425102234, 0.007565532810986042, 0.0025218443479388952, 0.05800241976976395, 0.9280387163162231, 0.8046861886978149, 0.0034986354876309633, 0.010495906695723534, 0.15044133365154266, 0.017493177205324173, 0.006997270975261927, 0.8109291791915894, 0.03681261092424393, 0.033657241612672806, 0.04312334209680557, 0.011569676920771599, 0.016828620806336403, 0.02629472129046917, 0.009466099552810192, 0.01262146607041359, 0.00828282255679369, 0.07454540580511093, 0.31474727392196655, 0.009939387440681458, 0.0016565645346418023, 0.2932119369506836, 0.06129289045929909, 0.10602013021707535, 0.130868598818779, 0.9828548431396484, 0.020955663174390793, 0.20606401562690735, 0.019209356978535652, 0.003492610529065132, 0.06985221058130264, 0.5203989744186401, 0.08207634836435318, 0.03667240962386131, 0.040165022015571594, 0.9857240319252014, 0.007195066194981337, 0.0035975330974906683, 0.053617723286151886, 0.9115013480186462, 0.9841823577880859, 0.030574582517147064, 0.960041880607605, 0.7132680416107178, 0.16376052796840668, 0.010917368344962597, 0.021834736689925194, 0.08369982242584229, 0.9449750781059265, 0.04017750173807144, 0.00502218771725893, 0.01506656315177679, 0.00502218771725893, 0.05524406582117081, 0.18582095205783844, 0.693061888217926, 0.04229908064007759, 0.9305797815322876, 0.9933779239654541, 0.9570611715316772, 0.9638428688049316, 0.9229329824447632, 0.014198968186974525, 0.02839793637394905, 0.02839793637394905, 0.02287602424621582, 0.10294210910797119, 0.8235368728637695, 0.02287602424621582, 0.01143801212310791, 0.08125557750463486, 0.10226994752883911, 0.04623162001371384, 0.3810606300830841, 0.1400958150625229, 0.060241200029850006, 0.08966132253408432, 0.06584503501653671, 0.03502395376563072, 0.003919804003089666, 0.06075695902109146, 0.003919804003089666, 0.3155442178249359, 0.35278233885765076, 0.06663666665554047, 0.0921153873205185, 0.0940752923488617, 0.011759411543607712, 0.004217985086143017, 0.6200438141822815, 0.24464313685894012, 0.03585287556052208, 0.0021089925430715084, 0.014762948267161846, 0.03585287556052208, 0.03163488954305649, 0.01054496318101883, 0.015070533379912376, 0.3405940532684326, 0.11755016446113586, 0.012056427076458931, 0.043704546988010406, 0.14467711746692657, 0.1868746131658554, 0.09042320400476456, 0.0497327595949173, 0.02450072392821312, 0.06533526629209518, 0.016333816573023796, 0.8003569841384888, 0.08166908472776413, 0.008166908286511898, 0.008166908286511898, 0.06559339165687561, 0.003858434734866023, 0.0926024317741394, 0.7639700770378113, 0.030867477878928185, 0.01929217390716076, 0.015433738939464092, 0.007716869469732046, 0.958943784236908, 0.9704273343086243, 0.03157428652048111, 0.03643186762928963, 0.3716050386428833, 0.5464780330657959, 0.012143955565989017, 0.7565186619758606, 0.056493278592824936, 0.054037049412727356, 0.0073686884716153145, 0.012281147763133049, 0.03438721224665642, 0.029474753886461258, 0.029474753886461258, 0.01964983530342579, 0.7317606210708618, 0.06724286824464798, 0.013844119384884834, 0.05933193862438202, 0.02966596931219101, 0.013844119384884834, 0.019777312874794006, 0.05142101272940636, 0.011866387911140919, 0.6906622052192688, 0.06835419684648514, 0.08117061108350754, 0.02848091535270214, 0.001424045767635107, 0.008544274605810642, 0.039873283356428146, 0.06693015247583389, 0.01281641237437725, 0.6640051603317261, 0.05621207505464554, 0.042159054428339005, 0.03337591886520386, 0.06323858350515366, 0.03161929175257683, 0.02459278330206871, 0.05094219371676445, 0.03337591886520386, 0.9931707978248596, 0.9916308522224426, 0.45734158158302307, 0.1663060337305069, 0.1649201512336731, 0.08592478185892105, 0.03880473971366882, 0.03326120600104332, 0.023560021072626114, 0.023560021072626114, 0.005543534178286791, 0.07814829796552658, 0.8987053632736206, 0.009131724014878273, 0.001521953963674605, 0.3774445652961731, 0.3120005428791046, 0.00304390792734921, 0.019785400480031967, 0.27699562907218933, 0.07270021736621857, 0.007270021829754114, 0.003635010914877057, 0.015751713886857033, 0.8639209270477295, 0.031503427773714066, 0.003635010914877057, 0.7874909043312073, 0.10861943662166595, 0.009051620028913021, 0.04073229059576988, 0.02715485915541649, 0.009051620028913021, 0.018103240057826042, 0.009051620028913021, 0.33556067943573, 0.07669958472251892, 0.07382335513830185, 0.19941893219947815, 0.09108076244592667, 0.06327715516090393, 0.050813477486371994, 0.0441022627055645, 0.06327715516090393, 0.9478274583816528, 0.95620197057724, 0.20701557397842407, 0.15021251142024994, 0.06690137088298798, 0.08836030215024948, 0.10855694860219955, 0.08583572506904602, 0.118655264377594, 0.05806534364819527, 0.11613068729639053, 0.9722691774368286, 0.9892464876174927, 0.9697864651679993], \"Term\": [\"acai_bowl\", \"acknowledged\", \"acknowledged\", \"across_street\", \"across_street\", \"across_street\", \"across_street\", \"across_street\", \"across_street\", \"across_street\", \"almond\", \"almond\", \"almond\", \"almond\", \"almond\", \"almond_croissant\", \"almond_milk\", \"amount\", \"amount\", \"amount\", \"amount\", \"amount\", \"amount\", \"amount\", \"amount\", \"amount\", \"amuse_bouche\", \"annoyed\", \"annoyed\", \"anything\", \"anything\", \"anything\", \"anything\", \"anything\", \"anything\", \"anything\", \"anything\", \"anything\", \"apologized\", \"apologizing\", \"apology\", \"apology\", \"apology\", \"appetizer\", \"appetizer\", \"appetizer\", \"appetizer\", \"appetizer\", \"appetizer\", \"appetizer\", \"appetizer\", \"appetizer\", \"arrived\", \"arrived\", \"arrived\", \"arrived\", \"arrived\", \"arrived\", \"arrived\", \"arrived\", \"arrived\", \"asada\", \"asian\", \"asian\", \"asian\", \"asian\", \"asian\", \"asian\", \"asian\", \"asian\", \"attitude\", \"attitude\", \"attitude\", \"attitude\", \"attitude\", \"aussi\", \"avec\", \"avocado\", \"avocado\", \"avocado\", \"avocado\", \"avocado\", \"avocado\", \"avocado\", \"avocado\", \"avocado\", \"avocado_toast\", \"avon\", \"award\", \"award\", \"award_winning\", \"away\", \"away\", \"away\", \"away\", \"away\", \"away\", \"away\", \"away\", \"away\", \"awful\", \"awful\", \"awful\", \"awful\", \"awful\", \"ayce\", \"ayce\", \"ayce\", \"ayce\", \"baba\", \"baba\", \"bacon\", \"bacon\", \"bacon\", \"bacon\", \"bacon\", \"bacon\", \"bacon\", \"bacon\", \"bacon\", \"bagel\", \"bagel\", \"bagel\", \"bagel\", \"bakery\", \"bakery\", \"bakery\", \"bakery\", \"balsamic_vinegar\", \"barista\", \"barista\", \"bartender\", \"bartender\", \"bartender\", \"bartender\", \"bartender\", \"bartender\", \"bartender\", \"bartender\", \"bean\", \"bean\", \"bean\", \"bean\", \"bean\", \"bean\", \"bean\", \"bean\", \"beautiful\", \"beautiful\", \"beautiful\", \"beautiful\", \"beautiful\", \"beautiful\", \"beautiful\", \"beautiful\", \"beautiful\", \"beauty\", \"beer\", \"beer\", \"beer\", \"beer\", \"beer\", \"beer\", \"beer\", \"beer\", \"beer\", \"behavior\", \"bellagio\", \"bellagio\", \"belle\", \"benedict\", \"benny\", \"bento\", \"bien\", \"bill\", \"bill\", \"bill\", \"bill\", \"bill\", \"bill\", \"bill\", \"bill\", \"biryani\", \"biscuit\", \"biscuit\", \"biscuit\", \"biscuit\", \"biscuit\", \"biscuit_gravy\", \"bisque\", \"bite\", \"bite\", \"bite\", \"bite\", \"bite\", \"bite\", \"bite\", \"bite\", \"bite\", \"black_bean\", \"black_bean\", \"black_bean\", \"black_bean\", \"black_sesame\", \"black_sesame\", \"bloody_mary\", \"bloody_mary\", \"blown_away\", \"blown_away\", \"blown_away\", \"blown_away\", \"blue_moon\", \"board_game\", \"board_game\", \"boba\", \"boba\", \"bonne\", \"bottomless_mimosa\", \"bowl\", \"bowl\", \"bowl\", \"bowl\", \"bowl\", \"bowl\", \"bowl\", \"bowl\", \"bowl\", \"bread\", \"bread\", \"bread\", \"bread\", \"bread\", \"bread\", \"bread\", \"bread\", \"bread\", \"breakfast\", \"breakfast\", \"breakfast\", \"breakfast\", \"breakfast\", \"breakfast\", \"breakfast\", \"brisket\", \"brisket\", \"brisket\", \"brisket\", \"brisket\", \"brisket\", \"brisket\", \"brisket\", \"brisket\", \"broth\", \"broth\", \"broth\", \"brought\", \"brought\", \"brought\", \"brought\", \"brought\", \"brought\", \"brought\", \"brought\", \"brought\", \"brown_sugar\", \"brunch\", \"brunch\", \"brunch\", \"brunch\", \"brunch\", \"brunch\", \"brunch\", \"brussel\", \"brussel_sprout\", \"brussel_sprout\", \"bubble\", \"bubble\", \"bubble\", \"buffalo\", \"buffalo\", \"buffalo\", \"buffalo\", \"buffalo\", \"buffet\", \"buffet\", \"buffet\", \"buffet\", \"buffet\", \"buffet\", \"buffet\", \"burger\", \"burger\", \"burger\", \"burger\", \"burger\", \"burger\", \"burger\", \"burrito\", \"burrito\", \"business\", \"business\", \"business\", \"business\", \"business\", \"business\", \"business\", \"business\", \"business\", \"butter\", \"butter\", \"butter\", \"butter\", \"butter\", \"butter\", \"butter\", \"butter\", \"caesar_salad\", \"caesar_salad\", \"cafe\", \"cafe\", \"cafe\", \"cafe\", \"cafe\", \"cafe\", \"cafe\", \"cafe\", \"cafeteria_style\", \"cafeteria_style\", \"cafeteria_style\", \"cake\", \"cake\", \"cake\", \"cake\", \"cake\", \"cake\", \"cake\", \"cake\", \"california_roll\", \"called\", \"called\", \"called\", \"called\", \"called\", \"called\", \"called\", \"called\", \"called\", \"calorie_count\", \"calorie_count\", \"calzone\", \"cancel\", \"cappuccino\", \"cappuccino\", \"card\", \"card\", \"card\", \"card\", \"card\", \"card\", \"card\", \"carne\", \"carne_asada\", \"carnitas\", \"casino\", \"casino\", \"casino\", \"casino\", \"casino\", \"casino\", \"cast\", \"cast_iron\", \"catfish\", \"catfish\", \"chai_latte\", \"charcuterie_board\", \"charged\", \"charged\", \"charged\", \"cheese_curd\", \"cheesecake_factory\", \"chef\", \"chef\", \"chef\", \"chef\", \"chef\", \"chef\", \"chef\", \"chef\", \"chef\", \"chile\", \"chile\", \"chile\", \"chile_relleno\", \"chili\", \"chili\", \"chili\", \"chili\", \"chili\", \"chili\", \"chili\", \"chili\", \"chili\", \"chinese\", \"chinese\", \"chinese\", \"chinese\", \"chinese\", \"chinese\", \"chip\", \"chip\", \"chip\", \"chip\", \"chip\", \"chip\", \"chip\", \"chip\", \"chip\", \"chip_salsa\", \"chocolate\", \"chocolate\", \"chocolate\", \"chocolate\", \"chocolate\", \"chocolate\", \"choice\", \"choice\", \"choice\", \"choice\", \"choice\", \"choice\", \"choice\", \"choice\", \"choice\", \"chop\", \"chop\", \"chop\", \"chop\", \"chop\", \"chop\", \"chow_mein\", \"chow_mein\", \"cilantro\", \"cilantro\", \"cilantro\", \"cilantro\", \"cilantro\", \"cilantro_lime\", \"city\", \"city\", \"city\", \"city\", \"city\", \"city\", \"city\", \"city\", \"city\", \"clean\", \"clean\", \"clean\", \"clean\", \"clean\", \"clean\", \"clean\", \"clean\", \"clean\", \"cocktail\", \"cocktail\", \"cocktail\", \"cocktail\", \"cocktail\", \"cocktail\", \"cocktail\", \"cocktail\", \"coffee\", \"coffee\", \"coffee\", \"coffee\", \"coffee\", \"coffee\", \"cold_brew\", \"comme\", \"condensed\", \"condensed_milk\", \"conveyor_belt\", \"cooked\", \"cooked\", \"cooked\", \"cooked\", \"cooked\", \"cooked\", \"cooked\", \"cooked\", \"cooked\", \"cooked_perfection\", \"cooked_perfection\", \"cooked_perfection\", \"cooked_perfection\", \"cooked_perfection\", \"cookie\", \"cookie\", \"cookie\", \"cookie\", \"cookie\", \"cookie\", \"cookie\", \"cookie\", \"cooky\", \"cooky\", \"cooky\", \"cooky\", \"cooky\", \"corn\", \"corn\", \"corn\", \"corn\", \"corn\", \"corn\", \"corn\", \"corn\", \"corn\", \"corn_tortilla\", \"corned_beef\", \"corned_beef\", \"course\", \"course\", \"course\", \"course\", \"course\", \"course\", \"course\", \"course\", \"course\", \"crab\", \"crab\", \"crab\", \"crab\", \"crab\", \"crab_leg\", \"crab_leg\", \"crab_leg\", \"crab_leg\", \"crab_rangoon\", \"cracker_barrel\", \"cracker_barrel\", \"crawfish\", \"cream\", \"cream\", \"cream\", \"cream\", \"cream\", \"cream\", \"cream\", \"cream\", \"credit_card\", \"credit_card\", \"credit_card\", \"credit_card\", \"credit_card\", \"creme_brulee\", \"crinkle_fry\", \"crinkle_fry\", \"crispy\", \"crispy\", \"crispy\", \"crispy\", \"crispy\", \"crispy\", \"crispy\", \"crispy\", \"crispy\", \"croissant\", \"croissant\", \"croissant\", \"crust\", \"crust\", \"crust\", \"crust\", \"crust\", \"crust\", \"curry\", \"curry\", \"curry\", \"curry\", \"cute\", \"cute\", \"cute\", \"cute\", \"cute\", \"cute\", \"cute\", \"cute\", \"cute\", \"daily_special\", \"daily_special\", \"daily_special\", \"dance_floor\", \"dans\", \"deep\", \"deep\", \"deep\", \"deep\", \"deep\", \"deep\", \"deep\", \"deep\", \"deep_fried\", \"deep_fried\", \"deep_fried\", \"deli\", \"deli\", \"deli\", \"delivery\", \"delivery\", \"delivery\", \"delivery\", \"delivery\", \"delivery\", \"delivery\", \"dessert\", \"dessert\", \"dessert\", \"dessert\", \"dessert\", \"dessert\", \"dessert\", \"dessert\", \"dessert\", \"deviled_egg\", \"dietary_restriction\", \"dining\", \"dining\", \"dining\", \"dining\", \"dining\", \"dining\", \"dining\", \"dining\", \"dining\", \"dining_room\", \"dining_room\", \"dining_room\", \"dining_room\", \"dirty\", \"dirty\", \"dirty\", \"dirty\", \"dirty\", \"dirty\", \"dirty\", \"dirty\", \"disrespectful\", \"domino\", \"donut\", \"donut\", \"doughnut\", \"doughnut\", \"drive\", \"drive\", \"drive\", \"drive\", \"drive\", \"drive\", \"drive\", \"drive\", \"drive\", \"drive_thru\", \"dulce\", \"dumpling\", \"dumpling\", \"dumpling\", \"dumpling\", \"d\\u00e9licieux\", \"east_coast\", \"egg\", \"egg\", \"egg\", \"egg\", \"egg\", \"egg\", \"egg\", \"egg_benedict\", \"elevator\", \"elevator\", \"employee\", \"employee\", \"employee\", \"employee\", \"employee\", \"employee\", \"employee\", \"employee\", \"employee\", \"empty\", \"empty\", \"empty\", \"empty\", \"empty\", \"empty\", \"empty\", \"empty\", \"empty\", \"enchilada\", \"english_muffin\", \"enjoyed\", \"enjoyed\", \"enjoyed\", \"enjoyed\", \"enjoyed\", \"enjoyed\", \"enjoyed\", \"enjoyed\", \"enjoyed\", \"entree\", \"entree\", \"entree\", \"entree\", \"entree\", \"entree\", \"entree\", \"entree\", \"entree\", \"escargot\", \"espresso\", \"espresso\", \"espresso\", \"espresso\", \"event\", \"event\", \"event\", \"event\", \"event\", \"event\", \"event\", \"event\", \"event\", \"every\", \"every\", \"every\", \"every\", \"every\", \"every\", \"every\", \"every\", \"every\", \"exceeded_expectation\", \"family\", \"family\", \"family\", \"family\", \"family\", \"family\", \"family\", \"family\", \"family\", \"family_owned\", \"farmer_market\", \"fast\", \"fast\", \"fast\", \"fast\", \"fast\", \"fast\", \"fast\", \"fast\", \"fast\", \"fast_casual\", \"fast_casual\", \"fast_casual\", \"fast_casual\", \"fig\", \"filet\", \"filet\", \"filet\", \"filet_mignon\", \"filet_mignon\", \"finally\", \"finally\", \"finally\", \"finally\", \"finally\", \"finally\", \"finally\", \"finally\", \"finally\", \"fish\", \"fish\", \"fish\", \"fish\", \"fish\", \"fish\", \"fish\", \"fish\", \"fish\", \"five\", \"five\", \"five\", \"five\", \"five\", \"five\", \"five\", \"five\", \"five\", \"five_star\", \"five_star\", \"five_star\", \"five_star\", \"five_star\", \"five_star\", \"five_star\", \"flat_white\", \"flat_white\", \"flavour\", \"flavour\", \"flavour\", \"flavour\", \"flavour\", \"floor\", \"floor\", \"floor\", \"floor\", \"floor\", \"floor\", \"floor\", \"floor\", \"floor\", \"flour_tortilla\", \"foie\", \"foie_gras\", \"fois\", \"found\", \"found\", \"found\", \"found\", \"found\", \"found\", \"found\", \"found\", \"found\", \"free\", \"free\", \"free\", \"free\", \"free\", \"free\", \"free\", \"free\", \"free\", \"free_wifi\", \"fremont\", \"fremont\", \"fremont\", \"fremont\", \"fremont_street\", \"french\", \"french\", \"french\", \"french\", \"french\", \"french\", \"french\", \"french\", \"french_toast\", \"friday_night\", \"friday_night\", \"friday_night\", \"friday_night\", \"friday_night\", \"friday_night\", \"front_desk\", \"gallo\", \"game\", \"game\", \"game\", \"game\", \"game\", \"game\", \"game\", \"game\", \"garlic\", \"garlic\", \"garlic\", \"garlic\", \"garlic\", \"garlic\", \"garlic\", \"garlic\", \"garlic\", \"garlic_knot\", \"gave\", \"gave\", \"gave\", \"gave\", \"gave\", \"gave\", \"gave\", \"gave\", \"gave\", \"ghost_pepper\", \"gift_card\", \"gluten\", \"gluten_free\", \"goat_cheese\", \"goat_cheese\", \"golf\", \"golf\", \"gone_downhill\", \"go\\u00fbt\", \"grape_leaf\", \"gras\", \"gras\", \"gravy\", \"gravy\", \"gravy\", \"gravy\", \"gravy\", \"gravy\", \"greek\", \"greek\", \"greek\", \"greek\", \"greek\", \"greek\", \"green\", \"green\", \"green\", \"green\", \"green\", \"green\", \"green\", \"green\", \"green\", \"grilled\", \"grilled\", \"grilled\", \"grilled\", \"grilled\", \"grilled\", \"grilled\", \"grilled\", \"grilled\", \"grocery\", \"grocery\", \"grocery\", \"grocery\", \"grocery\", \"grocery\", \"grocery_store\", \"grocery_store\", \"grocery_store\", \"grocery_store\", \"group\", \"group\", \"group\", \"group\", \"group\", \"group\", \"group\", \"group\", \"group\", \"guac\", \"guac\", \"guacamole\", \"gyoza\", \"gyoza\", \"gyro\", \"gyro\", \"gyro\", \"half\", \"half\", \"half\", \"half\", \"half\", \"half\", \"half\", \"half\", \"half\", \"halo\", \"halo_halo\", \"happy_hour\", \"happy_hour\", \"happy_hour\", \"hash\", \"hash\", \"hash\", \"hash_brown\", \"hash_brown\", \"hashbrowns\", \"highly\", \"highly\", \"highly\", \"highly\", \"highly\", \"highly\", \"highly\", \"highly\", \"highly\", \"highly_recommend\", \"highly_recommend\", \"highly_recommend\", \"highly_recommend\", \"highly_recommend\", \"highly_recommend\", \"highly_recommend\", \"highly_recommended\", \"highly_recommended\", \"highly_recommended\", \"hole_wall\", \"hole_wall\", \"hole_wall\", \"hole_wall\", \"hole_wall\", \"hollandaise\", \"home\", \"home\", \"home\", \"home\", \"home\", \"home\", \"home\", \"home\", \"home\", \"hong\", \"hong_kong\", \"horrible\", \"horrible\", \"horrible\", \"horrible\", \"horrible\", \"hotel\", \"hotel\", \"hotel\", \"hotel\", \"hotel\", \"hotel\", \"hotel\", \"hotel\", \"hotel_casino\", \"however\", \"however\", \"however\", \"however\", \"however\", \"however\", \"however\", \"however\", \"however\", \"huge\", \"huge\", \"huge\", \"huge\", \"huge\", \"huge\", \"huge\", \"huge\", \"huge\", \"incident\", \"indian\", \"indian\", \"issue\", \"issue\", \"issue\", \"issue\", \"issue\", \"issue\", \"issue\", \"issue\", \"issue\", \"italian\", \"italian\", \"italian\", \"italian\", \"italian\", \"italian\", \"italian\", \"jamaican\", \"japan\", \"japanese\", \"japanese\", \"kimchi\", \"kimchi\", \"kimchi\", \"kimchi\", \"knife_fork\", \"knot\", \"kong\", \"korean\", \"korean\", \"korean\", \"korean\", \"korean\", \"lamb_chop\", \"lamb_shank\", \"language_barrier\", \"later\", \"later\", \"later\", \"later\", \"later\", \"later\", \"later\", \"later\", \"later\", \"latte\", \"latte\", \"latte\", \"leave\", \"leave\", \"leave\", \"leave\", \"leave\", \"leave\", \"leave\", \"leave\", \"leave\", \"left\", \"left\", \"left\", \"left\", \"left\", \"left\", \"left\", \"left\", \"left\", \"lettuce_tomato\", \"lettuce_tomato\", \"lettuce_tomato\", \"lettuce_tomato\", \"light\", \"light\", \"light\", \"light\", \"light\", \"light\", \"light\", \"light\", \"light\", \"line\", \"line\", \"line\", \"line\", \"line\", \"line\", \"line\", \"line\", \"line\", \"liquor_license\", \"list\", \"list\", \"list\", \"list\", \"list\", \"list\", \"list\", \"list\", \"list\", \"lobster\", \"lobster\", \"lobster\", \"lobster\", \"lobster\", \"lobster\", \"lobster_bisque\", \"lobster_tail\", \"lobster_tail\", \"local\", \"local\", \"local\", \"local\", \"local\", \"local\", \"local\", \"local\", \"local\", \"located\", \"located\", \"located\", \"located\", \"located\", \"located\", \"located\", \"located\", \"located\", \"look_forward\", \"look_forward\", \"look_forward\", \"look_forward\", \"look_forward\", \"looked\", \"looked\", \"looked\", \"looked\", \"looked\", \"looked\", \"looked\", \"looked\", \"looked\", \"lounge\", \"lounge\", \"lounge\", \"lounge\", \"loved\", \"loved\", \"loved\", \"loved\", \"loved\", \"loved\", \"loved\", \"loved\", \"loved\", \"mahi\", \"mahi_mahi\", \"main\", \"main\", \"main\", \"main\", \"main\", \"main\", \"main\", \"main\", \"main\", \"main_course\", \"mais\", \"maki\", \"maki_roll\", \"mall\", \"mall\", \"mall\", \"mall\", \"mall\", \"mall\", \"mall\", \"mall\", \"mall\", \"management\", \"management\", \"management\", \"management\", \"manager\", \"manager\", \"manager\", \"manager\", \"manager\", \"manager\", \"manager\", \"manager\", \"mango_lassi\", \"maple_syrup\", \"maple_syrup\", \"margarita\", \"margarita\", \"margarita\", \"margarita\", \"margarita\", \"masala\", \"mascarpone\", \"mashed\", \"mashed_potato\", \"matcha\", \"matcha\", \"matcha_latte\", \"maybe\", \"maybe\", \"maybe\", \"maybe\", \"maybe\", \"maybe\", \"maybe\", \"maybe\", \"maybe\", \"medium_rare\", \"medium_rare\", \"melt_mouth\", \"melt_mouth\", \"melt_mouth\", \"melt_mouth\", \"melt_mouth\", \"mexican\", \"mexican\", \"mexican\", \"mexican\", \"michelin\", \"middle_eastern\", \"milk\", \"milk\", \"milk\", \"milk\", \"mimosa\", \"mimosa\", \"mimosa\", \"mimosa\", \"miracle_mile\", \"miracle_mile\", \"miso\", \"miso_soup\", \"mocha\", \"money\", \"money\", \"money\", \"money\", \"money\", \"money\", \"money\", \"money\", \"morning\", \"morning\", \"morning\", \"morning\", \"morning\", \"morning\", \"morning\", \"movie\", \"movie\", \"movie\", \"movie\", \"movie\", \"movie_theater\", \"mozzarella\", \"mozzarella\", \"mozzarella\", \"mozzarella\", \"mozzarella_stick\", \"mushroom\", \"mushroom\", \"mushroom\", \"mushroom\", \"mushroom\", \"mushroom\", \"mushroom\", \"mushroom\", \"music\", \"music\", \"music\", \"music\", \"music\", \"music\", \"music\", \"music\", \"music\", \"naan\", \"neapolitan\", \"nigiri\", \"noodle\", \"noodle\", \"noodle\", \"noodle\", \"nothing\", \"nothing\", \"nothing\", \"nothing\", \"nothing\", \"nothing\", \"nothing\", \"nothing\", \"nothing\", \"nous\", \"nous_avon\", \"offer\", \"offer\", \"offer\", \"offer\", \"offer\", \"offer\", \"offer\", \"offer\", \"offer\", \"olive_garden\", \"omakase\", \"omelet\", \"omelet\", \"omelet\", \"omelet\", \"omelette\", \"omelette\", \"omelette\", \"omelette\", \"onion\", \"onion\", \"onion\", \"onion\", \"onion\", \"onion\", \"onion\", \"onion\", \"onion_ring\", \"onion_ring\", \"onion_ring\", \"open\", \"open\", \"open\", \"open\", \"open\", \"open\", \"open\", \"open\", \"open\", \"outdoor\", \"outdoor\", \"outdoor\", \"outdoor\", \"outdoor\", \"outdoor\", \"outdoor\", \"outdoor_patio\", \"outdoor_patio\", \"oven\", \"oven\", \"oven\", \"oven\", \"oven\", \"oven\", \"owner\", \"owner\", \"owner\", \"owner\", \"owner\", \"owner\", \"owner\", \"owner\", \"owner\", \"oyster\", \"oyster\", \"oyster\", \"pancake\", \"pancake\", \"pancake\", \"pancake\", \"pancake\", \"panda_express\", \"panda_express\", \"panna_cotta\", \"papaya_salad\", \"papaya_salad\", \"parking\", \"parking\", \"parking\", \"parking\", \"parking\", \"parking\", \"parking\", \"parking\", \"parking\", \"party\", \"party\", \"party\", \"party\", \"party\", \"party\", \"party\", \"party\", \"party\", \"pasta\", \"pasta\", \"pasta\", \"pasta\", \"pasta\", \"pasta\", \"pastor\", \"pastrami\", \"pastry\", \"pastry\", \"pastry\", \"pastry\", \"pastry\", \"patio\", \"patio\", \"patio\", \"patio\", \"patio\", \"patio\", \"patio\", \"patio\", \"patio\", \"peking\", \"peking_duck\", \"pepperoni\", \"pepperoni\", \"perfectly\", \"perfectly\", \"perfectly\", \"perfectly\", \"perfectly\", \"perfectly\", \"perfectly\", \"perfectly\", \"perfectly\", \"phone\", \"phone\", \"phone\", \"phone\", \"phone\", \"phone\", \"phone\", \"phone_number\", \"phone_number\", \"phone_number\", \"pickle\", \"pickle\", \"pickle\", \"pickle\", \"pickle\", \"pickle\", \"pickle\", \"pico\", \"pico_gallo\", \"piece\", \"piece\", \"piece\", \"piece\", \"piece\", \"piece\", \"piece\", \"piece\", \"piece\", \"pinto\", \"pinto_bean\", \"pita\", \"pita\", \"pita\", \"pita\", \"pita\", \"pita\", \"pizza\", \"pizza\", \"pizza\", \"pizza\", \"planet_hollywood\", \"planet_hollywood\", \"plat\", \"plate\", \"plate\", \"plate\", \"plate\", \"plate\", \"plate\", \"plate\", \"plate\", \"plate\", \"plus\", \"plus\", \"plus\", \"plus\", \"plus\", \"plus\", \"plus\", \"plus\", \"plus\", \"poached_egg\", \"point\", \"point\", \"point\", \"point\", \"point\", \"point\", \"point\", \"point\", \"point\", \"poke\", \"poke\", \"poke\", \"poke\", \"poke_bowl\", \"pollo_loco\", \"pool\", \"pool\", \"pool\", \"pool\", \"pool\", \"pool\", \"pool\", \"poor\", \"poor\", \"poor\", \"poor\", \"poor\", \"poor\", \"poor\", \"pork\", \"pork\", \"pork\", \"pork\", \"pork\", \"pork\", \"pork\", \"pork\", \"pork\", \"pork_belly\", \"pork_belly\", \"pork_belly\", \"pork_chop\", \"potato\", \"potato\", \"potato\", \"potato\", \"potato\", \"potato\", \"potato\", \"potato\", \"potato\", \"pour\", \"pour\", \"pour\", \"pour\", \"pour\", \"pour\", \"poutine\", \"poutine\", \"poutine\", \"powdered_sugar\", \"premi\\u00e8re_fois\", \"pris\", \"prix_fixe\", \"problem\", \"problem\", \"problem\", \"problem\", \"problem\", \"problem\", \"problem\", \"problem\", \"problem\", \"progressive\", \"pulled\", \"pulled\", \"pulled\", \"pulled\", \"pulled\", \"pulled\", \"pulled\", \"pulled_pork\", \"pulled_pork\", \"pulled_pork\", \"pulled_pork\", \"quesadilla\", \"quesadilla\", \"quesadilla\", \"quesadilla\", \"quick\", \"quick\", \"quick\", \"quick\", \"quick\", \"quick\", \"quick\", \"quick\", \"quick\", \"racist\", \"ramen\", \"ranch\", \"ranch\", \"ranch\", \"ranch\", \"ranch\", \"ranch\", \"ranch\", \"ranch\", \"ranch_dressing\", \"rangoon\", \"rare\", \"rare\", \"rare\", \"rare\", \"rare\", \"rare\", \"rare\", \"rare\", \"rare\", \"reasonably_priced\", \"reasonably_priced\", \"reasonably_priced\", \"reasonably_priced\", \"reasonably_priced\", \"refried\", \"refried_bean\", \"refund\", \"refused\", \"replied\", \"reply\", \"reservation\", \"reservation\", \"reservation\", \"reservation\", \"reservation\", \"reservation\", \"reservation\", \"response\", \"response\", \"response\", \"restriction\", \"reuben\", \"reward_program\", \"richmond_hill\", \"richmond_hill\", \"ring\", \"ring\", \"ring\", \"ring\", \"ring\", \"risotto\", \"roll\", \"roll\", \"roll\", \"roll\", \"roll\", \"roll\", \"roll\", \"roll\", \"roll\", \"room\", \"room\", \"room\", \"room\", \"room\", \"room\", \"room\", \"room\", \"room\", \"rotten\", \"rude\", \"rudely\", \"salade\", \"salmon\", \"salmon\", \"salmon\", \"salmon\", \"salmon\", \"salmon\", \"salmon\", \"salsa\", \"salsa\", \"salted_caramel\", \"sandwich\", \"sandwich\", \"sandwich\", \"sandwich\", \"sandwich\", \"sandwich\", \"sandwich\", \"sandwich\", \"sashimi\", \"sausage\", \"sausage\", \"sausage\", \"sausage\", \"sausage\", \"sausage\", \"sausage\", \"sausage\", \"scallop\", \"scallop\", \"scallop\", \"scrambled\", \"scrambled_egg\", \"seated\", \"seated\", \"seated\", \"seated\", \"seated\", \"seated\", \"seated\", \"seated\", \"seated\", \"seating\", \"seating\", \"seating\", \"seating\", \"seating\", \"seating\", \"seating\", \"seating\", \"seating\", \"seaweed\", \"seaweed\", \"selection\", \"selection\", \"selection\", \"selection\", \"selection\", \"selection\", \"selection\", \"selection\", \"selection\", \"shack\", \"shack\", \"shake_shack\", \"shawarma\", \"shawarma\", \"shawarma\", \"shawarma\", \"shop\", \"shop\", \"shop\", \"shop\", \"shop\", \"shop\", \"shop\", \"shop\", \"shop\", \"shopping\", \"shopping\", \"shopping\", \"shopping\", \"shopping\", \"shopping\", \"shopping\", \"shopping\", \"shopping_center\", \"shopping_center\", \"short_rib\", \"shower\", \"shrimp\", \"shrimp\", \"shrimp\", \"shrimp\", \"shrimp\", \"shrimp\", \"shrimp\", \"shrimp\", \"shrimp\", \"shrimp_grit\", \"shrimp_tempura\", \"situation\", \"situation\", \"situation\", \"situation\", \"situation\", \"situation\", \"size\", \"size\", \"size\", \"size\", \"size\", \"size\", \"size\", \"size\", \"size\", \"slice\", \"slice\", \"slice\", \"slice\", \"slice\", \"slice\", \"slice\", \"slice\", \"slice\", \"smashburger\", \"smoked_salmon\", \"smoked_salmon\", \"smoked_salmon\", \"soda_machine\", \"soda_machine\", \"someone\", \"someone\", \"someone\", \"someone\", \"someone\", \"someone\", \"someone\", \"someone\", \"someone\", \"somewhere_else\", \"somewhere_else\", \"somewhere_else\", \"somewhere_else\", \"sommelier\", \"sonoran\", \"soup\", \"soup\", \"soup\", \"soup\", \"soup\", \"soup\", \"soup\", \"soup\", \"soup\", \"sour\", \"sour\", \"sour\", \"sour\", \"sour\", \"sour\", \"sour\", \"sour\", \"sour\", \"sour_cream\", \"souvlaki\", \"space\", \"space\", \"space\", \"space\", \"space\", \"space\", \"space\", \"space\", \"space\", \"spam\", \"spam_musubi\", \"speak_manager\", \"spend_money\", \"spice\", \"spice\", \"spice\", \"spice\", \"spice\", \"spice\", \"spice\", \"spice_level\", \"spice_level\", \"spice_level\", \"spice_level\", \"spicy\", \"spicy\", \"spicy\", \"spicy\", \"spicy\", \"spicy\", \"spicy\", \"spicy\", \"spicy\", \"spring\", \"spring\", \"spring\", \"spring\", \"spring\", \"spring\", \"spring_mountain\", \"spring_roll\", \"spring_roll\", \"starbucks\", \"starbucks\", \"starbucks\", \"starbucks\", \"starbucks\", \"steak\", \"steak\", \"steak\", \"steak\", \"steak\", \"steak\", \"steak\", \"steak\", \"store\", \"store\", \"store\", \"store\", \"store\", \"store\", \"store\", \"store\", \"store\", \"strawberry\", \"strawberry\", \"strawberry\", \"strawberry\", \"strawberry\", \"strawberry\", \"strawberry\", \"strawberry\", \"street\", \"street\", \"street\", \"street\", \"street\", \"street\", \"street\", \"street\", \"street\", \"strip_mall\", \"strip_mall\", \"strip_mall\", \"strip_mall\", \"strip_mall\", \"strip_mall\", \"strip_mall\", \"stumbled_upon\", \"stumbled_upon\", \"style\", \"style\", \"style\", \"style\", \"style\", \"style\", \"style\", \"style\", \"style\", \"sub\", \"sub\", \"sugar\", \"sugar\", \"sugar\", \"sugar\", \"sugar\", \"sugar\", \"sugar\", \"suite\", \"sunday_afternoon\", \"sunday_afternoon\", \"sunday_afternoon\", \"sunday_afternoon\", \"surf_turf\", \"sushi\", \"sushi\", \"sweet_tooth\", \"sweet_tooth\", \"taco\", \"taco\", \"taco_bell\", \"tamale\", \"tamale\", \"tapa\", \"tapa\", \"tapa\", \"tapa\", \"tapa\", \"tapioca\", \"tasted\", \"tasted\", \"tasted\", \"tasted\", \"tasted\", \"tasted\", \"tasted\", \"tasted\", \"tasted\", \"tater_tot\", \"tater_tot\", \"tater_tot\", \"tell\", \"tell\", \"tell\", \"tell\", \"tell\", \"tell\", \"tell\", \"tell\", \"tell\", \"tempura\", \"tempura\", \"tempura\", \"teriyaki\", \"teriyaki\", \"teriyaki\", \"teriyaki\", \"teriyaki\", \"thai\", \"thai\", \"thai\", \"thai\", \"thai\", \"thai\", \"thai\", \"thai\", \"theater\", \"thin\", \"thin\", \"thin\", \"thin\", \"thin\", \"thin\", \"thin\", \"thin\", \"thin\", \"thin_crust\", \"thinly_sliced\", \"thinly_sliced\", \"thinly_sliced\", \"three\", \"three\", \"three\", \"three\", \"three\", \"three\", \"three\", \"three\", \"three\", \"thru\", \"thru\", \"thru\", \"thru\", \"tikka_masala\", \"toast\", \"toast\", \"toast\", \"toast\", \"tofu\", \"tofu\", \"tofu\", \"tofu\", \"tofu\", \"tofu\", \"told\", \"told\", \"told\", \"told\", \"told\", \"told\", \"told\", \"told\", \"told\", \"tomato\", \"tomato\", \"tomato\", \"tomato\", \"tomato\", \"tomato\", \"tomato\", \"tomato\", \"tomato\", \"tonkotsu_ramen\", \"topping\", \"topping\", \"topping\", \"topping\", \"topping\", \"topping\", \"topping\", \"topping\", \"topping\", \"tortilla\", \"tortilla\", \"tortilla\", \"tout\", \"tout\", \"tr\\u00e8s\", \"tucked_away\", \"tucked_away\", \"tuna\", \"tuna\", \"tuna\", \"tuna\", \"tuna\", \"turf\", \"turkey\", \"turkey\", \"turkey\", \"turkey\", \"turkey\", \"turkey\", \"turkey\", \"tzatziki\", \"tzatziki\", \"udon\", \"unacceptable\", \"unprofessional\", \"upset\", \"upset\", \"upset\", \"upset\", \"upstairs\", \"upstairs\", \"upstairs\", \"upstairs\", \"upstairs\", \"vega\", \"vega\", \"vega\", \"vega\", \"vega\", \"vega\", \"vega\", \"vega\", \"vega\", \"vegan\", \"vegan\", \"vegan\", \"vegan\", \"vegan\", \"vegan\", \"vegan\", \"vegan\", \"vegan\", \"vegetable\", \"vegetable\", \"vegetable\", \"vegetable\", \"vegetable\", \"vegetable\", \"vegetable\", \"vegetable\", \"vegetable\", \"veggie\", \"veggie\", \"veggie\", \"veggie\", \"veggie\", \"veggie\", \"veggie\", \"veggie\", \"veggie\", \"venue\", \"venue\", \"venue\", \"venue\", \"venue\", \"venue\", \"venue\", \"view\", \"view\", \"view\", \"view\", \"view\", \"view\", \"view\", \"view\", \"vous\", \"vraiment\", \"waffle\", \"waffle\", \"waffle\", \"waffle\", \"waffle\", \"waited\", \"waited\", \"waited\", \"waited\", \"waited\", \"waited\", \"waited\", \"waited\", \"waited\", \"waiting\", \"waiting\", \"waiting\", \"waiting\", \"waiting\", \"waiting\", \"waiting\", \"waiting\", \"waiting\", \"waitress\", \"waitress\", \"waitress\", \"waitress\", \"waitress\", \"waitress\", \"waitress\", \"waitress\", \"waitress\", \"walked\", \"walked\", \"walked\", \"walked\", \"walked\", \"walked\", \"walked\", \"walked\", \"walked\", \"walking_distance\", \"waste_money\", \"water\", \"water\", \"water\", \"water\", \"water\", \"water\", \"water\", \"water\", \"water\", \"west_coast\", \"west_coast\", \"wine\", \"wine\", \"wine\", \"wine\", \"wine\", \"wine\", \"wine\", \"wing\", \"wing\", \"wing\", \"wing\", \"wing\", \"wing\", \"wing\", \"worst\", \"worst\", \"worst\", \"worst\", \"worst\", \"worst\", \"worst\", \"worst\", \"year\", \"year\", \"year\", \"year\", \"year\", \"year\", \"year\", \"year\", \"year\", \"yelled\", \"yelling\", \"yelp\", \"yelp\", \"yelp\", \"yelp\", \"yelp\", \"yelp\", \"yelp\", \"yelp\", \"yelp\", \"yelp_elite\", \"\\u00e9tait\", \"\\u00e9tait_d\\u00e9licieux\"]}, \"R\": 30, \"lambda.step\": 0.01, \"plot.opts\": {\"xlab\": \"PC1\", \"ylab\": \"PC2\"}, \"topic.order\": [7, 5, 2, 1, 4, 3, 6, 8, 9]};\n",
       "\n",
       "function LDAvis_load_lib(url, callback){\n",
       "  var s = document.createElement('script');\n",
       "  s.src = url;\n",
       "  s.async = true;\n",
       "  s.onreadystatechange = s.onload = callback;\n",
       "  s.onerror = function(){console.warn(\"failed to load library \" + url);};\n",
       "  document.getElementsByTagName(\"head\")[0].appendChild(s);\n",
       "}\n",
       "\n",
       "if(typeof(LDAvis) !== \"undefined\"){\n",
       "   // already loaded: just create the visualization\n",
       "   !function(LDAvis){\n",
       "       new LDAvis(\"#\" + \"ldavis_el953221850498048725753599889\", ldavis_el953221850498048725753599889_data);\n",
       "   }(LDAvis);\n",
       "}else if(typeof define === \"function\" && define.amd){\n",
       "   // require.js is available: use it to load d3/LDAvis\n",
       "   require.config({paths: {d3: \"https://cdnjs.cloudflare.com/ajax/libs/d3/3.5.5/d3.min\"}});\n",
       "   require([\"d3\"], function(d3){\n",
       "      window.d3 = d3;\n",
       "      LDAvis_load_lib(\"https://cdn.rawgit.com/bmabey/pyLDAvis/files/ldavis.v1.0.0.js\", function(){\n",
       "        new LDAvis(\"#\" + \"ldavis_el953221850498048725753599889\", ldavis_el953221850498048725753599889_data);\n",
       "      });\n",
       "    });\n",
       "}else{\n",
       "    // require.js not available: dynamically load d3 & LDAvis\n",
       "    LDAvis_load_lib(\"https://cdnjs.cloudflare.com/ajax/libs/d3/3.5.5/d3.min.js\", function(){\n",
       "         LDAvis_load_lib(\"https://cdn.rawgit.com/bmabey/pyLDAvis/files/ldavis.v1.0.0.js\", function(){\n",
       "                 new LDAvis(\"#\" + \"ldavis_el953221850498048725753599889\", ldavis_el953221850498048725753599889_data);\n",
       "            })\n",
       "         });\n",
       "}\n",
       "</script>"
      ],
      "text/plain": [
       "PreparedData(topic_coordinates=              x         y  topics  cluster       Freq\n",
       "topic                                                \n",
       "6      0.132633  0.116159       1        1  18.589838\n",
       "4     -0.075035 -0.002447       2        1  16.272350\n",
       "1     -0.084751 -0.128749       3        1  11.986105\n",
       "0      0.117425 -0.093409       4        1  11.887702\n",
       "3      0.075645 -0.016656       5        1  11.271734\n",
       "2     -0.033080  0.011947       6        1   8.272939\n",
       "5     -0.136299  0.076614       7        1   7.749579\n",
       "7     -0.026780  0.079633       8        1   7.748005\n",
       "8      0.030241 -0.043092       9        1   6.221748, topic_info=    Category         Freq        Term        Total  loglift  logprob\n",
       "400  Default  2195.000000       pizza  2195.000000  30.0000  30.0000\n",
       "368  Default  1307.000000  happy_hour  1307.000000  29.0000  29.0000\n",
       "902  Default  1427.000000        taco  1427.000000  28.0000  28.0000\n",
       "77   Default  1567.000000    sandwich  1567.000000  27.0000  27.0000\n",
       "8    Default  1740.000000      burger  1740.000000  26.0000  26.0000\n",
       "..       ...          ...         ...          ...      ...      ...\n",
       "94    Topic9    92.243698        yelp   792.210938   0.6267  -5.8628\n",
       "78    Topic9    86.137039   selection   632.898132   0.7827  -5.9313\n",
       "61    Topic9    91.363319       offer   965.856689   0.4189  -5.8724\n",
       "481   Topic9    85.499542       three   685.881348   0.6949  -5.9387\n",
       "347   Topic9    78.833160      tomato   603.658936   0.7414  -6.0199\n",
       "\n",
       "[621 rows x 6 columns], token_table=      Topic      Freq             Term\n",
       "term                                  \n",
       "4425      2  0.988362        acai_bowl\n",
       "4260      1  0.931712     acknowledged\n",
       "4260      8  0.041409     acknowledged\n",
       "559       1  0.020595    across_street\n",
       "559       2  0.006865    across_street\n",
       "...     ...       ...              ...\n",
       "94        8  0.058065             yelp\n",
       "94        9  0.116131             yelp\n",
       "2295      9  0.972269       yelp_elite\n",
       "3476      9  0.989246            était\n",
       "3477      9  0.969786  était_délicieux\n",
       "\n",
       "[2304 rows x 3 columns], R=30, lambda_step=0.01, plot_opts={'xlab': 'PC1', 'ylab': 'PC2'}, topic_order=[7, 5, 2, 1, 4, 3, 6, 8, 9])"
      ]
     },
     "execution_count": 18,
     "metadata": {},
     "output_type": "execute_result"
    }
   ],
   "source": [
    "import pyLDAvis.gensim\n",
    "pyLDAvis.enable_notebook()\n",
    "\n",
    "import warnings\n",
    "warnings.filterwarnings(\"ignore\", category=DeprecationWarning) \n",
    "\n",
    "pyLDAvis.gensim.prepare(model, corpus, dictionary)"
   ]
  },
  {
   "cell_type": "markdown",
   "metadata": {},
   "source": [
    "\n",
    "## Interpretation of the Visualization \n",
    "\n",
    "- Relevence is defined as in footer 2 and can be tuned by parameter $\\lambda$.\n",
    "\n",
    "Smaller $\\lambda$ gives higher weight to the term's distinctiveness.\n",
    "\n",
    "Larger $\\lambda$ corresponds to probablity of the term occurance per topics.\n",
    "\n",
    "- Therefore, to get a better sense of terms per topic we use $\\lambda = 0$."
   ]
  },
  {
   "cell_type": "markdown",
   "metadata": {},
   "source": [
    "## Display the Top Words in the Topics\n",
    "\n",
    "- We display the top 10 words for each topic."
   ]
  },
  {
   "cell_type": "code",
   "execution_count": 19,
   "metadata": {},
   "outputs": [],
   "source": [
    "def get_lda_topics(model, num_topics, top_words):\n",
    "    '''Function to return top words for num_topics'''\n",
    "    word_dict = {};\n",
    "    for i in range(num_topics):\n",
    "        words = model.show_topic(i, topn = top_words);\n",
    "        word_dict['Topic # ' + '{:02d}'.format(i+1)] = [i[0] for i in words];\n",
    "    return pd.DataFrame(word_dict)"
   ]
  },
  {
   "cell_type": "code",
   "execution_count": 20,
   "metadata": {},
   "outputs": [
    {
     "data": {
      "text/html": [
       "<div>\n",
       "<style scoped>\n",
       "    .dataframe tbody tr th:only-of-type {\n",
       "        vertical-align: middle;\n",
       "    }\n",
       "\n",
       "    .dataframe tbody tr th {\n",
       "        vertical-align: top;\n",
       "    }\n",
       "\n",
       "    .dataframe thead th {\n",
       "        text-align: right;\n",
       "    }\n",
       "</style>\n",
       "<table border=\"1\" class=\"dataframe\">\n",
       "  <thead>\n",
       "    <tr style=\"text-align: right;\">\n",
       "      <th></th>\n",
       "      <th>Topic # 01</th>\n",
       "      <th>Topic # 02</th>\n",
       "      <th>Topic # 03</th>\n",
       "      <th>Topic # 04</th>\n",
       "      <th>Topic # 05</th>\n",
       "      <th>Topic # 06</th>\n",
       "      <th>Topic # 07</th>\n",
       "      <th>Topic # 08</th>\n",
       "      <th>Topic # 09</th>\n",
       "    </tr>\n",
       "  </thead>\n",
       "  <tbody>\n",
       "    <tr>\n",
       "      <th>0</th>\n",
       "      <td>room</td>\n",
       "      <td>steak</td>\n",
       "      <td>pizza</td>\n",
       "      <td>coffee</td>\n",
       "      <td>noodle</td>\n",
       "      <td>taco</td>\n",
       "      <td>told</td>\n",
       "      <td>burger</td>\n",
       "      <td>happy_hour</td>\n",
       "    </tr>\n",
       "    <tr>\n",
       "      <th>1</th>\n",
       "      <td>dining_room</td>\n",
       "      <td>bread</td>\n",
       "      <td>wing</td>\n",
       "      <td>cream</td>\n",
       "      <td>sushi</td>\n",
       "      <td>salsa</td>\n",
       "      <td>manager</td>\n",
       "      <td>breakfast</td>\n",
       "      <td>sandwich</td>\n",
       "    </tr>\n",
       "    <tr>\n",
       "      <th>2</th>\n",
       "      <td>gluten_free</td>\n",
       "      <td>dessert</td>\n",
       "      <td>burger</td>\n",
       "      <td>chocolate</td>\n",
       "      <td>soup</td>\n",
       "      <td>burrito</td>\n",
       "      <td>waitress</td>\n",
       "      <td>egg</td>\n",
       "      <td>beer</td>\n",
       "    </tr>\n",
       "    <tr>\n",
       "      <th>3</th>\n",
       "      <td>dining</td>\n",
       "      <td>potato</td>\n",
       "      <td>crust</td>\n",
       "      <td>cake</td>\n",
       "      <td>roll</td>\n",
       "      <td>bean</td>\n",
       "      <td>left</td>\n",
       "      <td>bacon</td>\n",
       "      <td>five_star</td>\n",
       "    </tr>\n",
       "    <tr>\n",
       "      <th>4</th>\n",
       "      <td>highly_recommend</td>\n",
       "      <td>shrimp</td>\n",
       "      <td>onion_ring</td>\n",
       "      <td>beer</td>\n",
       "      <td>bowl</td>\n",
       "      <td>thai</td>\n",
       "      <td>business</td>\n",
       "      <td>drive_thru</td>\n",
       "      <td>pulled_pork</td>\n",
       "    </tr>\n",
       "    <tr>\n",
       "      <th>5</th>\n",
       "      <td>hotel</td>\n",
       "      <td>cooked</td>\n",
       "      <td>topping</td>\n",
       "      <td>shop</td>\n",
       "      <td>spicy</td>\n",
       "      <td>chip</td>\n",
       "      <td>away</td>\n",
       "      <td>toast</td>\n",
       "      <td>bread</td>\n",
       "    </tr>\n",
       "    <tr>\n",
       "      <th>6</th>\n",
       "      <td>free</td>\n",
       "      <td>plate</td>\n",
       "      <td>onion</td>\n",
       "      <td>cafe</td>\n",
       "      <td>fish</td>\n",
       "      <td>mexican</td>\n",
       "      <td>walked</td>\n",
       "      <td>brunch</td>\n",
       "      <td>wine</td>\n",
       "    </tr>\n",
       "    <tr>\n",
       "      <th>7</th>\n",
       "      <td>chef</td>\n",
       "      <td>lobster</td>\n",
       "      <td>slice</td>\n",
       "      <td>milk</td>\n",
       "      <td>pork</td>\n",
       "      <td>carne_asada</td>\n",
       "      <td>waiting</td>\n",
       "      <td>french_toast</td>\n",
       "      <td>turkey</td>\n",
       "    </tr>\n",
       "    <tr>\n",
       "      <th>8</th>\n",
       "      <td>game</td>\n",
       "      <td>mashed_potato</td>\n",
       "      <td>garlic</td>\n",
       "      <td>store</td>\n",
       "      <td>curry</td>\n",
       "      <td>spring_roll</td>\n",
       "      <td>owner</td>\n",
       "      <td>potato</td>\n",
       "      <td>five</td>\n",
       "    </tr>\n",
       "    <tr>\n",
       "      <th>9</th>\n",
       "      <td>vega</td>\n",
       "      <td>appetizer</td>\n",
       "      <td>thin_crust</td>\n",
       "      <td>parking</td>\n",
       "      <td>broth</td>\n",
       "      <td>chip_salsa</td>\n",
       "      <td>looked</td>\n",
       "      <td>pancake</td>\n",
       "      <td>corned_beef</td>\n",
       "    </tr>\n",
       "  </tbody>\n",
       "</table>\n",
       "</div>"
      ],
      "text/plain": [
       "         Topic # 01     Topic # 02  Topic # 03 Topic # 04 Topic # 05  \\\n",
       "0              room          steak       pizza     coffee     noodle   \n",
       "1       dining_room          bread        wing      cream      sushi   \n",
       "2       gluten_free        dessert      burger  chocolate       soup   \n",
       "3            dining         potato       crust       cake       roll   \n",
       "4  highly_recommend         shrimp  onion_ring       beer       bowl   \n",
       "5             hotel         cooked     topping       shop      spicy   \n",
       "6              free          plate       onion       cafe       fish   \n",
       "7              chef        lobster       slice       milk       pork   \n",
       "8              game  mashed_potato      garlic      store      curry   \n",
       "9              vega      appetizer  thin_crust    parking      broth   \n",
       "\n",
       "    Topic # 06 Topic # 07    Topic # 08   Topic # 09  \n",
       "0         taco       told        burger   happy_hour  \n",
       "1        salsa    manager     breakfast     sandwich  \n",
       "2      burrito   waitress           egg         beer  \n",
       "3         bean       left         bacon    five_star  \n",
       "4         thai   business    drive_thru  pulled_pork  \n",
       "5         chip       away         toast        bread  \n",
       "6      mexican     walked        brunch         wine  \n",
       "7  carne_asada    waiting  french_toast       turkey  \n",
       "8  spring_roll      owner        potato         five  \n",
       "9   chip_salsa     looked       pancake  corned_beef  "
      ]
     },
     "execution_count": 20,
     "metadata": {},
     "output_type": "execute_result"
    }
   ],
   "source": [
    "get_lda_topics(model, num_topics, 10) #View top 10 words for each topic"
   ]
  },
  {
   "cell_type": "markdown",
   "metadata": {},
   "source": [
    "## Generate Labels for the Topics\n",
    "\n",
    "- We can manually generate human-interpretable labels for each topic by looking at the terms that appear more in each topic.\n",
    "\n",
    "\n",
    "- We use LdaModel's \"show_topic\" method that returns **Word-probability pairs** for the most relevant words generated by the topic."
   ]
  },
  {
   "cell_type": "code",
   "execution_count": 21,
   "metadata": {},
   "outputs": [],
   "source": [
    "def explore_topic(lda_model, topic_number, topn, output=True):\n",
    "    \"\"\"\n",
    "    accept a ldamodel, a topic number and topn vocabs of interest\n",
    "    prints a formatted list of the topn terms\n",
    "    \"\"\"\n",
    "    terms = []\n",
    "    probabilities=[]\n",
    "    for term, probability in lda_model.show_topic(topic_number, topn=topn):\n",
    "        terms += [term]\n",
    "        if output:\n",
    "            probabilities += [np.float64(probability)]\n",
    "            print(u'{:30} {:.3f}'.format(term, round(probability, 3)))\n",
    "    \n",
    "    return terms, probabilities"
   ]
  },
  {
   "cell_type": "code",
   "execution_count": 22,
   "metadata": {},
   "outputs": [
    {
     "name": "stdout",
     "output_type": "stream",
     "text": [
      "term                      probability\n",
      "\n",
      "\n",
      "Topic 0 |---------------------------\n",
      "\n",
      "room                           0.010\n",
      "dining_room                    0.008\n",
      "gluten_free                    0.007\n",
      "dining                         0.007\n",
      "highly_recommend               0.006\n",
      "hotel                          0.005\n",
      "free                           0.005\n",
      "chef                           0.005\n",
      "game                           0.004\n",
      "vega                           0.004\n",
      "\n",
      "Topic 1 |---------------------------\n",
      "\n",
      "steak                          0.010\n",
      "bread                          0.009\n",
      "dessert                        0.007\n",
      "potato                         0.007\n",
      "shrimp                         0.006\n",
      "cooked                         0.006\n",
      "plate                          0.006\n",
      "lobster                        0.006\n",
      "mashed_potato                  0.006\n",
      "appetizer                      0.005\n",
      "\n",
      "Topic 2 |---------------------------\n",
      "\n",
      "pizza                          0.051\n",
      "wing                           0.017\n",
      "burger                         0.011\n",
      "crust                          0.009\n",
      "onion_ring                     0.008\n",
      "topping                        0.007\n",
      "onion                          0.006\n",
      "slice                          0.006\n",
      "garlic                         0.005\n",
      "thin_crust                     0.005\n",
      "\n",
      "Topic 3 |---------------------------\n",
      "\n",
      "coffee                         0.014\n",
      "cream                          0.009\n",
      "chocolate                      0.006\n",
      "cake                           0.006\n",
      "beer                           0.006\n",
      "shop                           0.006\n",
      "cafe                           0.006\n",
      "milk                           0.005\n",
      "store                          0.005\n",
      "parking                        0.004\n",
      "\n",
      "Topic 4 |---------------------------\n",
      "\n",
      "noodle                         0.013\n",
      "sushi                          0.013\n",
      "soup                           0.013\n",
      "roll                           0.012\n",
      "bowl                           0.009\n",
      "spicy                          0.008\n",
      "fish                           0.006\n",
      "pork                           0.005\n",
      "curry                          0.005\n",
      "broth                          0.005\n",
      "\n",
      "Topic 5 |---------------------------\n",
      "\n",
      "taco                           0.035\n",
      "salsa                          0.013\n",
      "burrito                        0.012\n",
      "bean                           0.012\n",
      "thai                           0.010\n",
      "chip                           0.010\n",
      "mexican                        0.010\n",
      "carne_asada                    0.010\n",
      "spring_roll                    0.009\n",
      "chip_salsa                     0.009\n",
      "\n",
      "Topic 6 |---------------------------\n",
      "\n",
      "told                           0.008\n",
      "manager                        0.005\n",
      "waitress                       0.005\n",
      "left                           0.005\n",
      "business                       0.004\n",
      "away                           0.004\n",
      "walked                         0.004\n",
      "waiting                        0.004\n",
      "owner                          0.004\n",
      "looked                         0.004\n",
      "\n",
      "Topic 7 |---------------------------\n",
      "\n",
      "burger                         0.025\n",
      "breakfast                      0.020\n",
      "egg                            0.012\n",
      "bacon                          0.012\n",
      "drive_thru                     0.011\n",
      "toast                          0.009\n",
      "brunch                         0.009\n",
      "french_toast                   0.008\n",
      "potato                         0.007\n",
      "pancake                        0.007\n",
      "\n",
      "Topic 8 |---------------------------\n",
      "\n",
      "happy_hour                     0.040\n",
      "sandwich                       0.033\n",
      "beer                           0.010\n",
      "five_star                      0.010\n",
      "pulled_pork                    0.008\n",
      "bread                          0.007\n",
      "wine                           0.006\n",
      "turkey                         0.004\n",
      "five                           0.004\n",
      "corned_beef                    0.004\n"
     ]
    }
   ],
   "source": [
    "topic_summaries = []\n",
    "\n",
    "print(u'{:25} {}'.format(u'term', u'probability') + u'\\n')\n",
    "\n",
    "for i in range(num_topics):\n",
    "    print('\\nTopic '+str(i)+' |---------------------------\\n')\n",
    "    tmp = explore_topic(model, topic_number=i, topn=10, output=True )\n",
    "    topic_summaries += [tmp[:5]]"
   ]
  },
  {
   "cell_type": "markdown",
   "metadata": {},
   "source": [
    "## Manually Generate Topic Labels\n",
    "\n",
    "- Based on the most probable words generated by each topic, we assign human-interpretable labels for the topics."
   ]
  },
  {
   "cell_type": "code",
   "execution_count": 23,
   "metadata": {
    "scrolled": true
   },
   "outputs": [
    {
     "data": {
      "text/plain": [
       "{'0': {'topic': 'Fine Dining',\n",
       "  'details': [{'word': 'room', 'probability': 0.010474324226379395},\n",
       "   {'word': 'dining_room', 'probability': 0.00830595288425684},\n",
       "   {'word': 'gluten_free', 'probability': 0.00731181213632226},\n",
       "   {'word': 'dining', 'probability': 0.0065196724608540535},\n",
       "   {'word': 'highly_recommend', 'probability': 0.006396329030394554},\n",
       "   {'word': 'hotel', 'probability': 0.00537074776366353},\n",
       "   {'word': 'free', 'probability': 0.005216171499341726},\n",
       "   {'word': 'chef', 'probability': 0.004911673720926046},\n",
       "   {'word': 'game', 'probability': 0.004430868662893772},\n",
       "   {'word': 'vega', 'probability': 0.004381795413792133}]},\n",
       " '1': {'topic': 'Thai Food',\n",
       "  'details': [{'word': 'steak', 'probability': 0.010466063395142555},\n",
       "   {'word': 'bread', 'probability': 0.008790980093181133},\n",
       "   {'word': 'dessert', 'probability': 0.007166932802647352},\n",
       "   {'word': 'potato', 'probability': 0.007165350951254368},\n",
       "   {'word': 'shrimp', 'probability': 0.006414857227355242},\n",
       "   {'word': 'cooked', 'probability': 0.006173681002110243},\n",
       "   {'word': 'plate', 'probability': 0.0060877748765051365},\n",
       "   {'word': 'lobster', 'probability': 0.00607118709012866},\n",
       "   {'word': 'mashed_potato', 'probability': 0.005990572739392519},\n",
       "   {'word': 'appetizer', 'probability': 0.005392619874328375}]},\n",
       " '2': {'topic': 'Italian Food',\n",
       "  'details': [{'word': 'pizza', 'probability': 0.05058322846889496},\n",
       "   {'word': 'wing', 'probability': 0.016529612243175507},\n",
       "   {'word': 'burger', 'probability': 0.011052771471440792},\n",
       "   {'word': 'crust', 'probability': 0.009037557058036327},\n",
       "   {'word': 'onion_ring', 'probability': 0.007950820028781891},\n",
       "   {'word': 'topping', 'probability': 0.006918639875948429},\n",
       "   {'word': 'onion', 'probability': 0.006455703172832727},\n",
       "   {'word': 'slice', 'probability': 0.005982812028378248},\n",
       "   {'word': 'garlic', 'probability': 0.0054190438240766525},\n",
       "   {'word': 'thin_crust', 'probability': 0.0047241500578820705}]},\n",
       " '3': {'topic': 'Bakery',\n",
       "  'details': [{'word': 'coffee', 'probability': 0.013722500763833523},\n",
       "   {'word': 'cream', 'probability': 0.00866048876196146},\n",
       "   {'word': 'chocolate', 'probability': 0.0063338554464280605},\n",
       "   {'word': 'cake', 'probability': 0.006045971531420946},\n",
       "   {'word': 'beer', 'probability': 0.005992758087813854},\n",
       "   {'word': 'shop', 'probability': 0.005914296023547649},\n",
       "   {'word': 'cafe', 'probability': 0.005566204432398081},\n",
       "   {'word': 'milk', 'probability': 0.005416703876107931},\n",
       "   {'word': 'store', 'probability': 0.004951979964971542},\n",
       "   {'word': 'parking', 'probability': 0.004286536015570164}]},\n",
       " '4': {'topic': 'Asian Food',\n",
       "  'details': [{'word': 'noodle', 'probability': 0.013167797587811947},\n",
       "   {'word': 'sushi', 'probability': 0.013112262822687626},\n",
       "   {'word': 'soup', 'probability': 0.012789462693035603},\n",
       "   {'word': 'roll', 'probability': 0.011534428223967552},\n",
       "   {'word': 'bowl', 'probability': 0.009455893188714981},\n",
       "   {'word': 'spicy', 'probability': 0.008074639365077019},\n",
       "   {'word': 'fish', 'probability': 0.005822213366627693},\n",
       "   {'word': 'pork', 'probability': 0.00540178595110774},\n",
       "   {'word': 'curry', 'probability': 0.0052587720565497875},\n",
       "   {'word': 'broth', 'probability': 0.0050453138537704945}]},\n",
       " '5': {'topic': 'Mexican Food',\n",
       "  'details': [{'word': 'taco', 'probability': 0.03512655198574066},\n",
       "   {'word': 'salsa', 'probability': 0.012992270290851593},\n",
       "   {'word': 'burrito', 'probability': 0.011614605784416199},\n",
       "   {'word': 'bean', 'probability': 0.011575656943023205},\n",
       "   {'word': 'thai', 'probability': 0.01035618782043457},\n",
       "   {'word': 'chip', 'probability': 0.0101483054459095},\n",
       "   {'word': 'mexican', 'probability': 0.009874682873487473},\n",
       "   {'word': 'carne_asada', 'probability': 0.009679033420979977},\n",
       "   {'word': 'spring_roll', 'probability': 0.0094137629494071},\n",
       "   {'word': 'chip_salsa', 'probability': 0.009179324842989445}]},\n",
       " '6': {'topic': 'Customer Experience',\n",
       "  'details': [{'word': 'told', 'probability': 0.007950498722493649},\n",
       "   {'word': 'manager', 'probability': 0.005380052141845226},\n",
       "   {'word': 'waitress', 'probability': 0.0050074378959834576},\n",
       "   {'word': 'left', 'probability': 0.004569946322590113},\n",
       "   {'word': 'business', 'probability': 0.004126376006752253},\n",
       "   {'word': 'away', 'probability': 0.004016011022031307},\n",
       "   {'word': 'walked', 'probability': 0.0039047235623002052},\n",
       "   {'word': 'waiting', 'probability': 0.0038165543228387833},\n",
       "   {'word': 'owner', 'probability': 0.0037917131558060646},\n",
       "   {'word': 'looked', 'probability': 0.003624982899054885}]},\n",
       " '7': {'topic': 'Fast Food',\n",
       "  'details': [{'word': 'burger', 'probability': 0.02531706914305687},\n",
       "   {'word': 'breakfast', 'probability': 0.02006293088197708},\n",
       "   {'word': 'egg', 'probability': 0.012247620150446892},\n",
       "   {'word': 'bacon', 'probability': 0.012133833952248096},\n",
       "   {'word': 'drive_thru', 'probability': 0.011218423023819923},\n",
       "   {'word': 'toast', 'probability': 0.009112813510000706},\n",
       "   {'word': 'brunch', 'probability': 0.00903615728020668},\n",
       "   {'word': 'french_toast', 'probability': 0.007890013977885246},\n",
       "   {'word': 'potato', 'probability': 0.0067621078342199326},\n",
       "   {'word': 'pancake', 'probability': 0.006725677754729986}]},\n",
       " '8': {'topic': 'Happy Hour',\n",
       "  'details': [{'word': 'happy_hour', 'probability': 0.040195662528276443},\n",
       "   {'word': 'sandwich', 'probability': 0.033068493008613586},\n",
       "   {'word': 'beer', 'probability': 0.010414119809865952},\n",
       "   {'word': 'five_star', 'probability': 0.009639730677008629},\n",
       "   {'word': 'pulled_pork', 'probability': 0.007542842999100685},\n",
       "   {'word': 'bread', 'probability': 0.007058502174913883},\n",
       "   {'word': 'wine', 'probability': 0.005595169495791197},\n",
       "   {'word': 'turkey', 'probability': 0.004255170933902264},\n",
       "   {'word': 'five', 'probability': 0.004185828845947981},\n",
       "   {'word': 'corned_beef', 'probability': 0.004100863356143236}]}}"
      ]
     },
     "execution_count": 23,
     "metadata": {},
     "output_type": "execute_result"
    }
   ],
   "source": [
    "top_labels = {\"0\": 'Fine Dining', \"1\":'Thai Food', \"2\":'Italian Food', \"3\":'Bakery', \"4\":'Asian Food', \"5\":'Mexican Food', \"6\":'Customer Experience', \"7\":'Fast Food', \"8\":'Happy Hour'}\n",
    "\n",
    "for k, item in top_labels.items():\n",
    "    top_labels[k]= {\"topic\": item, \n",
    "                    \"details\":[{\"word\": topic_summaries[int(k[-1])][0][i], \"probability\": topic_summaries[int(k[-1])][1][i]} for i in range(10)]\n",
    "                   }\n",
    "    \n",
    "top_labels #View dict with the topic labels and the words"
   ]
  },
  {
   "cell_type": "code",
   "execution_count": 24,
   "metadata": {},
   "outputs": [],
   "source": [
    "# Add average topic coherence to the top labels dictionary\n",
    "i = 0\n",
    "for key, item in top_labels.items():\n",
    "    value = top_topics[i][1]\n",
    "    top_labels[key][\"coherence\"] = value\n",
    "    i +=1"
   ]
  },
  {
   "cell_type": "code",
   "execution_count": 25,
   "metadata": {},
   "outputs": [
    {
     "data": {
      "text/plain": [
       "{'0': {'topic': 'Fine Dining',\n",
       "  'details': [{'word': 'room', 'probability': 0.010474324226379395},\n",
       "   {'word': 'dining_room', 'probability': 0.00830595288425684},\n",
       "   {'word': 'gluten_free', 'probability': 0.00731181213632226},\n",
       "   {'word': 'dining', 'probability': 0.0065196724608540535},\n",
       "   {'word': 'highly_recommend', 'probability': 0.006396329030394554},\n",
       "   {'word': 'hotel', 'probability': 0.00537074776366353},\n",
       "   {'word': 'free', 'probability': 0.005216171499341726},\n",
       "   {'word': 'chef', 'probability': 0.004911673720926046},\n",
       "   {'word': 'game', 'probability': 0.004430868662893772},\n",
       "   {'word': 'vega', 'probability': 0.004381795413792133}],\n",
       "  'coherence': -2.2501967315398983},\n",
       " '1': {'topic': 'Thai Food',\n",
       "  'details': [{'word': 'steak', 'probability': 0.010466063395142555},\n",
       "   {'word': 'bread', 'probability': 0.008790980093181133},\n",
       "   {'word': 'dessert', 'probability': 0.007166932802647352},\n",
       "   {'word': 'potato', 'probability': 0.007165350951254368},\n",
       "   {'word': 'shrimp', 'probability': 0.006414857227355242},\n",
       "   {'word': 'cooked', 'probability': 0.006173681002110243},\n",
       "   {'word': 'plate', 'probability': 0.0060877748765051365},\n",
       "   {'word': 'lobster', 'probability': 0.00607118709012866},\n",
       "   {'word': 'mashed_potato', 'probability': 0.005990572739392519},\n",
       "   {'word': 'appetizer', 'probability': 0.005392619874328375}],\n",
       "  'coherence': -2.504197441968827},\n",
       " '2': {'topic': 'Italian Food',\n",
       "  'details': [{'word': 'pizza', 'probability': 0.05058322846889496},\n",
       "   {'word': 'wing', 'probability': 0.016529612243175507},\n",
       "   {'word': 'burger', 'probability': 0.011052771471440792},\n",
       "   {'word': 'crust', 'probability': 0.009037557058036327},\n",
       "   {'word': 'onion_ring', 'probability': 0.007950820028781891},\n",
       "   {'word': 'topping', 'probability': 0.006918639875948429},\n",
       "   {'word': 'onion', 'probability': 0.006455703172832727},\n",
       "   {'word': 'slice', 'probability': 0.005982812028378248},\n",
       "   {'word': 'garlic', 'probability': 0.0054190438240766525},\n",
       "   {'word': 'thin_crust', 'probability': 0.0047241500578820705}],\n",
       "  'coherence': -2.513770860773827},\n",
       " '3': {'topic': 'Bakery',\n",
       "  'details': [{'word': 'coffee', 'probability': 0.013722500763833523},\n",
       "   {'word': 'cream', 'probability': 0.00866048876196146},\n",
       "   {'word': 'chocolate', 'probability': 0.0063338554464280605},\n",
       "   {'word': 'cake', 'probability': 0.006045971531420946},\n",
       "   {'word': 'beer', 'probability': 0.005992758087813854},\n",
       "   {'word': 'shop', 'probability': 0.005914296023547649},\n",
       "   {'word': 'cafe', 'probability': 0.005566204432398081},\n",
       "   {'word': 'milk', 'probability': 0.005416703876107931},\n",
       "   {'word': 'store', 'probability': 0.004951979964971542},\n",
       "   {'word': 'parking', 'probability': 0.004286536015570164}],\n",
       "  'coherence': -2.9347302196296607},\n",
       " '4': {'topic': 'Asian Food',\n",
       "  'details': [{'word': 'noodle', 'probability': 0.013167797587811947},\n",
       "   {'word': 'sushi', 'probability': 0.013112262822687626},\n",
       "   {'word': 'soup', 'probability': 0.012789462693035603},\n",
       "   {'word': 'roll', 'probability': 0.011534428223967552},\n",
       "   {'word': 'bowl', 'probability': 0.009455893188714981},\n",
       "   {'word': 'spicy', 'probability': 0.008074639365077019},\n",
       "   {'word': 'fish', 'probability': 0.005822213366627693},\n",
       "   {'word': 'pork', 'probability': 0.00540178595110774},\n",
       "   {'word': 'curry', 'probability': 0.0052587720565497875},\n",
       "   {'word': 'broth', 'probability': 0.0050453138537704945}],\n",
       "  'coherence': -3.1480318321006986},\n",
       " '5': {'topic': 'Mexican Food',\n",
       "  'details': [{'word': 'taco', 'probability': 0.03512655198574066},\n",
       "   {'word': 'salsa', 'probability': 0.012992270290851593},\n",
       "   {'word': 'burrito', 'probability': 0.011614605784416199},\n",
       "   {'word': 'bean', 'probability': 0.011575656943023205},\n",
       "   {'word': 'thai', 'probability': 0.01035618782043457},\n",
       "   {'word': 'chip', 'probability': 0.0101483054459095},\n",
       "   {'word': 'mexican', 'probability': 0.009874682873487473},\n",
       "   {'word': 'carne_asada', 'probability': 0.009679033420979977},\n",
       "   {'word': 'spring_roll', 'probability': 0.0094137629494071},\n",
       "   {'word': 'chip_salsa', 'probability': 0.009179324842989445}],\n",
       "  'coherence': -3.4739081056862724},\n",
       " '6': {'topic': 'Customer Experience',\n",
       "  'details': [{'word': 'told', 'probability': 0.007950498722493649},\n",
       "   {'word': 'manager', 'probability': 0.005380052141845226},\n",
       "   {'word': 'waitress', 'probability': 0.0050074378959834576},\n",
       "   {'word': 'left', 'probability': 0.004569946322590113},\n",
       "   {'word': 'business', 'probability': 0.004126376006752253},\n",
       "   {'word': 'away', 'probability': 0.004016011022031307},\n",
       "   {'word': 'walked', 'probability': 0.0039047235623002052},\n",
       "   {'word': 'waiting', 'probability': 0.0038165543228387833},\n",
       "   {'word': 'owner', 'probability': 0.0037917131558060646},\n",
       "   {'word': 'looked', 'probability': 0.003624982899054885}],\n",
       "  'coherence': -3.9260810581322985},\n",
       " '7': {'topic': 'Fast Food',\n",
       "  'details': [{'word': 'burger', 'probability': 0.02531706914305687},\n",
       "   {'word': 'breakfast', 'probability': 0.02006293088197708},\n",
       "   {'word': 'egg', 'probability': 0.012247620150446892},\n",
       "   {'word': 'bacon', 'probability': 0.012133833952248096},\n",
       "   {'word': 'drive_thru', 'probability': 0.011218423023819923},\n",
       "   {'word': 'toast', 'probability': 0.009112813510000706},\n",
       "   {'word': 'brunch', 'probability': 0.00903615728020668},\n",
       "   {'word': 'french_toast', 'probability': 0.007890013977885246},\n",
       "   {'word': 'potato', 'probability': 0.0067621078342199326},\n",
       "   {'word': 'pancake', 'probability': 0.006725677754729986}],\n",
       "  'coherence': -4.0798421798801705},\n",
       " '8': {'topic': 'Happy Hour',\n",
       "  'details': [{'word': 'happy_hour', 'probability': 0.040195662528276443},\n",
       "   {'word': 'sandwich', 'probability': 0.033068493008613586},\n",
       "   {'word': 'beer', 'probability': 0.010414119809865952},\n",
       "   {'word': 'five_star', 'probability': 0.009639730677008629},\n",
       "   {'word': 'pulled_pork', 'probability': 0.007542842999100685},\n",
       "   {'word': 'bread', 'probability': 0.007058502174913883},\n",
       "   {'word': 'wine', 'probability': 0.005595169495791197},\n",
       "   {'word': 'turkey', 'probability': 0.004255170933902264},\n",
       "   {'word': 'five', 'probability': 0.004185828845947981},\n",
       "   {'word': 'corned_beef', 'probability': 0.004100863356143236}],\n",
       "  'coherence': -4.456982057419593}}"
      ]
     },
     "execution_count": 25,
     "metadata": {},
     "output_type": "execute_result"
    }
   ],
   "source": [
    "top_labels"
   ]
  },
  {
   "cell_type": "code",
   "execution_count": 26,
   "metadata": {
    "scrolled": true
   },
   "outputs": [],
   "source": [
    "topics = db['topic'] #Create new collection named topic in the database\n",
    "for key in top_labels.keys(): #Insert each key as a new document to Mongodb\n",
    "    topics.insert_one(top_labels[key])"
   ]
  },
  {
   "cell_type": "markdown",
   "metadata": {},
   "source": [
    "## Save Model"
   ]
  },
  {
   "cell_type": "code",
   "execution_count": 27,
   "metadata": {},
   "outputs": [],
   "source": [
    "from gensim.test.utils import datapath\n",
    "\n",
    "# Save model to disk.\n",
    "model.save('Models/LDA_model')\n",
    "\n",
    "# Load a potentially pretrained model from disk.\n",
    "model = LdaModel.load('Models/LDA_model')"
   ]
  },
  {
   "cell_type": "markdown",
   "metadata": {},
   "source": [
    "## Test Model on Unseen Data "
   ]
  },
  {
   "cell_type": "code",
   "execution_count": 28,
   "metadata": {},
   "outputs": [],
   "source": [
    "# Create a new corpus, made of previously unseen documents.\n",
    "other_texts = [\n",
    "['taco', 'with', 'salsa'],\n",
    "['taco', 'mexican', 'burrito', 'wife'],\n",
    "['tortilla', 'chips', 'saturday']\n",
    "]\n",
    "other_corpus = [dictionary.doc2bow(text) for text in other_texts]\n",
    "\n",
    "unseen_doc = other_corpus[0]\n",
    "\n",
    "vector = model[unseen_doc]  # get topic probability distribution for a document"
   ]
  },
  {
   "cell_type": "code",
   "execution_count": 29,
   "metadata": {},
   "outputs": [],
   "source": [
    "#Update the model by incrementally training on the new corpus\n",
    "model.update(other_corpus)\n",
    "vector = model[unseen_doc]"
   ]
  },
  {
   "cell_type": "code",
   "execution_count": 30,
   "metadata": {},
   "outputs": [
    {
     "name": "stdout",
     "output_type": "stream",
     "text": [
      "Probabilities of belonging to each Topic:  [(0, 0.020468578), (1, 0.018489294), (2, 0.016610784), (3, 0.01959241), (4, 0.023518225), (5, 0.8391875), (6, 0.030798083), (7, 0.016047796), (8, 0.015287285)]\n",
      "\n",
      "\n",
      "The given document belongs to the Topic:  Mexican Food\n"
     ]
    }
   ],
   "source": [
    "print(\"Probabilities of belonging to each Topic: \", vector) #Show the probability to belong to each topic\n",
    "\n",
    "\n",
    "vector.sort(key = lambda x: x[1],reverse=True)\n",
    "\n",
    "max_index = str(vector[0][0]) # Get topic index with highest probability\n",
    "\n",
    "print(\"\\n\\nThe given document belongs to the Topic: \", top_labels[max_index][\"topic\"])"
   ]
  },
  {
   "cell_type": "markdown",
   "metadata": {},
   "source": [
    "## Conclusion\n",
    "Our model was able to predict a document belonging to a topic well. The model has also given us 9 topics that are relevant to any restaurant business. "
   ]
  }
 ],
 "metadata": {
  "kernelspec": {
   "display_name": "Python 3",
   "language": "python",
   "name": "python3"
  },
  "language_info": {
   "codemirror_mode": {
    "name": "ipython",
    "version": 3
   },
   "file_extension": ".py",
   "mimetype": "text/x-python",
   "name": "python",
   "nbconvert_exporter": "python",
   "pygments_lexer": "ipython3",
   "version": "3.7.5"
  }
 },
 "nbformat": 4,
 "nbformat_minor": 2
}
